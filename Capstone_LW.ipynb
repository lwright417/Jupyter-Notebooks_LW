{
 "cells": [
  {
   "cell_type": "code",
   "execution_count": 1,
   "metadata": {},
   "outputs": [],
   "source": [
    "# Start by uploading some libraries we might need"
   ]
  },
  {
   "cell_type": "code",
   "execution_count": 2,
   "metadata": {},
   "outputs": [],
   "source": [
    "import numpy as np\n",
    "import pandas as pd\n",
    "import matplotlib as mpl\n",
    "import matplotlib.pyplot as plt\n",
    "import seaborn as sns "
   ]
  },
  {
   "cell_type": "code",
   "execution_count": 3,
   "metadata": {},
   "outputs": [],
   "source": [
    "# Upload data"
   ]
  },
  {
   "cell_type": "code",
   "execution_count": 4,
   "metadata": {},
   "outputs": [
    {
     "data": {
      "text/html": [
       "<div>\n",
       "<style scoped>\n",
       "    .dataframe tbody tr th:only-of-type {\n",
       "        vertical-align: middle;\n",
       "    }\n",
       "\n",
       "    .dataframe tbody tr th {\n",
       "        vertical-align: top;\n",
       "    }\n",
       "\n",
       "    .dataframe thead th {\n",
       "        text-align: right;\n",
       "    }\n",
       "</style>\n",
       "<table border=\"1\" class=\"dataframe\">\n",
       "  <thead>\n",
       "    <tr style=\"text-align: right;\">\n",
       "      <th></th>\n",
       "      <th>ProductName</th>\n",
       "      <th>Price</th>\n",
       "      <th>BrandName</th>\n",
       "      <th>ProductCategory</th>\n",
       "      <th>SuperCategory</th>\n",
       "      <th>Retailer</th>\n",
       "      <th>Description</th>\n",
       "      <th>StyleAttributes</th>\n",
       "      <th>TotalSizes</th>\n",
       "      <th>AvailSize</th>\n",
       "      <th>Color</th>\n",
       "      <th>Rating</th>\n",
       "    </tr>\n",
       "  </thead>\n",
       "  <tbody>\n",
       "    <tr>\n",
       "      <th>0</th>\n",
       "      <td>Aerie Adjustable Low-Back Strap</td>\n",
       "      <td>11</td>\n",
       "      <td>Aerie</td>\n",
       "      <td>Strapless Bra</td>\n",
       "      <td>Bras</td>\n",
       "      <td>American Eagle</td>\n",
       "      <td>Quick Fixes® Collection: Endless options for e...</td>\n",
       "      <td>[\"2 sets of straps included: 1 nude, 1 black\",...</td>\n",
       "      <td>[\"One Size\"]</td>\n",
       "      <td>[\"One Size\"]</td>\n",
       "      <td>Multi</td>\n",
       "      <td>3.0</td>\n",
       "    </tr>\n",
       "    <tr>\n",
       "      <th>1</th>\n",
       "      <td>Aerie Adjustable Low-Back Strap</td>\n",
       "      <td>11</td>\n",
       "      <td>Aerie</td>\n",
       "      <td>Strapless Bra</td>\n",
       "      <td>Bras</td>\n",
       "      <td>American Eagle</td>\n",
       "      <td>Quick Fixes® Collection: Endless options for e...</td>\n",
       "      <td>[\"2 sets of straps included: 1 nude, 1 black\",...</td>\n",
       "      <td>[\"One Size\"]</td>\n",
       "      <td>[\"One Size\"]</td>\n",
       "      <td>Multi</td>\n",
       "      <td>3.0</td>\n",
       "    </tr>\n",
       "    <tr>\n",
       "      <th>2</th>\n",
       "      <td>Aerie Adjustable Low-Back Strap</td>\n",
       "      <td>11</td>\n",
       "      <td>Aerie</td>\n",
       "      <td>Strapless Bra</td>\n",
       "      <td>Bras</td>\n",
       "      <td>American Eagle</td>\n",
       "      <td>Quick Fixes® Collection: Endless options for e...</td>\n",
       "      <td>[\"2 sets of straps included: 1 nude, 1 black\",...</td>\n",
       "      <td>[\"One Size\"]</td>\n",
       "      <td>[\"One Size\"]</td>\n",
       "      <td>Multi</td>\n",
       "      <td>3.0</td>\n",
       "    </tr>\n",
       "    <tr>\n",
       "      <th>3</th>\n",
       "      <td>Aerie Adjustable Low-Back Strap</td>\n",
       "      <td>11</td>\n",
       "      <td>Aerie</td>\n",
       "      <td>Strapless Bra</td>\n",
       "      <td>Bras</td>\n",
       "      <td>American Eagle</td>\n",
       "      <td>Quick Fixes® Collection: Endless options for e...</td>\n",
       "      <td>[\"2 sets of straps included: 1 nude, 1 black\",...</td>\n",
       "      <td>[\"One Size\"]</td>\n",
       "      <td>[\"One Size\"]</td>\n",
       "      <td>Multi</td>\n",
       "      <td>3.0</td>\n",
       "    </tr>\n",
       "    <tr>\n",
       "      <th>4</th>\n",
       "      <td>Aerie Adjustable Low-Back Strap</td>\n",
       "      <td>11</td>\n",
       "      <td>Aerie</td>\n",
       "      <td>Strapless Bra</td>\n",
       "      <td>Bras</td>\n",
       "      <td>American Eagle</td>\n",
       "      <td>Quick Fixes® Collection: Endless options for e...</td>\n",
       "      <td>[\"2 sets of straps included: 1 nude, 1 black\",...</td>\n",
       "      <td>[\"One Size\"]</td>\n",
       "      <td>[\"One Size\"]</td>\n",
       "      <td>Multi</td>\n",
       "      <td>3.0</td>\n",
       "    </tr>\n",
       "  </tbody>\n",
       "</table>\n",
       "</div>"
      ],
      "text/plain": [
       "                       ProductName  Price BrandName ProductCategory  \\\n",
       "0  Aerie Adjustable Low-Back Strap     11     Aerie   Strapless Bra   \n",
       "1  Aerie Adjustable Low-Back Strap     11     Aerie   Strapless Bra   \n",
       "2  Aerie Adjustable Low-Back Strap     11     Aerie   Strapless Bra   \n",
       "3  Aerie Adjustable Low-Back Strap     11     Aerie   Strapless Bra   \n",
       "4  Aerie Adjustable Low-Back Strap     11     Aerie   Strapless Bra   \n",
       "\n",
       "  SuperCategory        Retailer  \\\n",
       "0          Bras  American Eagle   \n",
       "1          Bras  American Eagle   \n",
       "2          Bras  American Eagle   \n",
       "3          Bras  American Eagle   \n",
       "4          Bras  American Eagle   \n",
       "\n",
       "                                         Description  \\\n",
       "0  Quick Fixes® Collection: Endless options for e...   \n",
       "1  Quick Fixes® Collection: Endless options for e...   \n",
       "2  Quick Fixes® Collection: Endless options for e...   \n",
       "3  Quick Fixes® Collection: Endless options for e...   \n",
       "4  Quick Fixes® Collection: Endless options for e...   \n",
       "\n",
       "                                     StyleAttributes    TotalSizes  \\\n",
       "0  [\"2 sets of straps included: 1 nude, 1 black\",...  [\"One Size\"]   \n",
       "1  [\"2 sets of straps included: 1 nude, 1 black\",...  [\"One Size\"]   \n",
       "2  [\"2 sets of straps included: 1 nude, 1 black\",...  [\"One Size\"]   \n",
       "3  [\"2 sets of straps included: 1 nude, 1 black\",...  [\"One Size\"]   \n",
       "4  [\"2 sets of straps included: 1 nude, 1 black\",...  [\"One Size\"]   \n",
       "\n",
       "      AvailSize  Color  Rating  \n",
       "0  [\"One Size\"]  Multi     3.0  \n",
       "1  [\"One Size\"]  Multi     3.0  \n",
       "2  [\"One Size\"]  Multi     3.0  \n",
       "3  [\"One Size\"]  Multi     3.0  \n",
       "4  [\"One Size\"]  Multi     3.0  "
      ]
     },
     "execution_count": 4,
     "metadata": {},
     "output_type": "execute_result"
    }
   ],
   "source": [
    "lingerieData = pd.read_csv(\"Lingerie_Data.csv\")\n",
    "lingerieData.head()"
   ]
  },
  {
   "cell_type": "code",
   "execution_count": 5,
   "metadata": {},
   "outputs": [
    {
     "name": "stdout",
     "output_type": "stream",
     "text": [
      "<class 'pandas.core.frame.DataFrame'>\n",
      "RangeIndex: 46729 entries, 0 to 46728\n",
      "Data columns (total 12 columns):\n",
      "ProductName        46729 non-null object\n",
      "Price              46729 non-null int64\n",
      "BrandName          46729 non-null object\n",
      "ProductCategory    46729 non-null object\n",
      "SuperCategory      46729 non-null object\n",
      "Retailer           46729 non-null object\n",
      "Description        46729 non-null object\n",
      "StyleAttributes    46729 non-null object\n",
      "TotalSizes         46729 non-null object\n",
      "AvailSize          46729 non-null object\n",
      "Color              46729 non-null object\n",
      "Rating             26823 non-null float64\n",
      "dtypes: float64(1), int64(1), object(10)\n",
      "memory usage: 4.3+ MB\n"
     ]
    }
   ],
   "source": [
    "lingerieData.info()"
   ]
  },
  {
   "cell_type": "code",
   "execution_count": 6,
   "metadata": {},
   "outputs": [
    {
     "data": {
      "text/html": [
       "<div>\n",
       "<style scoped>\n",
       "    .dataframe tbody tr th:only-of-type {\n",
       "        vertical-align: middle;\n",
       "    }\n",
       "\n",
       "    .dataframe tbody tr th {\n",
       "        vertical-align: top;\n",
       "    }\n",
       "\n",
       "    .dataframe thead th {\n",
       "        text-align: right;\n",
       "    }\n",
       "</style>\n",
       "<table border=\"1\" class=\"dataframe\">\n",
       "  <thead>\n",
       "    <tr style=\"text-align: right;\">\n",
       "      <th></th>\n",
       "      <th>Price</th>\n",
       "      <th>Rating</th>\n",
       "    </tr>\n",
       "  </thead>\n",
       "  <tbody>\n",
       "    <tr>\n",
       "      <th>count</th>\n",
       "      <td>46729.000000</td>\n",
       "      <td>26823.000000</td>\n",
       "    </tr>\n",
       "    <tr>\n",
       "      <th>mean</th>\n",
       "      <td>22.380042</td>\n",
       "      <td>4.458606</td>\n",
       "    </tr>\n",
       "    <tr>\n",
       "      <th>std</th>\n",
       "      <td>12.633729</td>\n",
       "      <td>0.689297</td>\n",
       "    </tr>\n",
       "    <tr>\n",
       "      <th>min</th>\n",
       "      <td>4.000000</td>\n",
       "      <td>1.000000</td>\n",
       "    </tr>\n",
       "    <tr>\n",
       "      <th>25%</th>\n",
       "      <td>13.000000</td>\n",
       "      <td>4.100000</td>\n",
       "    </tr>\n",
       "    <tr>\n",
       "      <th>50%</th>\n",
       "      <td>20.000000</td>\n",
       "      <td>4.700000</td>\n",
       "    </tr>\n",
       "    <tr>\n",
       "      <th>75%</th>\n",
       "      <td>30.000000</td>\n",
       "      <td>5.000000</td>\n",
       "    </tr>\n",
       "    <tr>\n",
       "      <th>max</th>\n",
       "      <td>82.000000</td>\n",
       "      <td>5.000000</td>\n",
       "    </tr>\n",
       "  </tbody>\n",
       "</table>\n",
       "</div>"
      ],
      "text/plain": [
       "              Price        Rating\n",
       "count  46729.000000  26823.000000\n",
       "mean      22.380042      4.458606\n",
       "std       12.633729      0.689297\n",
       "min        4.000000      1.000000\n",
       "25%       13.000000      4.100000\n",
       "50%       20.000000      4.700000\n",
       "75%       30.000000      5.000000\n",
       "max       82.000000      5.000000"
      ]
     },
     "execution_count": 6,
     "metadata": {},
     "output_type": "execute_result"
    }
   ],
   "source": [
    "lingerieData.describe()"
   ]
  },
  {
   "cell_type": "code",
   "execution_count": 7,
   "metadata": {},
   "outputs": [
    {
     "name": "stdout",
     "output_type": "stream",
     "text": [
      "ProductName            0\n",
      "Price                  0\n",
      "BrandName              0\n",
      "ProductCategory        0\n",
      "SuperCategory          0\n",
      "Retailer               0\n",
      "Description            0\n",
      "StyleAttributes        0\n",
      "TotalSizes             0\n",
      "AvailSize              0\n",
      "Color                  0\n",
      "Rating             19906\n",
      "dtype: int64\n"
     ]
    }
   ],
   "source": [
    "# I know there are NA's, though, so let's give them a value\n",
    "# Find them first\n",
    "print(lingerieData.isnull().sum())"
   ]
  },
  {
   "cell_type": "code",
   "execution_count": 8,
   "metadata": {},
   "outputs": [],
   "source": [
    "# Rating and ReviewCount have NaN's, as I expected.\n",
    "# Rather than have a ton of product with no reviews, let's fill in with mean values\n",
    "# Choosing to do this because NaN's mean only that customers haven't reviewed the items\n",
    "# Does not mean there is no sentiment from customers regarding product\n",
    "# Let's be honest, women have definite feelings about their lingerie!"
   ]
  },
  {
   "cell_type": "code",
   "execution_count": 9,
   "metadata": {},
   "outputs": [],
   "source": [
    "# Replace NaN's with mean column values\n",
    "lingerieData.fillna(lingerieData.Rating.mean(), inplace=True)"
   ]
  },
  {
   "cell_type": "code",
   "execution_count": 10,
   "metadata": {},
   "outputs": [
    {
     "name": "stdout",
     "output_type": "stream",
     "text": [
      "ProductName        0\n",
      "Price              0\n",
      "BrandName          0\n",
      "ProductCategory    0\n",
      "SuperCategory      0\n",
      "Retailer           0\n",
      "Description        0\n",
      "StyleAttributes    0\n",
      "TotalSizes         0\n",
      "AvailSize          0\n",
      "Color              0\n",
      "Rating             0\n",
      "dtype: int64\n"
     ]
    }
   ],
   "source": [
    "# Check for NaN's\n",
    "print(lingerieData.isnull().sum())"
   ]
  },
  {
   "cell_type": "code",
   "execution_count": 11,
   "metadata": {},
   "outputs": [
    {
     "data": {
      "text/html": [
       "<div>\n",
       "<style scoped>\n",
       "    .dataframe tbody tr th:only-of-type {\n",
       "        vertical-align: middle;\n",
       "    }\n",
       "\n",
       "    .dataframe tbody tr th {\n",
       "        vertical-align: top;\n",
       "    }\n",
       "\n",
       "    .dataframe thead th {\n",
       "        text-align: right;\n",
       "    }\n",
       "</style>\n",
       "<table border=\"1\" class=\"dataframe\">\n",
       "  <thead>\n",
       "    <tr style=\"text-align: right;\">\n",
       "      <th></th>\n",
       "      <th>Price</th>\n",
       "      <th>Rating</th>\n",
       "    </tr>\n",
       "  </thead>\n",
       "  <tbody>\n",
       "    <tr>\n",
       "      <th>count</th>\n",
       "      <td>46729.000000</td>\n",
       "      <td>46729.000000</td>\n",
       "    </tr>\n",
       "    <tr>\n",
       "      <th>mean</th>\n",
       "      <td>22.380042</td>\n",
       "      <td>4.458606</td>\n",
       "    </tr>\n",
       "    <tr>\n",
       "      <th>std</th>\n",
       "      <td>12.633729</td>\n",
       "      <td>0.522232</td>\n",
       "    </tr>\n",
       "    <tr>\n",
       "      <th>min</th>\n",
       "      <td>4.000000</td>\n",
       "      <td>1.000000</td>\n",
       "    </tr>\n",
       "    <tr>\n",
       "      <th>25%</th>\n",
       "      <td>13.000000</td>\n",
       "      <td>4.458606</td>\n",
       "    </tr>\n",
       "    <tr>\n",
       "      <th>50%</th>\n",
       "      <td>20.000000</td>\n",
       "      <td>4.458606</td>\n",
       "    </tr>\n",
       "    <tr>\n",
       "      <th>75%</th>\n",
       "      <td>30.000000</td>\n",
       "      <td>4.800000</td>\n",
       "    </tr>\n",
       "    <tr>\n",
       "      <th>max</th>\n",
       "      <td>82.000000</td>\n",
       "      <td>5.000000</td>\n",
       "    </tr>\n",
       "  </tbody>\n",
       "</table>\n",
       "</div>"
      ],
      "text/plain": [
       "              Price        Rating\n",
       "count  46729.000000  46729.000000\n",
       "mean      22.380042      4.458606\n",
       "std       12.633729      0.522232\n",
       "min        4.000000      1.000000\n",
       "25%       13.000000      4.458606\n",
       "50%       20.000000      4.458606\n",
       "75%       30.000000      4.800000\n",
       "max       82.000000      5.000000"
      ]
     },
     "execution_count": 11,
     "metadata": {},
     "output_type": "execute_result"
    }
   ],
   "source": [
    "# Check values now\n",
    "lingerieData.describe()"
   ]
  },
  {
   "cell_type": "code",
   "execution_count": 12,
   "metadata": {},
   "outputs": [
    {
     "data": {
      "text/plain": [
       "ProductCategory\n",
       "Balconette Bra         168\n",
       "Bandeau                730\n",
       "Bikini                4045\n",
       "Boybrief              6055\n",
       "Boyshort              3795\n",
       "Bralette              8813\n",
       "Brief                 1090\n",
       "Demi Bra               750\n",
       "Full Coverage Bra      567\n",
       "G-String               190\n",
       "Hipster               1242\n",
       "Lightly Lined Bra      936\n",
       "Pushup Bra            2024\n",
       "Strapless Bra          215\n",
       "Tanga                 2005\n",
       "Thong                12254\n",
       "Unlined Bra           1493\n",
       "Wireless Bra           357\n",
       "Name: ProductCategory, dtype: int64"
      ]
     },
     "execution_count": 12,
     "metadata": {},
     "output_type": "execute_result"
    }
   ],
   "source": [
    "# Let's do some basic EDA\n",
    "# Number of items in each Product Category\n",
    "lingerieData.groupby('ProductCategory')['ProductCategory'].count()"
   ]
  },
  {
   "cell_type": "code",
   "execution_count": 22,
   "metadata": {},
   "outputs": [],
   "source": [
    "# Thongs have the most offerings in panties\n",
    "# Bralettes have the most options in bras"
   ]
  },
  {
   "cell_type": "code",
   "execution_count": 23,
   "metadata": {},
   "outputs": [
    {
     "data": {
      "text/plain": [
       "<seaborn.axisgrid.FacetGrid at 0x1a12283d30>"
      ]
     },
     "execution_count": 23,
     "metadata": {},
     "output_type": "execute_result"
    },
    {
     "data": {
      "image/png": "[encoded data removed]",
      "text/plain": [
       "<matplotlib.figure.Figure at 0x1a1228e128>"
      ]
     },
     "metadata": {},
     "output_type": "display_data"
    }
   ],
   "source": [
    "# Let's use seaborn to plot the count of items in each Product Category \n",
    "fg = sns.factorplot('ProductCategory', data=lingerieData, kind='count', aspect=5)\n",
    "fg.set_xlabels('ProductCategory')"
   ]
  },
  {
   "cell_type": "code",
   "execution_count": 24,
   "metadata": {},
   "outputs": [
    {
     "data": {
      "text/plain": [
       "BrandName\n",
       "Aerie           24009\n",
       "Calvin Klein     2711\n",
       "HankyPanky      17888\n",
       "Wacoal           2121\n",
       "Name: BrandName, dtype: int64"
      ]
     },
     "execution_count": 24,
     "metadata": {},
     "output_type": "execute_result"
    }
   ],
   "source": [
    "# Let's see which brand has the highest number of unique items available\n",
    "lingerieData.groupby('BrandName')['BrandName'].count()"
   ]
  },
  {
   "cell_type": "code",
   "execution_count": 25,
   "metadata": {},
   "outputs": [],
   "source": [
    "# AERIE wins"
   ]
  },
  {
   "cell_type": "code",
   "execution_count": 26,
   "metadata": {},
   "outputs": [
    {
     "data": {
      "text/plain": [
       "<seaborn.axisgrid.FacetGrid at 0x1a10f26160>"
      ]
     },
     "execution_count": 26,
     "metadata": {},
     "output_type": "execute_result"
    },
    {
     "data": {
      "image/png": "[encoded data removed]",
      "text/plain": [
       "<matplotlib.figure.Figure at 0x1a11b08550>"
      ]
     },
     "metadata": {},
     "output_type": "display_data"
    }
   ],
   "source": [
    "# Let's plot that\n",
    "sns.factorplot('BrandName', data=lingerieData, kind='count', aspect=5)"
   ]
  },
  {
   "cell_type": "code",
   "execution_count": 27,
   "metadata": {},
   "outputs": [
    {
     "data": {
      "text/plain": [
       "BrandName     ProductCategory  \n",
       "Aerie         Bandeau               655\n",
       "              Bikini               1071\n",
       "              Boybrief             6055\n",
       "              Boyshort              717\n",
       "              Bralette             5503\n",
       "              Demi Bra              506\n",
       "              Full Coverage Bra     370\n",
       "              Lightly Lined Bra     936\n",
       "              Pushup Bra           1822\n",
       "              Strapless Bra         172\n",
       "              Tanga                1891\n",
       "              Thong                2608\n",
       "              Unlined Bra          1368\n",
       "              Wireless Bra          335\n",
       "Calvin Klein  Bandeau                 1\n",
       "              Bikini                519\n",
       "              Boyshort               61\n",
       "              Bralette              401\n",
       "              Demi Bra              166\n",
       "              Full Coverage Bra      74\n",
       "              Hipster               630\n",
       "              Pushup Bra            130\n",
       "              Tanga                   8\n",
       "              Thong                 654\n",
       "              Unlined Bra            63\n",
       "              Wireless Bra            4\n",
       "HankyPanky    Bandeau                17\n",
       "              Bikini               2032\n",
       "              Boyshort             2970\n",
       "              Bralette             2585\n",
       "              Brief                1090\n",
       "              Demi Bra               62\n",
       "              G-String              190\n",
       "              Hipster               397\n",
       "              Thong                8489\n",
       "              Unlined Bra            38\n",
       "              Wireless Bra           18\n",
       "Wacoal        Balconette Bra        168\n",
       "              Bandeau                57\n",
       "              Bikini                423\n",
       "              Boyshort               47\n",
       "              Bralette              324\n",
       "              Demi Bra               16\n",
       "              Full Coverage Bra     123\n",
       "              Hipster               215\n",
       "              Pushup Bra             72\n",
       "              Strapless Bra          43\n",
       "              Tanga                 106\n",
       "              Thong                 503\n",
       "              Unlined Bra            24\n",
       "Name: BrandName, dtype: int64"
      ]
     },
     "execution_count": 27,
     "metadata": {},
     "output_type": "execute_result"
    }
   ],
   "source": [
    "# Let's combine that\n",
    "# Number of product in each brand \n",
    "lingerieData.groupby(['BrandName', 'ProductCategory'])['BrandName'].count()"
   ]
  },
  {
   "cell_type": "code",
   "execution_count": 28,
   "metadata": {},
   "outputs": [
    {
     "data": {
      "text/plain": [
       "<seaborn.axisgrid.FacetGrid at 0x1a11c5b3c8>"
      ]
     },
     "execution_count": 28,
     "metadata": {},
     "output_type": "execute_result"
    },
    {
     "data": {
      "image/png": "[encoded data removed]",
      "text/plain": [
       "<matplotlib.figure.Figure at 0x1a11b016d8>"
      ]
     },
     "metadata": {},
     "output_type": "display_data"
    }
   ],
   "source": [
    "# And illustrate that as a chart\n",
    "g = sns.factorplot('BrandName', data=lingerieData, hue='ProductCategory', kind='count', aspect=3)\n",
    "g.set_xlabels('ProductCategory')"
   ]
  },
  {
   "cell_type": "code",
   "execution_count": 29,
   "metadata": {},
   "outputs": [
    {
     "data": {
      "text/plain": [
       "BrandName  ProductCategory    ProductName                                       \n",
       "Aerie      Bandeau            Aerie Boho Bandeau                                      52\n",
       "                              Happy Unlined Bandeau Bra                              297\n",
       "                              Sunnie Unlined Bandeau Bra                             306\n",
       "           Bikini             Aerie Bikini                                           460\n",
       "                              Aerie Everyday Loves Lace Bikini                        97\n",
       "                              Aerie Hi-Leg Bikini                                    157\n",
       "                              Aerie Logo Bikini                                        7\n",
       "                              Aerie Shine Bikini + Boho Lace                         221\n",
       "                              Aerie String Bikini                                    129\n",
       "           Boybrief           Aerie Boybrief                                        2315\n",
       "                              Aerie Everyday Loves Lace Boybrief                     450\n",
       "                              Aerie Graphic Boybrief                                  92\n",
       "                              Aerie Lace Hi-Rise Boybrief                            914\n",
       "                              Aerie Lace Sunnie Boybrief                             582\n",
       "                              Aerie Logo Boybrief                                    546\n",
       "                              Aerie Mesh Boybrief                                    240\n",
       "                              Aerie Pride Boybrief                                    18\n",
       "                              Aerie Seamless Boybrief                                573\n",
       "                              Aerie Shine Boybrief + Boho Lace                       298\n",
       "                              Aerie Sunnie Colorblock Boybrief                        27\n",
       "           Boyshort           Aerie Boyshort                                         263\n",
       "                              Aerie Everyday Loves Lace Boyshort                     152\n",
       "                              Aerie Shine Boyshort + Boho Lace                       302\n",
       "           Bralette           Aerie Boho Bandeau                                      28\n",
       "                              Aerie Boho Bralette + Mesh                             248\n",
       "                              Aerie Boho Halter Bralette                             374\n",
       "                              Aerie Boho Plunge Bralette                             285\n",
       "                              Aerie Boho Racerback Bralette                          491\n",
       "                              Aerie Classic Lace Bralette                            309\n",
       "                              Aerie Cutout Longline Bralette                         285\n",
       "                                                                                    ... \n",
       "Wacoal     Full Coverage Bra  b.provocative Underwire T-shirt Bra                     20\n",
       "                              b.splendid Underwire T-shirt Bra                        33\n",
       "           Hipster            b.adorable Hipster                                      20\n",
       "                              b.bare Hipster                                           3\n",
       "                              b.inspired Hipster                                      15\n",
       "                              b.splendid Hipster                                      34\n",
       "                              b.tempt'd Lace Kiss Hipster                            124\n",
       "                              b.tempt'd Most Desired Hipster                          19\n",
       "           Pushup Bra         b.inspired Underwire Push Up Bra                        13\n",
       "                              b.splendid Wire Free Push Up Bra                        16\n",
       "                              b.wow'd by b.tempt'd Push Up Bra                        43\n",
       "           Strapless Bra      b.delight’d by b.tempt'd Strapless Bra                  14\n",
       "                              b.enticing Underwire Strapless Bra                      10\n",
       "                              b.tempt'd Faithfully Yours Strapless Underwire Bra      19\n",
       "           Tanga              b.charming Tanga                                        21\n",
       "                              b.provocative Tanga                                     15\n",
       "                              b.tempt'd Ciao Bella Tanga Panty                        70\n",
       "           Thong              b.adorable Thong                                        32\n",
       "                              b.bare thong                                            12\n",
       "                              b.cherished Thong                                       19\n",
       "                              b.gorgeous Thong                                        21\n",
       "                              b.sleek Thong                                           65\n",
       "                              b.splendid thong                                        18\n",
       "                              b.sultry Thong                                         107\n",
       "                              b.tempt'd Ciao Bella Thong                              58\n",
       "                              b.tempt'd Lace Kiss Thong                              123\n",
       "                              b.tempt'd Most Desired Thong                            25\n",
       "                              b.tempt'd Wrap Star Thong                               23\n",
       "           Unlined Bra        b.provocative Underwire Bra                             13\n",
       "                              b.tempt'd Full Bloom Underwire Bra                      11\n",
       "Name: BrandName, Length: 643, dtype: int64"
      ]
     },
     "execution_count": 29,
     "metadata": {},
     "output_type": "execute_result"
    }
   ],
   "source": [
    "# Let's try some code to dig a little deeper\n",
    "# Break it down by product in each Category\n",
    "# Shows how many variations of each product name in each product category\n",
    "lingerieData.groupby(['BrandName', 'ProductCategory', 'ProductName'])['BrandName'].count()"
   ]
  },
  {
   "cell_type": "code",
   "execution_count": 30,
   "metadata": {},
   "outputs": [
    {
     "data": {
      "text/plain": [
       "<seaborn.axisgrid.FacetGrid at 0x1a11aa6780>"
      ]
     },
     "execution_count": 30,
     "metadata": {},
     "output_type": "execute_result"
    },
    {
     "data": {
      "image/png": "[encoded data removed]",
      "text/plain": [
       "<matplotlib.figure.Figure at 0x1a11aa6828>"
      ]
     },
     "metadata": {},
     "output_type": "display_data"
    }
   ],
   "source": [
    "# Let's try to factor plot this data\n",
    "fg = sns.factorplot('ProductCategory', data=lingerieData, kind='count', hue='ProductName', col='BrandName', hue_order=range(1,10),\n",
    "                 palette='Blues')\n",
    "fg.set_xlabels('Product Assortment')"
   ]
  },
  {
   "cell_type": "code",
   "execution_count": 31,
   "metadata": {},
   "outputs": [],
   "source": [
    "# Can't really see anything, too small\n",
    "# But it worked!"
   ]
  },
  {
   "cell_type": "code",
   "execution_count": 32,
   "metadata": {},
   "outputs": [
    {
     "data": {
      "text/html": [
       "<div>\n",
       "<style scoped>\n",
       "    .dataframe tbody tr th:only-of-type {\n",
       "        vertical-align: middle;\n",
       "    }\n",
       "\n",
       "    .dataframe tbody tr th {\n",
       "        vertical-align: top;\n",
       "    }\n",
       "\n",
       "    .dataframe thead th {\n",
       "        text-align: right;\n",
       "    }\n",
       "</style>\n",
       "<table border=\"1\" class=\"dataframe\">\n",
       "  <thead>\n",
       "    <tr style=\"text-align: right;\">\n",
       "      <th>ProductCategory</th>\n",
       "      <th>Balconette Bra</th>\n",
       "      <th>Bandeau</th>\n",
       "      <th>Bikini</th>\n",
       "      <th>Boybrief</th>\n",
       "      <th>Boyshort</th>\n",
       "      <th>Bralette</th>\n",
       "      <th>Brief</th>\n",
       "      <th>Demi Bra</th>\n",
       "      <th>Full Coverage Bra</th>\n",
       "      <th>G-String</th>\n",
       "      <th>Hipster</th>\n",
       "      <th>Lightly Lined Bra</th>\n",
       "      <th>Pushup Bra</th>\n",
       "      <th>Strapless Bra</th>\n",
       "      <th>Tanga</th>\n",
       "      <th>Thong</th>\n",
       "      <th>Unlined Bra</th>\n",
       "      <th>Wireless Bra</th>\n",
       "      <th>All</th>\n",
       "    </tr>\n",
       "    <tr>\n",
       "      <th>BrandName</th>\n",
       "      <th></th>\n",
       "      <th></th>\n",
       "      <th></th>\n",
       "      <th></th>\n",
       "      <th></th>\n",
       "      <th></th>\n",
       "      <th></th>\n",
       "      <th></th>\n",
       "      <th></th>\n",
       "      <th></th>\n",
       "      <th></th>\n",
       "      <th></th>\n",
       "      <th></th>\n",
       "      <th></th>\n",
       "      <th></th>\n",
       "      <th></th>\n",
       "      <th></th>\n",
       "      <th></th>\n",
       "      <th></th>\n",
       "    </tr>\n",
       "  </thead>\n",
       "  <tbody>\n",
       "    <tr>\n",
       "      <th>Aerie</th>\n",
       "      <td>None</td>\n",
       "      <td>[\"XS\", \"S\", \"M\", \"L\", \"XL\"][\"S\", \"M\", \"L\", \"XL...</td>\n",
       "      <td>[\"XS\", \"S\", \"M\", \"L\", \"XL\"][\"XS\", \"S\", \"M\", \"L...</td>\n",
       "      <td>[\"XS\", \"S\", \"M\", \"L\", \"XL\", \"XXL\"][\"XS\", \"S\", ...</td>\n",
       "      <td>[\"XXS\", \"XS\", \"S\", \"M\", \"L\", \"XL\", \"XXL\"][\"XXS...</td>\n",
       "      <td>[\"XS\", \"S\", \"M\", \"L\", \"XL\"][\"S\", \"M\", \"L\", \"XL...</td>\n",
       "      <td>None</td>\n",
       "      <td>[\"30A\", \"30B\", \"30C\", \"30D\", \"32AA\", \"32A\", \"3...</td>\n",
       "      <td>[\"30A\", \"30B\", \"30C\", \"30D\", \"32AA\", \"32A\", \"3...</td>\n",
       "      <td>None</td>\n",
       "      <td>None</td>\n",
       "      <td>[\"30B\", \"32DD\"][\"30C\", \"34C\", \"36DD\"][\"30A\", \"...</td>\n",
       "      <td>[\"A\", \"B\", \"C\", \"D\"][\"A\", \"B\", \"C\", \"D\"][\"A\", ...</td>\n",
       "      <td>[\"One Size\"][\"One Size\"][\"One Size\"][\"One Size...</td>\n",
       "      <td>[\"XS\", \"S\", \"M\", \"L\", \"XL\", \"XXL\"][\"L\", \"XL\", ...</td>\n",
       "      <td>[\"XS\", \"S\", \"M\", \"L\", \"XL\"][\"XS\", \"S\", \"M\", \"L...</td>\n",
       "      <td>[\"32A\", \"32B\", \"32C\", \"34A\", \"34B\", \"34C\", \"34...</td>\n",
       "      <td>[\"32A\", \"32B\", \"32C\", \"32D\", \"32DD\", \"34A\", \"3...</td>\n",
       "      <td>[\"One Size\"][\"One Size\"][\"One Size\"][\"One Size...</td>\n",
       "    </tr>\n",
       "    <tr>\n",
       "      <th>Calvin Klein</th>\n",
       "      <td>None</td>\n",
       "      <td>S, M</td>\n",
       "      <td>S, M, LS, M, LS, M, LMMS, M, LS, M, LS, M, LS,...</td>\n",
       "      <td>None</td>\n",
       "      <td>XS, M, XLXS, M, XLXS, M, XLXS, M, XLXS, M, XLX...</td>\n",
       "      <td>XS, S, XLXS, S, M, L, XLXS, S, M, L, XLXS, S, ...</td>\n",
       "      <td>None</td>\n",
       "      <td>30DD,32A,32B,32C,34B,36B,36C,36D30D,32C,32D,34...</td>\n",
       "      <td>32A,32D,34B,34C,36A,36B,36C,36D32D,36DD,38D32C...</td>\n",
       "      <td>None</td>\n",
       "      <td>S, M, LS, M, LS, M, LS, M, LS, M, LM, LS, MSS,...</td>\n",
       "      <td>None</td>\n",
       "      <td>34A,34B,36C,36D36D34A,34B,34C,34D,36C,36D36D32...</td>\n",
       "      <td>None</td>\n",
       "      <td>XS, S, M, L, XLXS, S, M, L, XLXS, S, M, L, XLM...</td>\n",
       "      <td>S, M, LS, MS, M, LS, M, LS, MS, M, LS, M, LS, ...</td>\n",
       "      <td>XS, S, M, XLXS, S, MXS, S, M, L, XLXS, S, M, X...</td>\n",
       "      <td>XS, S, M, L, XLXS, S, L, XLXS, S, M, L, XLXS, ...</td>\n",
       "      <td>XS, S, XLXS, S, M, L, XLXS, S, M, L, XLXS, S, ...</td>\n",
       "    </tr>\n",
       "    <tr>\n",
       "      <th>HankyPanky</th>\n",
       "      <td>None</td>\n",
       "      <td>[\"XS\", \"S\", \"M\", \"L\"][\"XS\", \"S\", \"M\", \"L\"][\"XS...</td>\n",
       "      <td>[\"S\", \"M\", \"L\"][\"S\", \"M\", \"L\"][\"S\", \"M\", \"L\"][...</td>\n",
       "      <td>None</td>\n",
       "      <td>[\"2X\", \"3X\"][\"2X\", \"3X\"][\"2X\", \"3X\"][\"2X\", \"3X...</td>\n",
       "      <td>[\"XS\", \"S\", \"M\"][\"XS\", \"S\", \"M\"][\"XS\", \"S\", \"M...</td>\n",
       "      <td>[\"XS\", \"S\", \"M\", \"L\"][\"XS\", \"S\", \"M\", \"L\"][\"XS...</td>\n",
       "      <td>[\"32B\", \"32C\", \"34A\", \"34B\", \"34C\", \"34D\", \"36...</td>\n",
       "      <td>None</td>\n",
       "      <td>[\"One Size\"][\"One Size\"][\"One Size\"][\"One Size...</td>\n",
       "      <td>[\"XS\", \"S\", \"M\", \"L\"][\"XS\", \"S\", \"M\", \"L\"][\"XS...</td>\n",
       "      <td>None</td>\n",
       "      <td>None</td>\n",
       "      <td>None</td>\n",
       "      <td>None</td>\n",
       "      <td>[\"One Size\"][\"One Size\"][\"One Size\"][\"One Size...</td>\n",
       "      <td>[\"XS\", \"S\"][\"XS\", \"S\"][\"XS\", \"S\"][\"XS\", \"S\"][\"...</td>\n",
       "      <td>[\"32B\", \"32C\", \"32D\", \"34A\", \"34B\", \"34C\", \"34...</td>\n",
       "      <td>[\"2X\", \"3X\"][\"2X\", \"3X\"][\"2X\", \"3X\"][\"2X\", \"3X...</td>\n",
       "    </tr>\n",
       "    <tr>\n",
       "      <th>Wacoal</th>\n",
       "      <td>32B,32C,32D,32DD,32DDD,34B,34C,34D,34DD,34DDD,...</td>\n",
       "      <td>S, M, L, XLS, M, L, XLS, M, L, XLS, M, L, XLS,...</td>\n",
       "      <td>S, M, L, XLS, M, L, XLS, M, L, XLS, M, L, XLS,...</td>\n",
       "      <td>None</td>\n",
       "      <td>S, M, L, XLS, M, L, XLS, M, L, XLS, M, L, XLS,...</td>\n",
       "      <td>S, M, L, XLS, M, L, XLS, M, L, XLS, M, L, XLS,...</td>\n",
       "      <td>None</td>\n",
       "      <td>32C,32D,32DD,32DDD,34B,34C,34D,34DD,34DDD,36B,...</td>\n",
       "      <td>30C,30D,30DD,30DDD,32B,32C,32D,32DD,32DDD,34B,...</td>\n",
       "      <td>None</td>\n",
       "      <td>S, M, L, XLS, M, L, XLS, M, L, XLS, M, L, XLS,...</td>\n",
       "      <td>None</td>\n",
       "      <td>30C,30D,30DD,32A,32B,32C,32D,32DD,34A,34B,34C,...</td>\n",
       "      <td>30C,30D,30DD,32B,32C,32D,32DD,32DDD,34B,34C,34...</td>\n",
       "      <td>S, M, L, XLS, M, L, XLS, M, L, XLS, M, L, XLS,...</td>\n",
       "      <td>S, M, L, XLS, M, L, XLS, M, L, XLS, M, L, XLS,...</td>\n",
       "      <td>32C,32D,32DD,32DDD,34B,34C,34D,34DD,34DDD,36B,...</td>\n",
       "      <td>None</td>\n",
       "      <td>S, M, L, XLS, M, L, XLS, M, L, XLS, M, L, XLS,...</td>\n",
       "    </tr>\n",
       "    <tr>\n",
       "      <th>All</th>\n",
       "      <td>32B,32C,32D,32DD,32DDD,34B,34C,34D,34DD,34DDD,...</td>\n",
       "      <td>[\"XS\", \"S\", \"M\", \"L\", \"XL\"][\"S\", \"M\", \"L\", \"XL...</td>\n",
       "      <td>[\"XS\", \"S\", \"M\", \"L\", \"XL\"][\"XS\", \"S\", \"M\", \"L...</td>\n",
       "      <td>[\"XS\", \"S\", \"M\", \"L\", \"XL\", \"XXL\"][\"XS\", \"S\", ...</td>\n",
       "      <td>[\"XXS\", \"XS\", \"S\", \"M\", \"L\", \"XL\", \"XXL\"][\"XXS...</td>\n",
       "      <td>[\"XS\", \"S\", \"M\", \"L\", \"XL\"][\"S\", \"M\", \"L\", \"XL...</td>\n",
       "      <td>[\"XS\", \"S\", \"M\", \"L\"][\"XS\", \"S\", \"M\", \"L\"][\"XS...</td>\n",
       "      <td>[\"30A\", \"30B\", \"30C\", \"30D\", \"32AA\", \"32A\", \"3...</td>\n",
       "      <td>[\"30A\", \"30B\", \"30C\", \"30D\", \"32AA\", \"32A\", \"3...</td>\n",
       "      <td>[\"One Size\"][\"One Size\"][\"One Size\"][\"One Size...</td>\n",
       "      <td>S, M, L, XLS, M, L, XLS, M, L, XLS, M, L, XLS,...</td>\n",
       "      <td>[\"30B\", \"32DD\"][\"30C\", \"34C\", \"36DD\"][\"30A\", \"...</td>\n",
       "      <td>[\"A\", \"B\", \"C\", \"D\"][\"A\", \"B\", \"C\", \"D\"][\"A\", ...</td>\n",
       "      <td>[\"One Size\"][\"One Size\"][\"One Size\"][\"One Size...</td>\n",
       "      <td>[\"XS\", \"S\", \"M\", \"L\", \"XL\", \"XXL\"][\"L\", \"XL\", ...</td>\n",
       "      <td>[\"XS\", \"S\", \"M\", \"L\", \"XL\"][\"XS\", \"S\", \"M\", \"L...</td>\n",
       "      <td>[\"32A\", \"32B\", \"32C\", \"34A\", \"34B\", \"34C\", \"34...</td>\n",
       "      <td>[\"32A\", \"32B\", \"32C\", \"32D\", \"32DD\", \"34A\", \"3...</td>\n",
       "      <td>[\"One Size\"][\"One Size\"][\"One Size\"][\"One Size...</td>\n",
       "    </tr>\n",
       "  </tbody>\n",
       "</table>\n",
       "</div>"
      ],
      "text/plain": [
       "ProductCategory                                     Balconette Bra  \\\n",
       "BrandName                                                            \n",
       "Aerie                                                         None   \n",
       "Calvin Klein                                                  None   \n",
       "HankyPanky                                                    None   \n",
       "Wacoal           32B,32C,32D,32DD,32DDD,34B,34C,34D,34DD,34DDD,...   \n",
       "All              32B,32C,32D,32DD,32DDD,34B,34C,34D,34DD,34DDD,...   \n",
       "\n",
       "ProductCategory                                            Bandeau  \\\n",
       "BrandName                                                            \n",
       "Aerie            [\"XS\", \"S\", \"M\", \"L\", \"XL\"][\"S\", \"M\", \"L\", \"XL...   \n",
       "Calvin Klein                                                  S, M   \n",
       "HankyPanky       [\"XS\", \"S\", \"M\", \"L\"][\"XS\", \"S\", \"M\", \"L\"][\"XS...   \n",
       "Wacoal           S, M, L, XLS, M, L, XLS, M, L, XLS, M, L, XLS,...   \n",
       "All              [\"XS\", \"S\", \"M\", \"L\", \"XL\"][\"S\", \"M\", \"L\", \"XL...   \n",
       "\n",
       "ProductCategory                                             Bikini  \\\n",
       "BrandName                                                            \n",
       "Aerie            [\"XS\", \"S\", \"M\", \"L\", \"XL\"][\"XS\", \"S\", \"M\", \"L...   \n",
       "Calvin Klein     S, M, LS, M, LS, M, LMMS, M, LS, M, LS, M, LS,...   \n",
       "HankyPanky       [\"S\", \"M\", \"L\"][\"S\", \"M\", \"L\"][\"S\", \"M\", \"L\"][...   \n",
       "Wacoal           S, M, L, XLS, M, L, XLS, M, L, XLS, M, L, XLS,...   \n",
       "All              [\"XS\", \"S\", \"M\", \"L\", \"XL\"][\"XS\", \"S\", \"M\", \"L...   \n",
       "\n",
       "ProductCategory                                           Boybrief  \\\n",
       "BrandName                                                            \n",
       "Aerie            [\"XS\", \"S\", \"M\", \"L\", \"XL\", \"XXL\"][\"XS\", \"S\", ...   \n",
       "Calvin Klein                                                  None   \n",
       "HankyPanky                                                    None   \n",
       "Wacoal                                                        None   \n",
       "All              [\"XS\", \"S\", \"M\", \"L\", \"XL\", \"XXL\"][\"XS\", \"S\", ...   \n",
       "\n",
       "ProductCategory                                           Boyshort  \\\n",
       "BrandName                                                            \n",
       "Aerie            [\"XXS\", \"XS\", \"S\", \"M\", \"L\", \"XL\", \"XXL\"][\"XXS...   \n",
       "Calvin Klein     XS, M, XLXS, M, XLXS, M, XLXS, M, XLXS, M, XLX...   \n",
       "HankyPanky       [\"2X\", \"3X\"][\"2X\", \"3X\"][\"2X\", \"3X\"][\"2X\", \"3X...   \n",
       "Wacoal           S, M, L, XLS, M, L, XLS, M, L, XLS, M, L, XLS,...   \n",
       "All              [\"XXS\", \"XS\", \"S\", \"M\", \"L\", \"XL\", \"XXL\"][\"XXS...   \n",
       "\n",
       "ProductCategory                                           Bralette  \\\n",
       "BrandName                                                            \n",
       "Aerie            [\"XS\", \"S\", \"M\", \"L\", \"XL\"][\"S\", \"M\", \"L\", \"XL...   \n",
       "Calvin Klein     XS, S, XLXS, S, M, L, XLXS, S, M, L, XLXS, S, ...   \n",
       "HankyPanky       [\"XS\", \"S\", \"M\"][\"XS\", \"S\", \"M\"][\"XS\", \"S\", \"M...   \n",
       "Wacoal           S, M, L, XLS, M, L, XLS, M, L, XLS, M, L, XLS,...   \n",
       "All              [\"XS\", \"S\", \"M\", \"L\", \"XL\"][\"S\", \"M\", \"L\", \"XL...   \n",
       "\n",
       "ProductCategory                                              Brief  \\\n",
       "BrandName                                                            \n",
       "Aerie                                                         None   \n",
       "Calvin Klein                                                  None   \n",
       "HankyPanky       [\"XS\", \"S\", \"M\", \"L\"][\"XS\", \"S\", \"M\", \"L\"][\"XS...   \n",
       "Wacoal                                                        None   \n",
       "All              [\"XS\", \"S\", \"M\", \"L\"][\"XS\", \"S\", \"M\", \"L\"][\"XS...   \n",
       "\n",
       "ProductCategory                                           Demi Bra  \\\n",
       "BrandName                                                            \n",
       "Aerie            [\"30A\", \"30B\", \"30C\", \"30D\", \"32AA\", \"32A\", \"3...   \n",
       "Calvin Klein     30DD,32A,32B,32C,34B,36B,36C,36D30D,32C,32D,34...   \n",
       "HankyPanky       [\"32B\", \"32C\", \"34A\", \"34B\", \"34C\", \"34D\", \"36...   \n",
       "Wacoal           32C,32D,32DD,32DDD,34B,34C,34D,34DD,34DDD,36B,...   \n",
       "All              [\"30A\", \"30B\", \"30C\", \"30D\", \"32AA\", \"32A\", \"3...   \n",
       "\n",
       "ProductCategory                                  Full Coverage Bra  \\\n",
       "BrandName                                                            \n",
       "Aerie            [\"30A\", \"30B\", \"30C\", \"30D\", \"32AA\", \"32A\", \"3...   \n",
       "Calvin Klein     32A,32D,34B,34C,36A,36B,36C,36D32D,36DD,38D32C...   \n",
       "HankyPanky                                                    None   \n",
       "Wacoal           30C,30D,30DD,30DDD,32B,32C,32D,32DD,32DDD,34B,...   \n",
       "All              [\"30A\", \"30B\", \"30C\", \"30D\", \"32AA\", \"32A\", \"3...   \n",
       "\n",
       "ProductCategory                                           G-String  \\\n",
       "BrandName                                                            \n",
       "Aerie                                                         None   \n",
       "Calvin Klein                                                  None   \n",
       "HankyPanky       [\"One Size\"][\"One Size\"][\"One Size\"][\"One Size...   \n",
       "Wacoal                                                        None   \n",
       "All              [\"One Size\"][\"One Size\"][\"One Size\"][\"One Size...   \n",
       "\n",
       "ProductCategory                                            Hipster  \\\n",
       "BrandName                                                            \n",
       "Aerie                                                         None   \n",
       "Calvin Klein     S, M, LS, M, LS, M, LS, M, LS, M, LM, LS, MSS,...   \n",
       "HankyPanky       [\"XS\", \"S\", \"M\", \"L\"][\"XS\", \"S\", \"M\", \"L\"][\"XS...   \n",
       "Wacoal           S, M, L, XLS, M, L, XLS, M, L, XLS, M, L, XLS,...   \n",
       "All              S, M, L, XLS, M, L, XLS, M, L, XLS, M, L, XLS,...   \n",
       "\n",
       "ProductCategory                                  Lightly Lined Bra  \\\n",
       "BrandName                                                            \n",
       "Aerie            [\"30B\", \"32DD\"][\"30C\", \"34C\", \"36DD\"][\"30A\", \"...   \n",
       "Calvin Klein                                                  None   \n",
       "HankyPanky                                                    None   \n",
       "Wacoal                                                        None   \n",
       "All              [\"30B\", \"32DD\"][\"30C\", \"34C\", \"36DD\"][\"30A\", \"...   \n",
       "\n",
       "ProductCategory                                         Pushup Bra  \\\n",
       "BrandName                                                            \n",
       "Aerie            [\"A\", \"B\", \"C\", \"D\"][\"A\", \"B\", \"C\", \"D\"][\"A\", ...   \n",
       "Calvin Klein     34A,34B,36C,36D36D34A,34B,34C,34D,36C,36D36D32...   \n",
       "HankyPanky                                                    None   \n",
       "Wacoal           30C,30D,30DD,32A,32B,32C,32D,32DD,34A,34B,34C,...   \n",
       "All              [\"A\", \"B\", \"C\", \"D\"][\"A\", \"B\", \"C\", \"D\"][\"A\", ...   \n",
       "\n",
       "ProductCategory                                      Strapless Bra  \\\n",
       "BrandName                                                            \n",
       "Aerie            [\"One Size\"][\"One Size\"][\"One Size\"][\"One Size...   \n",
       "Calvin Klein                                                  None   \n",
       "HankyPanky                                                    None   \n",
       "Wacoal           30C,30D,30DD,32B,32C,32D,32DD,32DDD,34B,34C,34...   \n",
       "All              [\"One Size\"][\"One Size\"][\"One Size\"][\"One Size...   \n",
       "\n",
       "ProductCategory                                              Tanga  \\\n",
       "BrandName                                                            \n",
       "Aerie            [\"XS\", \"S\", \"M\", \"L\", \"XL\", \"XXL\"][\"L\", \"XL\", ...   \n",
       "Calvin Klein     XS, S, M, L, XLXS, S, M, L, XLXS, S, M, L, XLM...   \n",
       "HankyPanky                                                    None   \n",
       "Wacoal           S, M, L, XLS, M, L, XLS, M, L, XLS, M, L, XLS,...   \n",
       "All              [\"XS\", \"S\", \"M\", \"L\", \"XL\", \"XXL\"][\"L\", \"XL\", ...   \n",
       "\n",
       "ProductCategory                                              Thong  \\\n",
       "BrandName                                                            \n",
       "Aerie            [\"XS\", \"S\", \"M\", \"L\", \"XL\"][\"XS\", \"S\", \"M\", \"L...   \n",
       "Calvin Klein     S, M, LS, MS, M, LS, M, LS, MS, M, LS, M, LS, ...   \n",
       "HankyPanky       [\"One Size\"][\"One Size\"][\"One Size\"][\"One Size...   \n",
       "Wacoal           S, M, L, XLS, M, L, XLS, M, L, XLS, M, L, XLS,...   \n",
       "All              [\"XS\", \"S\", \"M\", \"L\", \"XL\"][\"XS\", \"S\", \"M\", \"L...   \n",
       "\n",
       "ProductCategory                                        Unlined Bra  \\\n",
       "BrandName                                                            \n",
       "Aerie            [\"32A\", \"32B\", \"32C\", \"34A\", \"34B\", \"34C\", \"34...   \n",
       "Calvin Klein     XS, S, M, XLXS, S, MXS, S, M, L, XLXS, S, M, X...   \n",
       "HankyPanky       [\"XS\", \"S\"][\"XS\", \"S\"][\"XS\", \"S\"][\"XS\", \"S\"][\"...   \n",
       "Wacoal           32C,32D,32DD,32DDD,34B,34C,34D,34DD,34DDD,36B,...   \n",
       "All              [\"32A\", \"32B\", \"32C\", \"34A\", \"34B\", \"34C\", \"34...   \n",
       "\n",
       "ProductCategory                                       Wireless Bra  \\\n",
       "BrandName                                                            \n",
       "Aerie            [\"32A\", \"32B\", \"32C\", \"32D\", \"32DD\", \"34A\", \"3...   \n",
       "Calvin Klein     XS, S, M, L, XLXS, S, L, XLXS, S, M, L, XLXS, ...   \n",
       "HankyPanky       [\"32B\", \"32C\", \"32D\", \"34A\", \"34B\", \"34C\", \"34...   \n",
       "Wacoal                                                        None   \n",
       "All              [\"32A\", \"32B\", \"32C\", \"32D\", \"32DD\", \"34A\", \"3...   \n",
       "\n",
       "ProductCategory                                                All  \n",
       "BrandName                                                           \n",
       "Aerie            [\"One Size\"][\"One Size\"][\"One Size\"][\"One Size...  \n",
       "Calvin Klein     XS, S, XLXS, S, M, L, XLXS, S, M, L, XLXS, S, ...  \n",
       "HankyPanky       [\"2X\", \"3X\"][\"2X\", \"3X\"][\"2X\", \"3X\"][\"2X\", \"3X...  \n",
       "Wacoal           S, M, L, XLS, M, L, XLS, M, L, XLS, M, L, XLS,...  \n",
       "All              [\"One Size\"][\"One Size\"][\"One Size\"][\"One Size...  "
      ]
     },
     "execution_count": 32,
     "metadata": {},
     "output_type": "execute_result"
    }
   ],
   "source": [
    "# Let's try to see available sizes for each of these product categories at each brand\n",
    "lingerieData.pivot_table('AvailSize', 'BrandName', 'ProductCategory', aggfunc=np.sum, margins=True)"
   ]
  },
  {
   "cell_type": "code",
   "execution_count": 33,
   "metadata": {},
   "outputs": [
    {
     "data": {
      "text/html": [
       "<div>\n",
       "<style scoped>\n",
       "    .dataframe tbody tr th:only-of-type {\n",
       "        vertical-align: middle;\n",
       "    }\n",
       "\n",
       "    .dataframe tbody tr th {\n",
       "        vertical-align: top;\n",
       "    }\n",
       "\n",
       "    .dataframe thead th {\n",
       "        text-align: right;\n",
       "    }\n",
       "</style>\n",
       "<table border=\"1\" class=\"dataframe\">\n",
       "  <thead>\n",
       "    <tr style=\"text-align: right;\">\n",
       "      <th></th>\n",
       "      <th></th>\n",
       "      <th></th>\n",
       "      <th>Price</th>\n",
       "      <th>Rating</th>\n",
       "    </tr>\n",
       "    <tr>\n",
       "      <th>BrandName</th>\n",
       "      <th>ProductCategory</th>\n",
       "      <th>AvailSize</th>\n",
       "      <th></th>\n",
       "      <th></th>\n",
       "    </tr>\n",
       "  </thead>\n",
       "  <tbody>\n",
       "    <tr>\n",
       "      <th rowspan=\"30\" valign=\"top\">Aerie</th>\n",
       "      <th rowspan=\"23\" valign=\"top\">Bandeau</th>\n",
       "      <th>[\"32A\", \"32B\", \"32C\", \"32D\", \"34A\", \"34B\", \"34C\", \"34D\", \"36A\", \"36B\", \"36C\", \"36D\"]</th>\n",
       "      <td>19.470297</td>\n",
       "      <td>3.927295</td>\n",
       "    </tr>\n",
       "    <tr>\n",
       "      <th>[\"32A\", \"32B\", \"32C\", \"34A\", \"34B\", \"34C\", \"34D\", \"36A\", \"36B\", \"36C\", \"36D\"]</th>\n",
       "      <td>18.000000</td>\n",
       "      <td>3.986202</td>\n",
       "    </tr>\n",
       "    <tr>\n",
       "      <th>[\"32A\", \"32B\", \"32C\", \"34A\", \"34B\", \"34C\", \"34D\", \"36B\", \"36C\", \"36D\"]</th>\n",
       "      <td>15.370968</td>\n",
       "      <td>4.671463</td>\n",
       "    </tr>\n",
       "    <tr>\n",
       "      <th>[\"32A\", \"32B\", \"32C\", \"34A\", \"34B\", \"34C\", \"34D\", \"36B\", \"36D\"]</th>\n",
       "      <td>19.000000</td>\n",
       "      <td>4.500000</td>\n",
       "    </tr>\n",
       "    <tr>\n",
       "      <th>[\"32A\", \"32B\", \"32C\", \"34A\", \"34B\", \"34C\", \"36B\", \"36C\", \"36D\"]</th>\n",
       "      <td>16.000000</td>\n",
       "      <td>4.747350</td>\n",
       "    </tr>\n",
       "    <tr>\n",
       "      <th>[\"32A\", \"32B\", \"32C\", \"34A\", \"34B\", \"34C\", \"36B\", \"36D\"]</th>\n",
       "      <td>13.000000</td>\n",
       "      <td>4.500000</td>\n",
       "    </tr>\n",
       "    <tr>\n",
       "      <th>[\"32A\", \"32B\", \"32C\", \"34B\", \"34C\", \"34D\", \"36B\", \"36C\", \"36D\"]</th>\n",
       "      <td>19.000000</td>\n",
       "      <td>5.000000</td>\n",
       "    </tr>\n",
       "    <tr>\n",
       "      <th>[\"32A\", \"32B\", \"32C\", \"34B\", \"34C\", \"34D\", \"36B\", \"36D\"]</th>\n",
       "      <td>16.913043</td>\n",
       "      <td>4.652245</td>\n",
       "    </tr>\n",
       "    <tr>\n",
       "      <th>[\"32A\", \"32B\", \"32C\", \"34B\", \"34C\", \"36B\", \"36D\"]</th>\n",
       "      <td>15.454545</td>\n",
       "      <td>4.655328</td>\n",
       "    </tr>\n",
       "    <tr>\n",
       "      <th>[\"32B\", \"32C\", \"34A\", \"34B\", \"34C\", \"34D\", \"36A\", \"36B\", \"36C\", \"36D\"]</th>\n",
       "      <td>17.918919</td>\n",
       "      <td>2.883784</td>\n",
       "    </tr>\n",
       "    <tr>\n",
       "      <th>[\"32B\", \"32C\", \"34B\", \"34C\", \"36B\", \"36D\"]</th>\n",
       "      <td>15.000000</td>\n",
       "      <td>4.500000</td>\n",
       "    </tr>\n",
       "    <tr>\n",
       "      <th>[\"32B\", \"32C\", \"34B\", \"36B\", \"36D\"]</th>\n",
       "      <td>19.000000</td>\n",
       "      <td>4.464286</td>\n",
       "    </tr>\n",
       "    <tr>\n",
       "      <th>[\"32B\", \"32C\", \"34B\", \"36B\"]</th>\n",
       "      <td>19.000000</td>\n",
       "      <td>4.450000</td>\n",
       "    </tr>\n",
       "    <tr>\n",
       "      <th>[\"32B\", \"34B\", \"34C\", \"34D\", \"36A\", \"36B\", \"36C\", \"36D\"]</th>\n",
       "      <td>18.000000</td>\n",
       "      <td>3.951986</td>\n",
       "    </tr>\n",
       "    <tr>\n",
       "      <th>[\"32B\", \"34B\", \"34C\", \"36A\", \"36B\", \"36C\"]</th>\n",
       "      <td>18.000000</td>\n",
       "      <td>3.986202</td>\n",
       "    </tr>\n",
       "    <tr>\n",
       "      <th>[\"32B\", \"34B\", \"34C\", \"36B\"]</th>\n",
       "      <td>16.000000</td>\n",
       "      <td>4.729303</td>\n",
       "    </tr>\n",
       "    <tr>\n",
       "      <th>[\"32B\", \"34B\", \"36B\"]</th>\n",
       "      <td>16.176471</td>\n",
       "      <td>4.585800</td>\n",
       "    </tr>\n",
       "    <tr>\n",
       "      <th>[\"34A\"]</th>\n",
       "      <td>21.000000</td>\n",
       "      <td>2.900000</td>\n",
       "    </tr>\n",
       "    <tr>\n",
       "      <th>[\"34B\", \"34C\", \"34D\", \"36B\", \"36C\"]</th>\n",
       "      <td>15.000000</td>\n",
       "      <td>2.800000</td>\n",
       "    </tr>\n",
       "    <tr>\n",
       "      <th>[\"34B\", \"34C\", \"36B\"]</th>\n",
       "      <td>15.000000</td>\n",
       "      <td>2.900000</td>\n",
       "    </tr>\n",
       "    <tr>\n",
       "      <th>[\"34C\"]</th>\n",
       "      <td>16.500000</td>\n",
       "      <td>2.900000</td>\n",
       "    </tr>\n",
       "    <tr>\n",
       "      <th>[\"S\", \"M\", \"L\", \"XL\"]</th>\n",
       "      <td>13.653846</td>\n",
       "      <td>4.330769</td>\n",
       "    </tr>\n",
       "    <tr>\n",
       "      <th>[\"XS\", \"S\", \"M\", \"L\", \"XL\"]</th>\n",
       "      <td>13.653846</td>\n",
       "      <td>4.330769</td>\n",
       "    </tr>\n",
       "    <tr>\n",
       "      <th rowspan=\"7\" valign=\"top\">Bikini</th>\n",
       "      <th>[\"M\"]</th>\n",
       "      <td>10.000000</td>\n",
       "      <td>4.200000</td>\n",
       "    </tr>\n",
       "    <tr>\n",
       "      <th>[\"S\", \"M\", \"L\", \"XL\", \"XXL\"]</th>\n",
       "      <td>10.000000</td>\n",
       "      <td>4.200000</td>\n",
       "    </tr>\n",
       "    <tr>\n",
       "      <th>[\"XS\", \"S\", \"M\", \"L\", \"XL\", \"XXL\"]</th>\n",
       "      <td>9.967033</td>\n",
       "      <td>4.462932</td>\n",
       "    </tr>\n",
       "    <tr>\n",
       "      <th>[\"XS\", \"S\", \"M\", \"L\", \"XL\"]</th>\n",
       "      <td>10.000000</td>\n",
       "      <td>4.458606</td>\n",
       "    </tr>\n",
       "    <tr>\n",
       "      <th>[\"XS\", \"S\", \"M\", \"L\", \"XXL\"]</th>\n",
       "      <td>10.545455</td>\n",
       "      <td>4.901565</td>\n",
       "    </tr>\n",
       "    <tr>\n",
       "      <th>[\"XS\", \"S\", \"M\", \"XL\", \"XXL\"]</th>\n",
       "      <td>12.000000</td>\n",
       "      <td>3.972404</td>\n",
       "    </tr>\n",
       "    <tr>\n",
       "      <th>[\"XS\", \"S\", \"XL\", \"XXL\"]</th>\n",
       "      <td>12.735294</td>\n",
       "      <td>4.329906</td>\n",
       "    </tr>\n",
       "    <tr>\n",
       "      <th>...</th>\n",
       "      <th>...</th>\n",
       "      <th>...</th>\n",
       "      <td>...</td>\n",
       "      <td>...</td>\n",
       "    </tr>\n",
       "    <tr>\n",
       "      <th rowspan=\"30\" valign=\"top\">Wacoal</th>\n",
       "      <th rowspan=\"3\" valign=\"top\">Pushup Bra</th>\n",
       "      <th>34B,30C,34C,34D,36B,36C,38B,38C</th>\n",
       "      <td>25.000000</td>\n",
       "      <td>4.458606</td>\n",
       "    </tr>\n",
       "    <tr>\n",
       "      <th>34B,30C,34C,34D,36C,38B,38C</th>\n",
       "      <td>25.000000</td>\n",
       "      <td>4.458606</td>\n",
       "    </tr>\n",
       "    <tr>\n",
       "      <th>36C,30C,30D,30DD,32A,32B,32C,32D,32DD,34A,34B,34C,34D,34DD,36A,36B,36D,36DD,38B,38C</th>\n",
       "      <td>31.000000</td>\n",
       "      <td>4.458606</td>\n",
       "    </tr>\n",
       "    <tr>\n",
       "      <th rowspan=\"11\" valign=\"top\">Strapless Bra</th>\n",
       "      <th>30B,30C,30D,32B,32C,32DD,34B,32D,34D,34DD,34C,36D,36B,36C</th>\n",
       "      <td>40.000000</td>\n",
       "      <td>4.458606</td>\n",
       "    </tr>\n",
       "    <tr>\n",
       "      <th>30B,30D,30C,32DD,32B,32C,32D,36B,34B,34C,34D,34DD,36C,36D</th>\n",
       "      <td>40.000000</td>\n",
       "      <td>4.458606</td>\n",
       "    </tr>\n",
       "    <tr>\n",
       "      <th>30C,30D,30DD,32A,32B,32C,32D,32DD,32DDD,34A,34B,34C,34D,34DD,34DDD,36B,36C,36D,36DD,36DDD,38C,38D</th>\n",
       "      <td>40.000000</td>\n",
       "      <td>4.458606</td>\n",
       "    </tr>\n",
       "    <tr>\n",
       "      <th>30C,30D,30DD,32B,32C,32D,32DD,32DDD,34A,34B,34C,34D,34DD,34DDD,36B,36C,36D,36DD,36DDD,38C,38D</th>\n",
       "      <td>40.000000</td>\n",
       "      <td>4.458606</td>\n",
       "    </tr>\n",
       "    <tr>\n",
       "      <th>30C,30D,30DD,32B,32C,32D,32DD,32DDD,34A,34B,34C,34D,34DD,34DDD,36B,36C,36D,36DD,38C,38D</th>\n",
       "      <td>40.000000</td>\n",
       "      <td>4.458606</td>\n",
       "    </tr>\n",
       "    <tr>\n",
       "      <th>30C,30D,30DD,32B,32C,32D,32DD,32DDD,34B,34C,34D,34DD,34DDD,36B,36C,36D,36DD,36DDD,38C,38D</th>\n",
       "      <td>40.000000</td>\n",
       "      <td>4.458606</td>\n",
       "    </tr>\n",
       "    <tr>\n",
       "      <th>30C,30D,30DD,32B,32C,32D,32DD,34B,34C,34D,34DD,36B,36C,36D,38C</th>\n",
       "      <td>44.000000</td>\n",
       "      <td>4.458606</td>\n",
       "    </tr>\n",
       "    <tr>\n",
       "      <th>30C,30D,30DD,32B,32C,32D,32DD,34B,34C,34D,36B,36C,36D</th>\n",
       "      <td>44.000000</td>\n",
       "      <td>4.458606</td>\n",
       "    </tr>\n",
       "    <tr>\n",
       "      <th>30C,30D,30DD,32B,32C,32D,32DD,34B,34C,34D,36B,36C,36D,38C</th>\n",
       "      <td>44.000000</td>\n",
       "      <td>4.458606</td>\n",
       "    </tr>\n",
       "    <tr>\n",
       "      <th>30C,30D,30DD,32B,32C,32D,34B,34C,34D,36B,36C,36D</th>\n",
       "      <td>44.000000</td>\n",
       "      <td>4.458606</td>\n",
       "    </tr>\n",
       "    <tr>\n",
       "      <th>30C,30D,32B,32C,32D,32DD,34B,34C,34D,36B,36C,36D,38C</th>\n",
       "      <td>44.000000</td>\n",
       "      <td>4.458606</td>\n",
       "    </tr>\n",
       "    <tr>\n",
       "      <th rowspan=\"2\" valign=\"top\">Tanga</th>\n",
       "      <th>S, M, L</th>\n",
       "      <td>14.896104</td>\n",
       "      <td>4.458606</td>\n",
       "    </tr>\n",
       "    <tr>\n",
       "      <th>S, M, L, XL</th>\n",
       "      <td>18.413793</td>\n",
       "      <td>4.458606</td>\n",
       "    </tr>\n",
       "    <tr>\n",
       "      <th rowspan=\"8\" valign=\"top\">Thong</th>\n",
       "      <th>L, XL</th>\n",
       "      <td>13.294118</td>\n",
       "      <td>4.458606</td>\n",
       "    </tr>\n",
       "    <tr>\n",
       "      <th>M</th>\n",
       "      <td>8.000000</td>\n",
       "      <td>4.458606</td>\n",
       "    </tr>\n",
       "    <tr>\n",
       "      <th>S, L, XL</th>\n",
       "      <td>8.000000</td>\n",
       "      <td>4.458606</td>\n",
       "    </tr>\n",
       "    <tr>\n",
       "      <th>S, M</th>\n",
       "      <td>9.250000</td>\n",
       "      <td>4.458606</td>\n",
       "    </tr>\n",
       "    <tr>\n",
       "      <th>S, M, L</th>\n",
       "      <td>8.000000</td>\n",
       "      <td>4.458606</td>\n",
       "    </tr>\n",
       "    <tr>\n",
       "      <th>S, M, L, XL</th>\n",
       "      <td>10.334884</td>\n",
       "      <td>4.458606</td>\n",
       "    </tr>\n",
       "    <tr>\n",
       "      <th>S, M, XL</th>\n",
       "      <td>13.000000</td>\n",
       "      <td>4.458606</td>\n",
       "    </tr>\n",
       "    <tr>\n",
       "      <th>S, XL</th>\n",
       "      <td>10.600000</td>\n",
       "      <td>4.458606</td>\n",
       "    </tr>\n",
       "    <tr>\n",
       "      <th rowspan=\"6\" valign=\"top\">Unlined Bra</th>\n",
       "      <th>32B,32C,32D,32DD,34B,34C,34DD,36B,36C,38C,38D,32DDD,34A,36A</th>\n",
       "      <td>21.000000</td>\n",
       "      <td>4.458606</td>\n",
       "    </tr>\n",
       "    <tr>\n",
       "      <th>32C,32B,32DD,32D,34B,34C,36B,34DD,36C,38D,38C,32DDD,36A,34A</th>\n",
       "      <td>21.000000</td>\n",
       "      <td>4.458606</td>\n",
       "    </tr>\n",
       "    <tr>\n",
       "      <th>32C,32D,32DD,32DDD,34B,34C,34D,34DD,34DDD,36B,36C,36D,36DD,36DDD,38C,38D</th>\n",
       "      <td>27.333333</td>\n",
       "      <td>4.458606</td>\n",
       "    </tr>\n",
       "    <tr>\n",
       "      <th>32C,32D,32DD,32DDD,34B,34C,34D,34DD,36B,36C,36D,36DD,36DDD,38C,38D</th>\n",
       "      <td>24.000000</td>\n",
       "      <td>4.458606</td>\n",
       "    </tr>\n",
       "    <tr>\n",
       "      <th>32D,32C,34C,36B,36C,34A,36A</th>\n",
       "      <td>21.000000</td>\n",
       "      <td>4.458606</td>\n",
       "    </tr>\n",
       "    <tr>\n",
       "      <th>36B,32C</th>\n",
       "      <td>21.000000</td>\n",
       "      <td>4.458606</td>\n",
       "    </tr>\n",
       "  </tbody>\n",
       "</table>\n",
       "<p>987 rows × 2 columns</p>\n",
       "</div>"
      ],
      "text/plain": [
       "                                                                                  Price  \\\n",
       "BrandName ProductCategory AvailSize                                                       \n",
       "Aerie     Bandeau         [\"32A\", \"32B\", \"32C\", \"32D\", \"34A\", \"34B\", \"34C...  19.470297   \n",
       "                          [\"32A\", \"32B\", \"32C\", \"34A\", \"34B\", \"34C\", \"34D...  18.000000   \n",
       "                          [\"32A\", \"32B\", \"32C\", \"34A\", \"34B\", \"34C\", \"34D...  15.370968   \n",
       "                          [\"32A\", \"32B\", \"32C\", \"34A\", \"34B\", \"34C\", \"34D...  19.000000   \n",
       "                          [\"32A\", \"32B\", \"32C\", \"34A\", \"34B\", \"34C\", \"36B...  16.000000   \n",
       "                          [\"32A\", \"32B\", \"32C\", \"34A\", \"34B\", \"34C\", \"36B...  13.000000   \n",
       "                          [\"32A\", \"32B\", \"32C\", \"34B\", \"34C\", \"34D\", \"36B...  19.000000   \n",
       "                          [\"32A\", \"32B\", \"32C\", \"34B\", \"34C\", \"34D\", \"36B...  16.913043   \n",
       "                          [\"32A\", \"32B\", \"32C\", \"34B\", \"34C\", \"36B\", \"36D\"]   15.454545   \n",
       "                          [\"32B\", \"32C\", \"34A\", \"34B\", \"34C\", \"34D\", \"36A...  17.918919   \n",
       "                          [\"32B\", \"32C\", \"34B\", \"34C\", \"36B\", \"36D\"]          15.000000   \n",
       "                          [\"32B\", \"32C\", \"34B\", \"36B\", \"36D\"]                 19.000000   \n",
       "                          [\"32B\", \"32C\", \"34B\", \"36B\"]                        19.000000   \n",
       "                          [\"32B\", \"34B\", \"34C\", \"34D\", \"36A\", \"36B\", \"36C...  18.000000   \n",
       "                          [\"32B\", \"34B\", \"34C\", \"36A\", \"36B\", \"36C\"]          18.000000   \n",
       "                          [\"32B\", \"34B\", \"34C\", \"36B\"]                        16.000000   \n",
       "                          [\"32B\", \"34B\", \"36B\"]                               16.176471   \n",
       "                          [\"34A\"]                                             21.000000   \n",
       "                          [\"34B\", \"34C\", \"34D\", \"36B\", \"36C\"]                 15.000000   \n",
       "                          [\"34B\", \"34C\", \"36B\"]                               15.000000   \n",
       "                          [\"34C\"]                                             16.500000   \n",
       "                          [\"S\", \"M\", \"L\", \"XL\"]                               13.653846   \n",
       "                          [\"XS\", \"S\", \"M\", \"L\", \"XL\"]                         13.653846   \n",
       "          Bikini          [\"M\"]                                               10.000000   \n",
       "                          [\"S\", \"M\", \"L\", \"XL\", \"XXL\"]                        10.000000   \n",
       "                          [\"XS\", \"S\", \"M\", \"L\", \"XL\", \"XXL\"]                   9.967033   \n",
       "                          [\"XS\", \"S\", \"M\", \"L\", \"XL\"]                         10.000000   \n",
       "                          [\"XS\", \"S\", \"M\", \"L\", \"XXL\"]                        10.545455   \n",
       "                          [\"XS\", \"S\", \"M\", \"XL\", \"XXL\"]                       12.000000   \n",
       "                          [\"XS\", \"S\", \"XL\", \"XXL\"]                            12.735294   \n",
       "...                                                                                 ...   \n",
       "Wacoal    Pushup Bra      34B,30C,34C,34D,36B,36C,38B,38C                     25.000000   \n",
       "                          34B,30C,34C,34D,36C,38B,38C                         25.000000   \n",
       "                          36C,30C,30D,30DD,32A,32B,32C,32D,32DD,34A,34B,3...  31.000000   \n",
       "          Strapless Bra   30B,30C,30D,32B,32C,32DD,34B,32D,34D,34DD,34C,3...  40.000000   \n",
       "                          30B,30D,30C,32DD,32B,32C,32D,36B,34B,34C,34D,34...  40.000000   \n",
       "                          30C,30D,30DD,32A,32B,32C,32D,32DD,32DDD,34A,34B...  40.000000   \n",
       "                          30C,30D,30DD,32B,32C,32D,32DD,32DDD,34A,34B,34C...  40.000000   \n",
       "                          30C,30D,30DD,32B,32C,32D,32DD,32DDD,34A,34B,34C...  40.000000   \n",
       "                          30C,30D,30DD,32B,32C,32D,32DD,32DDD,34B,34C,34D...  40.000000   \n",
       "                          30C,30D,30DD,32B,32C,32D,32DD,34B,34C,34D,34DD,...  44.000000   \n",
       "                          30C,30D,30DD,32B,32C,32D,32DD,34B,34C,34D,36B,3...  44.000000   \n",
       "                          30C,30D,30DD,32B,32C,32D,32DD,34B,34C,34D,36B,3...  44.000000   \n",
       "                          30C,30D,30DD,32B,32C,32D,34B,34C,34D,36B,36C,36D    44.000000   \n",
       "                          30C,30D,32B,32C,32D,32DD,34B,34C,34D,36B,36C,36...  44.000000   \n",
       "          Tanga           S, M, L                                             14.896104   \n",
       "                          S, M, L, XL                                         18.413793   \n",
       "          Thong           L, XL                                               13.294118   \n",
       "                          M                                                    8.000000   \n",
       "                          S, L, XL                                             8.000000   \n",
       "                          S, M                                                 9.250000   \n",
       "                          S, M, L                                              8.000000   \n",
       "                          S, M, L, XL                                         10.334884   \n",
       "                          S, M, XL                                            13.000000   \n",
       "                          S, XL                                               10.600000   \n",
       "          Unlined Bra     32B,32C,32D,32DD,34B,34C,34DD,36B,36C,38C,38D,3...  21.000000   \n",
       "                          32C,32B,32DD,32D,34B,34C,36B,34DD,36C,38D,38C,3...  21.000000   \n",
       "                          32C,32D,32DD,32DDD,34B,34C,34D,34DD,34DDD,36B,3...  27.333333   \n",
       "                          32C,32D,32DD,32DDD,34B,34C,34D,34DD,36B,36C,36D...  24.000000   \n",
       "                          32D,32C,34C,36B,36C,34A,36A                         21.000000   \n",
       "                          36B,32C                                             21.000000   \n",
       "\n",
       "                                                                                Rating  \n",
       "BrandName ProductCategory AvailSize                                                     \n",
       "Aerie     Bandeau         [\"32A\", \"32B\", \"32C\", \"32D\", \"34A\", \"34B\", \"34C...  3.927295  \n",
       "                          [\"32A\", \"32B\", \"32C\", \"34A\", \"34B\", \"34C\", \"34D...  3.986202  \n",
       "                          [\"32A\", \"32B\", \"32C\", \"34A\", \"34B\", \"34C\", \"34D...  4.671463  \n",
       "                          [\"32A\", \"32B\", \"32C\", \"34A\", \"34B\", \"34C\", \"34D...  4.500000  \n",
       "                          [\"32A\", \"32B\", \"32C\", \"34A\", \"34B\", \"34C\", \"36B...  4.747350  \n",
       "                          [\"32A\", \"32B\", \"32C\", \"34A\", \"34B\", \"34C\", \"36B...  4.500000  \n",
       "                          [\"32A\", \"32B\", \"32C\", \"34B\", \"34C\", \"34D\", \"36B...  5.000000  \n",
       "                          [\"32A\", \"32B\", \"32C\", \"34B\", \"34C\", \"34D\", \"36B...  4.652245  \n",
       "                          [\"32A\", \"32B\", \"32C\", \"34B\", \"34C\", \"36B\", \"36D\"]   4.655328  \n",
       "                          [\"32B\", \"32C\", \"34A\", \"34B\", \"34C\", \"34D\", \"36A...  2.883784  \n",
       "                          [\"32B\", \"32C\", \"34B\", \"34C\", \"36B\", \"36D\"]          4.500000  \n",
       "                          [\"32B\", \"32C\", \"34B\", \"36B\", \"36D\"]                 4.464286  \n",
       "                          [\"32B\", \"32C\", \"34B\", \"36B\"]                        4.450000  \n",
       "                          [\"32B\", \"34B\", \"34C\", \"34D\", \"36A\", \"36B\", \"36C...  3.951986  \n",
       "                          [\"32B\", \"34B\", \"34C\", \"36A\", \"36B\", \"36C\"]          3.986202  \n",
       "                          [\"32B\", \"34B\", \"34C\", \"36B\"]                        4.729303  \n",
       "                          [\"32B\", \"34B\", \"36B\"]                               4.585800  \n",
       "                          [\"34A\"]                                             2.900000  \n",
       "                          [\"34B\", \"34C\", \"34D\", \"36B\", \"36C\"]                 2.800000  \n",
       "                          [\"34B\", \"34C\", \"36B\"]                               2.900000  \n",
       "                          [\"34C\"]                                             2.900000  \n",
       "                          [\"S\", \"M\", \"L\", \"XL\"]                               4.330769  \n",
       "                          [\"XS\", \"S\", \"M\", \"L\", \"XL\"]                         4.330769  \n",
       "          Bikini          [\"M\"]                                               4.200000  \n",
       "                          [\"S\", \"M\", \"L\", \"XL\", \"XXL\"]                        4.200000  \n",
       "                          [\"XS\", \"S\", \"M\", \"L\", \"XL\", \"XXL\"]                  4.462932  \n",
       "                          [\"XS\", \"S\", \"M\", \"L\", \"XL\"]                         4.458606  \n",
       "                          [\"XS\", \"S\", \"M\", \"L\", \"XXL\"]                        4.901565  \n",
       "                          [\"XS\", \"S\", \"M\", \"XL\", \"XXL\"]                       3.972404  \n",
       "                          [\"XS\", \"S\", \"XL\", \"XXL\"]                            4.329906  \n",
       "...                                                                                ...  \n",
       "Wacoal    Pushup Bra      34B,30C,34C,34D,36B,36C,38B,38C                     4.458606  \n",
       "                          34B,30C,34C,34D,36C,38B,38C                         4.458606  \n",
       "                          36C,30C,30D,30DD,32A,32B,32C,32D,32DD,34A,34B,3...  4.458606  \n",
       "          Strapless Bra   30B,30C,30D,32B,32C,32DD,34B,32D,34D,34DD,34C,3...  4.458606  \n",
       "                          30B,30D,30C,32DD,32B,32C,32D,36B,34B,34C,34D,34...  4.458606  \n",
       "                          30C,30D,30DD,32A,32B,32C,32D,32DD,32DDD,34A,34B...  4.458606  \n",
       "                          30C,30D,30DD,32B,32C,32D,32DD,32DDD,34A,34B,34C...  4.458606  \n",
       "                          30C,30D,30DD,32B,32C,32D,32DD,32DDD,34A,34B,34C...  4.458606  \n",
       "                          30C,30D,30DD,32B,32C,32D,32DD,32DDD,34B,34C,34D...  4.458606  \n",
       "                          30C,30D,30DD,32B,32C,32D,32DD,34B,34C,34D,34DD,...  4.458606  \n",
       "                          30C,30D,30DD,32B,32C,32D,32DD,34B,34C,34D,36B,3...  4.458606  \n",
       "                          30C,30D,30DD,32B,32C,32D,32DD,34B,34C,34D,36B,3...  4.458606  \n",
       "                          30C,30D,30DD,32B,32C,32D,34B,34C,34D,36B,36C,36D    4.458606  \n",
       "                          30C,30D,32B,32C,32D,32DD,34B,34C,34D,36B,36C,36...  4.458606  \n",
       "          Tanga           S, M, L                                             4.458606  \n",
       "                          S, M, L, XL                                         4.458606  \n",
       "          Thong           L, XL                                               4.458606  \n",
       "                          M                                                   4.458606  \n",
       "                          S, L, XL                                            4.458606  \n",
       "                          S, M                                                4.458606  \n",
       "                          S, M, L                                             4.458606  \n",
       "                          S, M, L, XL                                         4.458606  \n",
       "                          S, M, XL                                            4.458606  \n",
       "                          S, XL                                               4.458606  \n",
       "          Unlined Bra     32B,32C,32D,32DD,34B,34C,34DD,36B,36C,38C,38D,3...  4.458606  \n",
       "                          32C,32B,32DD,32D,34B,34C,36B,34DD,36C,38D,38C,3...  4.458606  \n",
       "                          32C,32D,32DD,32DDD,34B,34C,34D,34DD,34DDD,36B,3...  4.458606  \n",
       "                          32C,32D,32DD,32DDD,34B,34C,34D,34DD,36B,36C,36D...  4.458606  \n",
       "                          32D,32C,34C,36B,36C,34A,36A                         4.458606  \n",
       "                          36B,32C                                             4.458606  \n",
       "\n",
       "[987 rows x 2 columns]"
      ]
     },
     "execution_count": 33,
     "metadata": {},
     "output_type": "execute_result"
    }
   ],
   "source": [
    "# Let's try to make a cleaner pivot table\n",
    "# Plus, why the sum?\n",
    "pd.pivot_table(lingerieData,index=[\"BrandName\",\"ProductCategory\",\"AvailSize\"])"
   ]
  },
  {
   "cell_type": "code",
   "execution_count": 34,
   "metadata": {},
   "outputs": [],
   "source": [
    "# That's better...but why are Price, Rating, and ReviewCount there?\n",
    "# Wish I knew how to get rid of the extra columns\n",
    "# Researched, not finding anything useful\n",
    "# Don't want to get bogged down\n",
    "# Moving on"
   ]
  },
  {
   "cell_type": "code",
   "execution_count": 35,
   "metadata": {},
   "outputs": [
    {
     "data": {
      "text/plain": [
       "count    46729.000000\n",
       "mean        22.380042\n",
       "std         12.633729\n",
       "min          4.000000\n",
       "25%         13.000000\n",
       "50%         20.000000\n",
       "75%         30.000000\n",
       "max         82.000000\n",
       "Name: Price, dtype: float64"
      ]
     },
     "execution_count": 35,
     "metadata": {},
     "output_type": "execute_result"
    }
   ],
   "source": [
    "# Let's explore prices\n",
    "lingerieData.Price.describe()"
   ]
  },
  {
   "cell_type": "code",
   "execution_count": 37,
   "metadata": {},
   "outputs": [],
   "source": [
    "# Max price is $82; min price is $4"
   ]
  },
  {
   "cell_type": "code",
   "execution_count": 38,
   "metadata": {},
   "outputs": [
    {
     "data": {
      "text/html": [
       "<div>\n",
       "<style scoped>\n",
       "    .dataframe tbody tr th:only-of-type {\n",
       "        vertical-align: middle;\n",
       "    }\n",
       "\n",
       "    .dataframe tbody tr th {\n",
       "        vertical-align: top;\n",
       "    }\n",
       "\n",
       "    .dataframe thead th {\n",
       "        text-align: right;\n",
       "    }\n",
       "</style>\n",
       "<table border=\"1\" class=\"dataframe\">\n",
       "  <thead>\n",
       "    <tr style=\"text-align: right;\">\n",
       "      <th>ProductCategory</th>\n",
       "      <th>Balconette Bra</th>\n",
       "      <th>Bandeau</th>\n",
       "      <th>Bikini</th>\n",
       "      <th>Boybrief</th>\n",
       "      <th>Boyshort</th>\n",
       "      <th>Bralette</th>\n",
       "      <th>Brief</th>\n",
       "      <th>Demi Bra</th>\n",
       "      <th>Full Coverage Bra</th>\n",
       "      <th>G-String</th>\n",
       "      <th>Hipster</th>\n",
       "      <th>Lightly Lined Bra</th>\n",
       "      <th>Pushup Bra</th>\n",
       "      <th>Strapless Bra</th>\n",
       "      <th>Tanga</th>\n",
       "      <th>Thong</th>\n",
       "      <th>Unlined Bra</th>\n",
       "      <th>Wireless Bra</th>\n",
       "      <th>All</th>\n",
       "    </tr>\n",
       "    <tr>\n",
       "      <th>BrandName</th>\n",
       "      <th></th>\n",
       "      <th></th>\n",
       "      <th></th>\n",
       "      <th></th>\n",
       "      <th></th>\n",
       "      <th></th>\n",
       "      <th></th>\n",
       "      <th></th>\n",
       "      <th></th>\n",
       "      <th></th>\n",
       "      <th></th>\n",
       "      <th></th>\n",
       "      <th></th>\n",
       "      <th></th>\n",
       "      <th></th>\n",
       "      <th></th>\n",
       "      <th></th>\n",
       "      <th></th>\n",
       "      <th></th>\n",
       "    </tr>\n",
       "  </thead>\n",
       "  <tbody>\n",
       "    <tr>\n",
       "      <th>Aerie</th>\n",
       "      <td>NaN</td>\n",
       "      <td>17.247328</td>\n",
       "      <td>10.705882</td>\n",
       "      <td>11.713295</td>\n",
       "      <td>11.899582</td>\n",
       "      <td>15.867345</td>\n",
       "      <td>NaN</td>\n",
       "      <td>28.318182</td>\n",
       "      <td>28.491892</td>\n",
       "      <td>NaN</td>\n",
       "      <td>NaN</td>\n",
       "      <td>23.626068</td>\n",
       "      <td>28.532382</td>\n",
       "      <td>23.988372</td>\n",
       "      <td>11.156002</td>\n",
       "      <td>11.913344</td>\n",
       "      <td>18.054825</td>\n",
       "      <td>26.650746</td>\n",
       "      <td>15.761881</td>\n",
       "    </tr>\n",
       "    <tr>\n",
       "      <th>Calvin Klein</th>\n",
       "      <td>NaN</td>\n",
       "      <td>15.000000</td>\n",
       "      <td>14.680154</td>\n",
       "      <td>NaN</td>\n",
       "      <td>17.426230</td>\n",
       "      <td>27.406484</td>\n",
       "      <td>NaN</td>\n",
       "      <td>33.216867</td>\n",
       "      <td>32.635135</td>\n",
       "      <td>NaN</td>\n",
       "      <td>12.895238</td>\n",
       "      <td>NaN</td>\n",
       "      <td>33.376923</td>\n",
       "      <td>NaN</td>\n",
       "      <td>13.000000</td>\n",
       "      <td>13.668196</td>\n",
       "      <td>30.761905</td>\n",
       "      <td>38.000000</td>\n",
       "      <td>18.890446</td>\n",
       "    </tr>\n",
       "    <tr>\n",
       "      <th>HankyPanky</th>\n",
       "      <td>NaN</td>\n",
       "      <td>52.000000</td>\n",
       "      <td>34.522146</td>\n",
       "      <td>NaN</td>\n",
       "      <td>33.937710</td>\n",
       "      <td>56.975629</td>\n",
       "      <td>35.566972</td>\n",
       "      <td>82.000000</td>\n",
       "      <td>NaN</td>\n",
       "      <td>21.478947</td>\n",
       "      <td>38.833753</td>\n",
       "      <td>NaN</td>\n",
       "      <td>NaN</td>\n",
       "      <td>NaN</td>\n",
       "      <td>NaN</td>\n",
       "      <td>22.685475</td>\n",
       "      <td>68.052632</td>\n",
       "      <td>75.000000</td>\n",
       "      <td>32.366559</td>\n",
       "    </tr>\n",
       "    <tr>\n",
       "      <th>Wacoal</th>\n",
       "      <td>31.708333</td>\n",
       "      <td>22.877193</td>\n",
       "      <td>10.723404</td>\n",
       "      <td>NaN</td>\n",
       "      <td>12.404255</td>\n",
       "      <td>20.712963</td>\n",
       "      <td>NaN</td>\n",
       "      <td>26.500000</td>\n",
       "      <td>36.040650</td>\n",
       "      <td>NaN</td>\n",
       "      <td>10.641860</td>\n",
       "      <td>NaN</td>\n",
       "      <td>33.125000</td>\n",
       "      <td>40.930233</td>\n",
       "      <td>15.858491</td>\n",
       "      <td>10.318091</td>\n",
       "      <td>23.458333</td>\n",
       "      <td>NaN</td>\n",
       "      <td>17.531825</td>\n",
       "    </tr>\n",
       "    <tr>\n",
       "      <th>All</th>\n",
       "      <td>31.708333</td>\n",
       "      <td>18.493151</td>\n",
       "      <td>23.181706</td>\n",
       "      <td>11.713295</td>\n",
       "      <td>29.241897</td>\n",
       "      <td>28.628276</td>\n",
       "      <td>35.566972</td>\n",
       "      <td>33.801333</td>\n",
       "      <td>30.670194</td>\n",
       "      <td>21.478947</td>\n",
       "      <td>20.796296</td>\n",
       "      <td>23.626068</td>\n",
       "      <td>29.006917</td>\n",
       "      <td>27.376744</td>\n",
       "      <td>11.411970</td>\n",
       "      <td>19.403950</td>\n",
       "      <td>19.950435</td>\n",
       "      <td>29.215686</td>\n",
       "      <td>22.380042</td>\n",
       "    </tr>\n",
       "  </tbody>\n",
       "</table>\n",
       "</div>"
      ],
      "text/plain": [
       "ProductCategory  Balconette Bra    Bandeau     Bikini   Boybrief   Boyshort  \\\n",
       "BrandName                                                                     \n",
       "Aerie                       NaN  17.247328  10.705882  11.713295  11.899582   \n",
       "Calvin Klein                NaN  15.000000  14.680154        NaN  17.426230   \n",
       "HankyPanky                  NaN  52.000000  34.522146        NaN  33.937710   \n",
       "Wacoal                31.708333  22.877193  10.723404        NaN  12.404255   \n",
       "All                   31.708333  18.493151  23.181706  11.713295  29.241897   \n",
       "\n",
       "ProductCategory   Bralette      Brief   Demi Bra  Full Coverage Bra  \\\n",
       "BrandName                                                             \n",
       "Aerie            15.867345        NaN  28.318182          28.491892   \n",
       "Calvin Klein     27.406484        NaN  33.216867          32.635135   \n",
       "HankyPanky       56.975629  35.566972  82.000000                NaN   \n",
       "Wacoal           20.712963        NaN  26.500000          36.040650   \n",
       "All              28.628276  35.566972  33.801333          30.670194   \n",
       "\n",
       "ProductCategory   G-String    Hipster  Lightly Lined Bra  Pushup Bra  \\\n",
       "BrandName                                                              \n",
       "Aerie                  NaN        NaN          23.626068   28.532382   \n",
       "Calvin Klein           NaN  12.895238                NaN   33.376923   \n",
       "HankyPanky       21.478947  38.833753                NaN         NaN   \n",
       "Wacoal                 NaN  10.641860                NaN   33.125000   \n",
       "All              21.478947  20.796296          23.626068   29.006917   \n",
       "\n",
       "ProductCategory  Strapless Bra      Tanga      Thong  Unlined Bra  \\\n",
       "BrandName                                                           \n",
       "Aerie                23.988372  11.156002  11.913344    18.054825   \n",
       "Calvin Klein               NaN  13.000000  13.668196    30.761905   \n",
       "HankyPanky                 NaN        NaN  22.685475    68.052632   \n",
       "Wacoal               40.930233  15.858491  10.318091    23.458333   \n",
       "All                  27.376744  11.411970  19.403950    19.950435   \n",
       "\n",
       "ProductCategory  Wireless Bra        All  \n",
       "BrandName                                 \n",
       "Aerie               26.650746  15.761881  \n",
       "Calvin Klein        38.000000  18.890446  \n",
       "HankyPanky          75.000000  32.366559  \n",
       "Wacoal                    NaN  17.531825  \n",
       "All                 29.215686  22.380042  "
      ]
     },
     "execution_count": 38,
     "metadata": {},
     "output_type": "execute_result"
    }
   ],
   "source": [
    "# Let's replicate the ugly pivot table, but using prices instead of sizes\n",
    "# Show average prices\n",
    "lingerieData.pivot_table('Price', 'BrandName', 'ProductCategory', aggfunc=np.mean, margins=True)"
   ]
  },
  {
   "cell_type": "code",
   "execution_count": 39,
   "metadata": {},
   "outputs": [
    {
     "ename": "TypeError",
     "evalue": "tuple indices must be integers or slices, not Series",
     "output_type": "error",
     "traceback": [
      "\u001b[0;31m---------------------------------------------------------------------------\u001b[0m",
      "\u001b[0;31mTypeError\u001b[0m                                 Traceback (most recent call last)",
      "\u001b[0;32m<ipython-input-39-a9c0604206b0>\u001b[0m in \u001b[0;36m<module>\u001b[0;34m()\u001b[0m\n\u001b[1;32m      2\u001b[0m \u001b[0mfeatures\u001b[0m \u001b[0;34m=\u001b[0m \u001b[0mlingerieData\u001b[0m\u001b[0;34m.\u001b[0m\u001b[0mProductCategory\u001b[0m\u001b[0;34m,\u001b[0m \u001b[0mlingerieData\u001b[0m\u001b[0;34m.\u001b[0m\u001b[0mPrice\u001b[0m\u001b[0;34m\u001b[0m\u001b[0m\n\u001b[1;32m      3\u001b[0m \u001b[0;34m\u001b[0m\u001b[0m\n\u001b[0;32m----> 4\u001b[0;31m plt.scatter(features[lingerieData.ProductCategory], features[lingerieData.Price], alpha=0.2,\n\u001b[0m\u001b[1;32m      5\u001b[0m             s=features, c=lingerieData.BrandName, cmap='viridis')\n\u001b[1;32m      6\u001b[0m \u001b[0mplt\u001b[0m\u001b[0;34m.\u001b[0m\u001b[0mxlabel\u001b[0m\u001b[0;34m(\u001b[0m\u001b[0mlingerieData\u001b[0m\u001b[0;34m.\u001b[0m\u001b[0mfeature_names\u001b[0m\u001b[0;34m[\u001b[0m\u001b[0mProductCategory\u001b[0m\u001b[0;34m]\u001b[0m\u001b[0;34m)\u001b[0m\u001b[0;34m\u001b[0m\u001b[0m\n",
      "\u001b[0;31mTypeError\u001b[0m: tuple indices must be integers or slices, not Series"
     ]
    }
   ],
   "source": [
    "# Let's try to scatterplot this info\n",
    "features = lingerieData.ProductCategory, lingerieData.Price\n",
    "\n",
    "plt.scatter(features[lingerieData.ProductCategory], features[lingerieData.Price], alpha=0.2,\n",
    "            s=features, c=lingerieData.BrandName, cmap='viridis')\n",
    "plt.xlabel(lingerieData.feature_names[ProductCategory])\n",
    "plt.ylabel(lingerieData.feature_names[Price])"
   ]
  },
  {
   "cell_type": "code",
   "execution_count": 40,
   "metadata": {},
   "outputs": [],
   "source": [
    "# Error\n",
    "# ---------------------------------------------------------------------------\n",
    "# TypeError                                 Traceback (most recent call last)\n",
    "# <ipython-input-178-a9c0604206b0> in <module>()\n",
    "#      2 features = lingerieData.ProductCategory, lingerieData.Price\n",
    "#      3 \n",
    "# ----> 4 plt.scatter(features[lingerieData.ProductCategory], features[lingerieData.Price], alpha=0.2,\n",
    "#      5             s=features, c=lingerieData.BrandName, cmap='viridis')\n",
    "#      6 plt.xlabel(lingerieData.feature_names[ProductCategory])\n",
    "\n",
    "# TypeError: tuple indices must be integers or slices, not Series"
   ]
  },
  {
   "cell_type": "code",
   "execution_count": 41,
   "metadata": {},
   "outputs": [],
   "source": [
    "# Guess I can't scatterplot this data?\n",
    "# Let's try something else\n",
    "# Factorplot since we had luck with that before"
   ]
  },
  {
   "cell_type": "code",
   "execution_count": 42,
   "metadata": {},
   "outputs": [
    {
     "data": {
      "text/plain": [
       "<seaborn.axisgrid.FacetGrid at 0x1a1d622ef0>"
      ]
     },
     "execution_count": 42,
     "metadata": {},
     "output_type": "execute_result"
    },
    {
     "data": {
      "image/png": "[encoded data removed]",
      "text/plain": [
       "<matplotlib.figure.Figure at 0x1a1d14f5c0>"
      ]
     },
     "metadata": {},
     "output_type": "display_data"
    }
   ],
   "source": [
    "g = sns.factorplot(x=\"BrandName\", y=\"Price\", hue=\"ProductCategory\", data=lingerieData)\n",
    "g.set_xlabels('Brand')"
   ]
  },
  {
   "cell_type": "code",
   "execution_count": 43,
   "metadata": {},
   "outputs": [],
   "source": [
    "# HankyPanky is most expensive brand by far"
   ]
  },
  {
   "cell_type": "code",
   "execution_count": 44,
   "metadata": {},
   "outputs": [
    {
     "data": {
      "text/plain": [
       "<seaborn.axisgrid.FacetGrid at 0x1a13ac4048>"
      ]
     },
     "execution_count": 44,
     "metadata": {},
     "output_type": "execute_result"
    },
    {
     "data": {
      "image/png": "[encoded data removed]",
      "text/plain": [
       "<matplotlib.figure.Figure at 0x1a13a35780>"
      ]
     },
     "metadata": {},
     "output_type": "display_data"
    }
   ],
   "source": [
    "# Let's do a factorplot with Rating as our y variable, see who is highest rated\n",
    "g = sns.factorplot(x=\"BrandName\", y=\"Rating\", hue=\"ProductCategory\", data=lingerieData)\n",
    "g.set_xlabels('Brand')"
   ]
  },
  {
   "cell_type": "code",
   "execution_count": 45,
   "metadata": {},
   "outputs": [],
   "source": [
    "# Interesting\n",
    "# Aerie has the biggest spread of ratings - both the lowest and highest\n",
    "# Aerie customers are lukewarm on their pushup and strapless bras\n",
    "# But Aerie customers love their boyshort panties and are pretty happy with all other products\n",
    "# Wacoal and Calvin Klein don't have much spread; all items are solidly in the upper 4's\n",
    "# HankyPanky is upper 4's and higher for all products\n",
    "# HankyPanky's briefs and full coverage bras seem to get highest marks\n",
    "# HankyPanky's highest ratings are amusing as they're known for their super-sexy offerings"
   ]
  },
  {
   "cell_type": "code",
   "execution_count": 46,
   "metadata": {},
   "outputs": [],
   "source": [
    "# Let's do this by just SuperCategory i.e. bras vs. panties"
   ]
  },
  {
   "cell_type": "code",
   "execution_count": 47,
   "metadata": {},
   "outputs": [
    {
     "data": {
      "text/plain": [
       "<seaborn.axisgrid.FacetGrid at 0x1a1dab8c88>"
      ]
     },
     "execution_count": 47,
     "metadata": {},
     "output_type": "execute_result"
    },
    {
     "data": {
      "image/png": "[encoded data removed]",
      "text/plain": [
       "<matplotlib.figure.Figure at 0x1a1dc17a58>"
      ]
     },
     "metadata": {},
     "output_type": "display_data"
    }
   ],
   "source": [
    "g = sns.factorplot(x=\"BrandName\", y=\"Rating\", hue=\"SuperCategory\", data=lingerieData)\n",
    "g.set_xlabels('Brand')"
   ]
  },
  {
   "cell_type": "code",
   "execution_count": 48,
   "metadata": {},
   "outputs": [],
   "source": [
    "# Aerie gets much lower marks on bras than panties\n",
    "# HankyPanky scores high on both\n",
    "# Wacoal and Calvin Klein are even on both"
   ]
  },
  {
   "cell_type": "code",
   "execution_count": 49,
   "metadata": {},
   "outputs": [],
   "source": [
    "# Let's see basic pricing rank for bras vs. panties across the brands"
   ]
  },
  {
   "cell_type": "code",
   "execution_count": 50,
   "metadata": {},
   "outputs": [
    {
     "data": {
      "text/plain": [
       "<seaborn.axisgrid.FacetGrid at 0x1a1da8e828>"
      ]
     },
     "execution_count": 50,
     "metadata": {},
     "output_type": "execute_result"
    },
    {
     "data": {
      "image/png": "[encoded data removed]",
      "text/plain": [
       "<matplotlib.figure.Figure at 0x1a1dcec518>"
      ]
     },
     "metadata": {},
     "output_type": "display_data"
    }
   ],
   "source": [
    "g = sns.factorplot(x=\"BrandName\", y=\"Price\", hue=\"SuperCategory\", data=lingerieData)\n",
    "g.set_xlabels('Brand')"
   ]
  },
  {
   "cell_type": "code",
   "execution_count": 51,
   "metadata": {},
   "outputs": [],
   "source": [
    "# Aerie is overall cheapest\n",
    "# HankyPanky most expensive, by far. Bras are VERY expensive, more than twice as much as Aerie\n",
    "# And at least twice as expensive as Wacoal and Calvin Klein"
   ]
  },
  {
   "cell_type": "code",
   "execution_count": 52,
   "metadata": {},
   "outputs": [
    {
     "data": {
      "text/html": [
       "<div>\n",
       "<style scoped>\n",
       "    .dataframe tbody tr th:only-of-type {\n",
       "        vertical-align: middle;\n",
       "    }\n",
       "\n",
       "    .dataframe tbody tr th {\n",
       "        vertical-align: top;\n",
       "    }\n",
       "\n",
       "    .dataframe thead th {\n",
       "        text-align: right;\n",
       "    }\n",
       "</style>\n",
       "<table border=\"1\" class=\"dataframe\">\n",
       "  <thead>\n",
       "    <tr style=\"text-align: right;\">\n",
       "      <th></th>\n",
       "      <th>BrandName</th>\n",
       "      <th>Price_x</th>\n",
       "      <th>Price_y</th>\n",
       "    </tr>\n",
       "  </thead>\n",
       "  <tbody>\n",
       "    <tr>\n",
       "      <th>0</th>\n",
       "      <td>Aerie</td>\n",
       "      <td>4</td>\n",
       "      <td>35</td>\n",
       "    </tr>\n",
       "    <tr>\n",
       "      <th>1</th>\n",
       "      <td>Calvin Klein</td>\n",
       "      <td>7</td>\n",
       "      <td>58</td>\n",
       "    </tr>\n",
       "    <tr>\n",
       "      <th>2</th>\n",
       "      <td>HankyPanky</td>\n",
       "      <td>15</td>\n",
       "      <td>82</td>\n",
       "    </tr>\n",
       "    <tr>\n",
       "      <th>3</th>\n",
       "      <td>Wacoal</td>\n",
       "      <td>8</td>\n",
       "      <td>44</td>\n",
       "    </tr>\n",
       "  </tbody>\n",
       "</table>\n",
       "</div>"
      ],
      "text/plain": [
       "      BrandName  Price_x  Price_y\n",
       "0         Aerie        4       35\n",
       "1  Calvin Klein        7       58\n",
       "2    HankyPanky       15       82\n",
       "3        Wacoal        8       44"
      ]
     },
     "metadata": {},
     "output_type": "display_data"
    }
   ],
   "source": [
    "# Building a price table based on code found on Kaggle for another version of this data set\n",
    "df = pd.DataFrame(lingerieData.groupby('BrandName').Price.min()).reset_index()\n",
    "df2 = pd.DataFrame(lingerieData.groupby('BrandName').Price.max()).reset_index()\n",
    "df = df.merge(df2, on='BrandName')\n",
    "display(df)"
   ]
  },
  {
   "cell_type": "code",
   "execution_count": 53,
   "metadata": {},
   "outputs": [
    {
     "data": {
      "text/plain": [
       "<seaborn.axisgrid.FacetGrid at 0x1a11346438>"
      ]
     },
     "execution_count": 53,
     "metadata": {},
     "output_type": "execute_result"
    },
    {
     "data": {
      "image/png": "[encoded data removed]",
      "text/plain": [
       "<matplotlib.figure.Figure at 0x1a13a5fcf8>"
      ]
     },
     "metadata": {},
     "output_type": "display_data"
    }
   ],
   "source": [
    "# Let's look at color offerings for bras and panties\n",
    "fg = sns.factorplot('Color', data=lingerieData, kind='count', aspect=5)\n",
    "fg.set_xlabels('Color')"
   ]
  },
  {
   "cell_type": "code",
   "execution_count": 54,
   "metadata": {},
   "outputs": [],
   "source": [
    "# There's a lot of colors available. Can't read the plot to see what's most popular. Ha!\n",
    "# Text will be easier for this one"
   ]
  },
  {
   "cell_type": "code",
   "execution_count": 55,
   "metadata": {},
   "outputs": [
    {
     "data": {
      "text/plain": [
       "BrandName  SuperCategory  Color                  \n",
       "Aerie      Bras           Alpha Turquoise            334\n",
       "                          Ballet Pink                168\n",
       "                          Balmy Teal                   7\n",
       "                          Be Pretty                  101\n",
       "                          Blue Heather                46\n",
       "                          Bright Blue                 65\n",
       "                          Bright Cobalt               11\n",
       "                          Bright Neon Green            8\n",
       "                          Buff                        83\n",
       "                          Charcoal Heather            42\n",
       "                          Classic Blue                43\n",
       "                          Coral                       57\n",
       "                          Creme Blue                 244\n",
       "                          Crystal                      7\n",
       "                          Current Coral              233\n",
       "                          Dark Heather                71\n",
       "                          Dark Nude                   18\n",
       "                          Darkness Falls             156\n",
       "                          Deep Burgundy              338\n",
       "                          Deep Plum                  413\n",
       "                          Dusted Slate                78\n",
       "                          Fall Mint                  204\n",
       "                          Fresh Bright               316\n",
       "                          Glacier Gray               126\n",
       "                          Heather Frost               88\n",
       "                          Heritage Teal               32\n",
       "                          Hot Rod Pink                38\n",
       "                          Hush                       141\n",
       "                          Jade                        97\n",
       "                          Kissed                       6\n",
       "                                                    ... \n",
       "Wacoal     Panties        Night/Animal Accent          4\n",
       "                          Night/Dazzling Blue          6\n",
       "                          Night/Peach Beige           13\n",
       "                          Night/Tango Red              5\n",
       "                          Pansy                       15\n",
       "                          Pansy Heather               24\n",
       "                          Peacoat Blue                30\n",
       "                          Pink Parfait                 8\n",
       "                          Pink Yarrow                 31\n",
       "                          Pink Yarrow Heather         39\n",
       "                          Placid Blue                 47\n",
       "                          Porcelain Rose              20\n",
       "                          Purple Wine/Polka Dot       16\n",
       "                          Raspberry/Polka Dot         17\n",
       "                          Rose Smoke                   9\n",
       "                          Rose Violet                 10\n",
       "                          Rosebloom                    5\n",
       "                          Sunkist Coral               16\n",
       "                          Tango Red                   42\n",
       "                          Tango Red/Vanilla Ice       17\n",
       "                          Tile Blue                    5\n",
       "                          Turquoise                    8\n",
       "                          Vanilla Ice                 46\n",
       "                          Vanilla Ice/Peach Beige     12\n",
       "                          Very Violet                 35\n",
       "                          Very Violet/Gray             4\n",
       "                          Wild Aster                  51\n",
       "                          Wild Aster/Heather           8\n",
       "                          Wineberry                   20\n",
       "                          Yucca                       27\n",
       "Name: BrandName, Length: 604, dtype: int64"
      ]
     },
     "execution_count": 55,
     "metadata": {},
     "output_type": "execute_result"
    }
   ],
   "source": [
    "lingerieData.groupby(['BrandName', 'SuperCategory', 'Color'])['BrandName'].count()"
   ]
  },
  {
   "cell_type": "code",
   "execution_count": 56,
   "metadata": {},
   "outputs": [
    {
     "data": {
      "text/plain": [
       "BrandName\n",
       "Aerie            85\n",
       "Calvin Klein     98\n",
       "HankyPanky      165\n",
       "Wacoal           74\n",
       "Name: Color, dtype: int64"
      ]
     },
     "metadata": {},
     "output_type": "display_data"
    }
   ],
   "source": [
    "# That's a lot of colors!\n",
    "# How many colors available at each brand overall?\n",
    "display(lingerieData.groupby('BrandName').Color.nunique())"
   ]
  },
  {
   "cell_type": "code",
   "execution_count": 57,
   "metadata": {},
   "outputs": [],
   "source": [
    "# HankyPanky has most colors available overall, with CK coming in second\n",
    "# I thought Aerie would at least be second! "
   ]
  },
  {
   "cell_type": "code",
   "execution_count": 58,
   "metadata": {},
   "outputs": [
    {
     "data": {
      "text/plain": [
       "BrandName     SuperCategory\n",
       "Aerie         Bras              71\n",
       "              Panties           48\n",
       "Calvin Klein  Bras              49\n",
       "              Panties           80\n",
       "HankyPanky    Bras              75\n",
       "              Panties          161\n",
       "Wacoal        Bras              54\n",
       "              Panties           66\n",
       "Name: Color, dtype: int64"
      ]
     },
     "metadata": {},
     "output_type": "display_data"
    }
   ],
   "source": [
    "# And sorted by SuperCategory?\n",
    "display(lingerieData.groupby(['BrandName', 'SuperCategory']).Color.nunique())"
   ]
  },
  {
   "cell_type": "code",
   "execution_count": 59,
   "metadata": {},
   "outputs": [],
   "source": [
    "# HankyPanky offers the most colors of panties; again CK is second.\n",
    "# HankyPanky wins bra colors, too"
   ]
  },
  {
   "cell_type": "code",
   "execution_count": 60,
   "metadata": {},
   "outputs": [
    {
     "data": {
      "text/plain": [
       "BrandName     ProductCategory  \n",
       "Aerie         Bandeau               13\n",
       "              Bikini                13\n",
       "              Boybrief              37\n",
       "              Boyshort              10\n",
       "              Bralette              45\n",
       "              Demi Bra              11\n",
       "              Full Coverage Bra     15\n",
       "              Lightly Lined Bra     30\n",
       "              Pushup Bra            30\n",
       "              Strapless Bra         11\n",
       "              Tanga                 24\n",
       "              Thong                 30\n",
       "              Unlined Bra           31\n",
       "              Wireless Bra           9\n",
       "Calvin Klein  Bandeau                1\n",
       "              Bikini                49\n",
       "              Boyshort               7\n",
       "              Bralette              32\n",
       "              Demi Bra              13\n",
       "              Full Coverage Bra      8\n",
       "              Hipster               45\n",
       "              Pushup Bra            14\n",
       "              Tanga                  3\n",
       "              Thong                 56\n",
       "              Unlined Bra           13\n",
       "              Wireless Bra           2\n",
       "HankyPanky    Bandeau                1\n",
       "              Bikini                63\n",
       "              Boyshort             101\n",
       "              Bralette              74\n",
       "              Brief                 40\n",
       "              Demi Bra               4\n",
       "              G-String               8\n",
       "              Hipster               23\n",
       "              Thong                135\n",
       "              Unlined Bra            2\n",
       "              Wireless Bra           1\n",
       "Wacoal        Balconette Bra        21\n",
       "              Bandeau                7\n",
       "              Bikini                48\n",
       "              Boyshort               7\n",
       "              Bralette              32\n",
       "              Demi Bra               6\n",
       "              Full Coverage Bra     15\n",
       "              Hipster               33\n",
       "              Pushup Bra            13\n",
       "              Strapless Bra          3\n",
       "              Tanga                 15\n",
       "              Thong                 53\n",
       "              Unlined Bra            4\n",
       "Name: Color, dtype: int64"
      ]
     },
     "metadata": {},
     "output_type": "display_data"
    }
   ],
   "source": [
    "# And for each Product Category?\n",
    "display(lingerieData.groupby(['BrandName', 'ProductCategory']).Color.nunique())"
   ]
  },
  {
   "cell_type": "code",
   "execution_count": 61,
   "metadata": {},
   "outputs": [
    {
     "data": {
      "text/plain": [
       "BrandName  ProductName                                       \n",
       "Aerie      Aerie Adjustable Low-Back Strap                        1\n",
       "           Aerie Backless Bare Bra                                1\n",
       "           Aerie Backless Pushup Bare Bra                         2\n",
       "           Aerie Backless U Plunge Bare Bra                       1\n",
       "           Aerie Bikini                                           8\n",
       "           Aerie Boho Bandeau                                     2\n",
       "           Aerie Boho Bralette + Mesh                             7\n",
       "           Aerie Boho Halter Bralette                             9\n",
       "           Aerie Boho Plunge Bralette                             6\n",
       "           Aerie Boho Racerback Bralette                          9\n",
       "           Aerie Boybrief                                        21\n",
       "           Aerie Boyshort                                         8\n",
       "           Aerie Cheeky                                          17\n",
       "           Aerie Classic Lace Bralette                            6\n",
       "           Aerie Cutout Longline Bralette                         6\n",
       "           Aerie Everyday Loves Lace Bikini                       3\n",
       "           Aerie Everyday Loves Lace Boybrief                     5\n",
       "           Aerie Everyday Loves Lace Boyshort                     3\n",
       "           Aerie Everyday Loves Lace Cheeky                       6\n",
       "           Aerie Everyday Loves Lace Thong                        6\n",
       "           Aerie Gel Petals                                       1\n",
       "           Aerie Graphic Boybrief                                 2\n",
       "           Aerie Hi-Leg Bikini                                    5\n",
       "           Aerie Hi-Neck Lace Trim Bralette                       8\n",
       "           Aerie Lace Back String Thong                           1\n",
       "           Aerie Lace Cross-Back Bralette                         7\n",
       "           Aerie Lace Halter Bralette                             6\n",
       "           Aerie Lace Hi-Rise Boybrief                            7\n",
       "           Aerie Lace Sunnie Boybrief                             6\n",
       "           Aerie Logo Bikini                                      1\n",
       "                                                                 ..\n",
       "Wacoal     b.splendid Bikini                                      7\n",
       "           b.splendid Boyshort                                    5\n",
       "           b.splendid Bralette                                    5\n",
       "           b.splendid Hipster                                     6\n",
       "           b.splendid Underwire T-shirt Bra                       8\n",
       "           b.splendid Wire Free Push Up Bra                       4\n",
       "           b.splendid thong                                       5\n",
       "           b.sultry Balconette Underwire Bra                      8\n",
       "           b.sultry Bikini                                        9\n",
       "           b.sultry Thong                                        10\n",
       "           b.sultry Underwire Bra                                 4\n",
       "           b.sumptuous Bikini                                     2\n",
       "           b.sumptuous Underwire Balconette Bra                   2\n",
       "           b.tempt'd Ciao Bella Balconette Bra                   10\n",
       "           b.tempt'd Ciao Bella Bikini                            7\n",
       "           b.tempt'd Ciao Bella Bralette                          8\n",
       "           b.tempt'd Ciao Bella Tanga Panty                      10\n",
       "           b.tempt'd Ciao Bella Thong                             8\n",
       "           b.tempt'd Faithfully Yours Strapless Underwire Bra     2\n",
       "           b.tempt'd Full Bloom Underwire Bra                     3\n",
       "           b.tempt'd Lace Kiss Bikini                            15\n",
       "           b.tempt'd Lace Kiss Bralette                          11\n",
       "           b.tempt'd Lace Kiss Hipster                           15\n",
       "           b.tempt'd Lace Kiss Thong                             18\n",
       "           b.tempt'd Most Desired Bikini                          7\n",
       "           b.tempt'd Most Desired Hipster                         6\n",
       "           b.tempt'd Most Desired Thong                           7\n",
       "           b.tempt'd Wrap Star Bikini                             3\n",
       "           b.tempt'd Wrap Star Thong                              4\n",
       "           b.wow'd by b.tempt'd Push Up Bra                       6\n",
       "Name: Color, Length: 637, dtype: int64"
      ]
     },
     "metadata": {},
     "output_type": "display_data"
    }
   ],
   "source": [
    "# And for each product by name?\n",
    "display(lingerieData.groupby(['BrandName', 'ProductName']).Color.nunique())"
   ]
  },
  {
   "cell_type": "code",
   "execution_count": 62,
   "metadata": {},
   "outputs": [],
   "source": [
    "# Attempting a color boxplot based on code from original data set on Kaggle"
   ]
  },
  {
   "cell_type": "code",
   "execution_count": 63,
   "metadata": {},
   "outputs": [
    {
     "data": {
      "image/png": "[encoded data removed]",
      "text/plain": [
       "<matplotlib.figure.Figure at 0x1a120f19e8>"
      ]
     },
     "metadata": {},
     "output_type": "display_data"
    }
   ],
   "source": [
    "colors_df = pd.DataFrame()    \n",
    "for name, group in lingerieData.groupby('BrandName'):\n",
    "    colors = group.groupby(['ProductName']).Color.nunique()\n",
    "    colors_df = colors_df.append(pd.DataFrame({'color_num': colors, 'BrandName': name}))\n",
    "\n",
    "fig, axes = plt.subplots(nrows=1, ncols=1,figsize=(20,8))\n",
    "ax = sns.boxplot(x='color_num', y = 'BrandName', data = colors_df, ax = axes, medianprops={\"zorder\":3})\n",
    "ax = sns.swarmplot(x=\"color_num\", y=\"BrandName\", data=colors_df, color= 'grey', alpha = 0.7)\n",
    "ax.xaxis.grid(True)\n",
    "_ = ax.set_xlabel('Number of colors per product', fontsize=17)\n",
    "_= ax.tick_params(axis='both', which='major', labelsize=17)"
   ]
  },
  {
   "cell_type": "code",
   "execution_count": 64,
   "metadata": {},
   "outputs": [],
   "source": [
    "# HankyPanky has some products with 40 different color offerings! \n",
    "# Aerie has the second largest offerings, with at least one product having more than 20 color options\n",
    "# HankyPanky has lowest average number of colors-per-product, while Wacoal has the highest. \n",
    "# Wacoal has fewer products with more colors available for each\n",
    "# HankyPanky has more product, but fewer colors available on average, for each."
   ]
  },
  {
   "cell_type": "code",
   "execution_count": 65,
   "metadata": {},
   "outputs": [],
   "source": [
    "# I want to try replicating another more complicated analysis\n",
    "# This time, most popular color at each brand"
   ]
  },
  {
   "cell_type": "code",
   "execution_count": 66,
   "metadata": {},
   "outputs": [
    {
     "name": "stderr",
     "output_type": "stream",
     "text": [
      "/anaconda3/lib/python3.6/site-packages/ipykernel_launcher.py:3: FutureWarning: using a dict on a Series for aggregation\n",
      "is deprecated and will be removed in a future version\n",
      "  This is separate from the ipykernel package so we can avoid doing imports until\n",
      "/anaconda3/lib/python3.6/site-packages/ipykernel_launcher.py:8: FutureWarning: using a dict on a Series for aggregation\n",
      "is deprecated and will be removed in a future version\n",
      "  \n"
     ]
    },
    {
     "data": {
      "text/html": [
       "<div>\n",
       "<style scoped>\n",
       "    .dataframe tbody tr th:only-of-type {\n",
       "        vertical-align: middle;\n",
       "    }\n",
       "\n",
       "    .dataframe tbody tr th {\n",
       "        vertical-align: top;\n",
       "    }\n",
       "\n",
       "    .dataframe thead th {\n",
       "        text-align: right;\n",
       "    }\n",
       "</style>\n",
       "<table border=\"1\" class=\"dataframe\">\n",
       "  <thead>\n",
       "    <tr style=\"text-align: right;\">\n",
       "      <th></th>\n",
       "      <th>BrandName</th>\n",
       "      <th>1st color</th>\n",
       "      <th>count 1st color</th>\n",
       "      <th>2nd color</th>\n",
       "      <th>count 2nd color</th>\n",
       "    </tr>\n",
       "  </thead>\n",
       "  <tbody>\n",
       "    <tr>\n",
       "      <th>0</th>\n",
       "      <td>Aerie</td>\n",
       "      <td>True Black</td>\n",
       "      <td>3834</td>\n",
       "      <td>Navy</td>\n",
       "      <td>1891</td>\n",
       "    </tr>\n",
       "    <tr>\n",
       "      <th>1</th>\n",
       "      <td>Calvin Klein</td>\n",
       "      <td>BLACK</td>\n",
       "      <td>477</td>\n",
       "      <td>WHITE</td>\n",
       "      <td>246</td>\n",
       "    </tr>\n",
       "    <tr>\n",
       "      <th>2</th>\n",
       "      <td>HankyPanky</td>\n",
       "      <td>Black</td>\n",
       "      <td>1903</td>\n",
       "      <td>Chai</td>\n",
       "      <td>866</td>\n",
       "    </tr>\n",
       "    <tr>\n",
       "      <th>3</th>\n",
       "      <td>Wacoal</td>\n",
       "      <td>Night</td>\n",
       "      <td>236</td>\n",
       "      <td>Wild Aster</td>\n",
       "      <td>95</td>\n",
       "    </tr>\n",
       "  </tbody>\n",
       "</table>\n",
       "</div>"
      ],
      "text/plain": [
       "      BrandName   1st color  count 1st color   2nd color  count 2nd color\n",
       "0         Aerie  True Black             3834        Navy             1891\n",
       "1  Calvin Klein       BLACK              477       WHITE              246\n",
       "2    HankyPanky       Black             1903        Chai              866\n",
       "3        Wacoal       Night              236  Wild Aster               95"
      ]
     },
     "metadata": {},
     "output_type": "display_data"
    }
   ],
   "source": [
    "# Code tweaked from Kaggle example\n",
    "\n",
    "colors_first = lingerieData.groupby(['BrandName','Color'])['Color'].agg({'count_fir':'count'})\n",
    "df_count_first = colors_first.groupby(level=0).agg('idxmax')\n",
    "df_count_first = colors_first.loc[df_count_first['count_fir']].reset_index()\n",
    "\n",
    "data_mod = lingerieData[~lingerieData['Color'].isin(df_count_first.Color.unique())]\n",
    "colors_second = data_mod.groupby(['BrandName','Color'])['Color'].agg({'count_sec':'count'})\n",
    "df_count_second = colors_second.groupby(level=0).agg('idxmax')\n",
    "df_count_second = colors_second.loc[df_count_second['count_sec']].reset_index()\n",
    "\n",
    "df = df_count_first.merge(df_count_second,on = 'BrandName')\n",
    "df.columns = ['BrandName', '1st color', 'count 1st color', '2nd color', 'count 2nd color']\n",
    "display(df)\n",
    "\n",
    "for x in [df_count_first, df_count_second, df, data_mod, colors_first]:\n",
    "    del x"
   ]
  },
  {
   "cell_type": "code",
   "execution_count": 67,
   "metadata": {},
   "outputs": [],
   "source": [
    "# Black being the most popular is not entirely surprising\n",
    "# Wonder if that was influenced by shades of nude being split up across 2-4 shades of what would be considered \"nude\""
   ]
  },
  {
   "cell_type": "code",
   "execution_count": 68,
   "metadata": {},
   "outputs": [],
   "source": [
    "# Let's do some predictive analytics \n",
    "# Using Classification algorithms"
   ]
  },
  {
   "cell_type": "code",
   "execution_count": 13,
   "metadata": {},
   "outputs": [
    {
     "name": "stderr",
     "output_type": "stream",
     "text": [
      "/anaconda3/lib/python3.6/site-packages/sklearn/cross_validation.py:41: DeprecationWarning: This module was deprecated in version 0.18 in favor of the model_selection module into which all the refactored classes and functions are moved. Also note that the interface of the new CV iterators are different from that of this module. This module will be removed in 0.20.\n",
      "  \"This module will be removed in 0.20.\", DeprecationWarning)\n"
     ]
    }
   ],
   "source": [
    "# Algorithms\n",
    "from sklearn.ensemble import RandomForestRegressor \n",
    "from sklearn.linear_model import LinearRegression\n",
    "from sklearn.svm import SVR\n",
    "from sklearn import linear_model\n",
    "\n",
    "# Metrics Operators\n",
    "from sklearn.metrics import mean_squared_error\n",
    "from sklearn.metrics import r2_score\n",
    "from sklearn.model_selection import cross_val_score\n",
    "from math import sqrt\n",
    "\n",
    "# Cross-validation tools\n",
    "from sklearn.cross_validation import train_test_split\n"
   ]
  },
  {
   "cell_type": "code",
   "execution_count": 14,
   "metadata": {},
   "outputs": [
    {
     "data": {
      "text/html": [
       "<div>\n",
       "<style scoped>\n",
       "    .dataframe tbody tr th:only-of-type {\n",
       "        vertical-align: middle;\n",
       "    }\n",
       "\n",
       "    .dataframe tbody tr th {\n",
       "        vertical-align: top;\n",
       "    }\n",
       "\n",
       "    .dataframe thead th {\n",
       "        text-align: right;\n",
       "    }\n",
       "</style>\n",
       "<table border=\"1\" class=\"dataframe\">\n",
       "  <thead>\n",
       "    <tr style=\"text-align: right;\">\n",
       "      <th></th>\n",
       "      <th>ProductName</th>\n",
       "      <th>Price</th>\n",
       "      <th>BrandName</th>\n",
       "      <th>ProductCategory</th>\n",
       "      <th>SuperCategory</th>\n",
       "      <th>Retailer</th>\n",
       "      <th>TotalSizes</th>\n",
       "      <th>AvailSize</th>\n",
       "      <th>Color</th>\n",
       "      <th>RatingPrediction</th>\n",
       "    </tr>\n",
       "  </thead>\n",
       "  <tbody>\n",
       "    <tr>\n",
       "      <th>0</th>\n",
       "      <td>1</td>\n",
       "      <td>44</td>\n",
       "      <td>1</td>\n",
       "      <td>1</td>\n",
       "      <td>1</td>\n",
       "      <td>1</td>\n",
       "      <td>1</td>\n",
       "      <td>1</td>\n",
       "      <td>1</td>\n",
       "      <td>0</td>\n",
       "    </tr>\n",
       "    <tr>\n",
       "      <th>1</th>\n",
       "      <td>1</td>\n",
       "      <td>44</td>\n",
       "      <td>1</td>\n",
       "      <td>1</td>\n",
       "      <td>1</td>\n",
       "      <td>1</td>\n",
       "      <td>1</td>\n",
       "      <td>1</td>\n",
       "      <td>1</td>\n",
       "      <td>0</td>\n",
       "    </tr>\n",
       "    <tr>\n",
       "      <th>2</th>\n",
       "      <td>1</td>\n",
       "      <td>44</td>\n",
       "      <td>1</td>\n",
       "      <td>1</td>\n",
       "      <td>1</td>\n",
       "      <td>1</td>\n",
       "      <td>1</td>\n",
       "      <td>1</td>\n",
       "      <td>1</td>\n",
       "      <td>0</td>\n",
       "    </tr>\n",
       "    <tr>\n",
       "      <th>3</th>\n",
       "      <td>1</td>\n",
       "      <td>44</td>\n",
       "      <td>1</td>\n",
       "      <td>1</td>\n",
       "      <td>1</td>\n",
       "      <td>1</td>\n",
       "      <td>1</td>\n",
       "      <td>1</td>\n",
       "      <td>1</td>\n",
       "      <td>0</td>\n",
       "    </tr>\n",
       "    <tr>\n",
       "      <th>4</th>\n",
       "      <td>1</td>\n",
       "      <td>44</td>\n",
       "      <td>1</td>\n",
       "      <td>1</td>\n",
       "      <td>1</td>\n",
       "      <td>1</td>\n",
       "      <td>1</td>\n",
       "      <td>1</td>\n",
       "      <td>1</td>\n",
       "      <td>0</td>\n",
       "    </tr>\n",
       "  </tbody>\n",
       "</table>\n",
       "</div>"
      ],
      "text/plain": [
       "   ProductName  Price  BrandName  ProductCategory  SuperCategory  Retailer  \\\n",
       "0            1     44          1                1              1         1   \n",
       "1            1     44          1                1              1         1   \n",
       "2            1     44          1                1              1         1   \n",
       "3            1     44          1                1              1         1   \n",
       "4            1     44          1                1              1         1   \n",
       "\n",
       "   TotalSizes  AvailSize  Color  RatingPrediction  \n",
       "0           1          1      1                 0  \n",
       "1           1          1      1                 0  \n",
       "2           1          1      1                 0  \n",
       "3           1          1      1                 0  \n",
       "4           1          1      1                 0  "
      ]
     },
     "execution_count": 14,
     "metadata": {},
     "output_type": "execute_result"
    }
   ],
   "source": [
    "# Prediction file so we have it when we're ready\n",
    "lingerieDataPred = pd.read_csv(\"Lingerie_Data_Predictions.csv\")\n",
    "lingerieDataPred.head()"
   ]
  },
  {
   "cell_type": "code",
   "execution_count": 15,
   "metadata": {},
   "outputs": [],
   "source": [
    "# Looks like it uploaded okay\n",
    "# Setting aside\n",
    "# Let's go back to our primary data for analyzing algorithm performance"
   ]
  },
  {
   "cell_type": "code",
   "execution_count": 16,
   "metadata": {},
   "outputs": [],
   "source": [
    "# Because attribute info was text before, had to modify the data set to convert the data into numeric format\n",
    "# Now have to upload our Training & Testing Set\n",
    "# This is same data as our EDA, just with integers substituted for text\n",
    "# Two attributes were removed as well\n",
    "# Description and StyleAttributes\n",
    "# Information in those fields was noisy/messy; did not feel useful to our analysis"
   ]
  },
  {
   "cell_type": "code",
   "execution_count": 17,
   "metadata": {},
   "outputs": [
    {
     "data": {
      "text/html": [
       "<div>\n",
       "<style scoped>\n",
       "    .dataframe tbody tr th:only-of-type {\n",
       "        vertical-align: middle;\n",
       "    }\n",
       "\n",
       "    .dataframe tbody tr th {\n",
       "        vertical-align: top;\n",
       "    }\n",
       "\n",
       "    .dataframe thead th {\n",
       "        text-align: right;\n",
       "    }\n",
       "</style>\n",
       "<table border=\"1\" class=\"dataframe\">\n",
       "  <thead>\n",
       "    <tr style=\"text-align: right;\">\n",
       "      <th></th>\n",
       "      <th>ProductName</th>\n",
       "      <th>Price</th>\n",
       "      <th>BrandName</th>\n",
       "      <th>ProductCategory</th>\n",
       "      <th>SuperCategory</th>\n",
       "      <th>Retailer</th>\n",
       "      <th>TotalSizes</th>\n",
       "      <th>AvailSize</th>\n",
       "      <th>Color</th>\n",
       "      <th>Rating</th>\n",
       "    </tr>\n",
       "  </thead>\n",
       "  <tbody>\n",
       "    <tr>\n",
       "      <th>0</th>\n",
       "      <td>1</td>\n",
       "      <td>11</td>\n",
       "      <td>2</td>\n",
       "      <td>10</td>\n",
       "      <td>2</td>\n",
       "      <td>2</td>\n",
       "      <td>1</td>\n",
       "      <td>1</td>\n",
       "      <td>1</td>\n",
       "      <td>3</td>\n",
       "    </tr>\n",
       "    <tr>\n",
       "      <th>1</th>\n",
       "      <td>1</td>\n",
       "      <td>11</td>\n",
       "      <td>2</td>\n",
       "      <td>10</td>\n",
       "      <td>2</td>\n",
       "      <td>2</td>\n",
       "      <td>1</td>\n",
       "      <td>1</td>\n",
       "      <td>1</td>\n",
       "      <td>3</td>\n",
       "    </tr>\n",
       "    <tr>\n",
       "      <th>2</th>\n",
       "      <td>1</td>\n",
       "      <td>11</td>\n",
       "      <td>2</td>\n",
       "      <td>10</td>\n",
       "      <td>2</td>\n",
       "      <td>2</td>\n",
       "      <td>1</td>\n",
       "      <td>1</td>\n",
       "      <td>1</td>\n",
       "      <td>3</td>\n",
       "    </tr>\n",
       "    <tr>\n",
       "      <th>3</th>\n",
       "      <td>1</td>\n",
       "      <td>11</td>\n",
       "      <td>2</td>\n",
       "      <td>10</td>\n",
       "      <td>2</td>\n",
       "      <td>2</td>\n",
       "      <td>1</td>\n",
       "      <td>1</td>\n",
       "      <td>1</td>\n",
       "      <td>3</td>\n",
       "    </tr>\n",
       "    <tr>\n",
       "      <th>4</th>\n",
       "      <td>1</td>\n",
       "      <td>11</td>\n",
       "      <td>2</td>\n",
       "      <td>10</td>\n",
       "      <td>2</td>\n",
       "      <td>2</td>\n",
       "      <td>1</td>\n",
       "      <td>1</td>\n",
       "      <td>1</td>\n",
       "      <td>3</td>\n",
       "    </tr>\n",
       "  </tbody>\n",
       "</table>\n",
       "</div>"
      ],
      "text/plain": [
       "   ProductName  Price  BrandName  ProductCategory  SuperCategory  Retailer  \\\n",
       "0            1     11          2               10              2         2   \n",
       "1            1     11          2               10              2         2   \n",
       "2            1     11          2               10              2         2   \n",
       "3            1     11          2               10              2         2   \n",
       "4            1     11          2               10              2         2   \n",
       "\n",
       "   TotalSizes  AvailSize  Color  Rating  \n",
       "0           1          1      1       3  \n",
       "1           1          1      1       3  \n",
       "2           1          1      1       3  \n",
       "3           1          1      1       3  \n",
       "4           1          1      1       3  "
      ]
     },
     "execution_count": 17,
     "metadata": {},
     "output_type": "execute_result"
    }
   ],
   "source": [
    "lingerieDataTT = pd.read_csv(\"Lingerie_Data_TrainTest.csv\")\n",
    "lingerieDataTT.head()"
   ]
  },
  {
   "cell_type": "code",
   "execution_count": 18,
   "metadata": {},
   "outputs": [
    {
     "name": "stdout",
     "output_type": "stream",
     "text": [
      "<class 'pandas.core.frame.DataFrame'>\n",
      "RangeIndex: 26978 entries, 0 to 26977\n",
      "Data columns (total 10 columns):\n",
      "ProductName        26978 non-null int64\n",
      "Price              26978 non-null int64\n",
      "BrandName          26978 non-null int64\n",
      "ProductCategory    26978 non-null int64\n",
      "SuperCategory      26978 non-null int64\n",
      "Retailer           26978 non-null int64\n",
      "TotalSizes         26978 non-null int64\n",
      "AvailSize          26978 non-null int64\n",
      "Color              26978 non-null int64\n",
      "Rating             26978 non-null int64\n",
      "dtypes: int64(10)\n",
      "memory usage: 2.1 MB\n"
     ]
    }
   ],
   "source": [
    "# Review data types\n",
    "lingerieDataTT.info()"
   ]
  },
  {
   "cell_type": "code",
   "execution_count": 19,
   "metadata": {
    "scrolled": true
   },
   "outputs": [
    {
     "name": "stdout",
     "output_type": "stream",
     "text": [
      "ProductName        0\n",
      "Price              0\n",
      "BrandName          0\n",
      "ProductCategory    0\n",
      "SuperCategory      0\n",
      "Retailer           0\n",
      "TotalSizes         0\n",
      "AvailSize          0\n",
      "Color              0\n",
      "Rating             0\n",
      "dtype: int64\n"
     ]
    }
   ],
   "source": [
    "# Check for NaN's\n",
    "print(lingerieDataTT.isnull().sum())"
   ]
  },
  {
   "cell_type": "code",
   "execution_count": 20,
   "metadata": {},
   "outputs": [],
   "source": [
    "# No nulls, as expected"
   ]
  },
  {
   "cell_type": "code",
   "execution_count": 21,
   "metadata": {},
   "outputs": [
    {
     "data": {
      "text/html": [
       "<div>\n",
       "<style scoped>\n",
       "    .dataframe tbody tr th:only-of-type {\n",
       "        vertical-align: middle;\n",
       "    }\n",
       "\n",
       "    .dataframe tbody tr th {\n",
       "        vertical-align: top;\n",
       "    }\n",
       "\n",
       "    .dataframe thead th {\n",
       "        text-align: right;\n",
       "    }\n",
       "</style>\n",
       "<table border=\"1\" class=\"dataframe\">\n",
       "  <thead>\n",
       "    <tr style=\"text-align: right;\">\n",
       "      <th></th>\n",
       "      <th>ProductName</th>\n",
       "      <th>Price</th>\n",
       "      <th>BrandName</th>\n",
       "      <th>ProductCategory</th>\n",
       "      <th>SuperCategory</th>\n",
       "      <th>Retailer</th>\n",
       "      <th>TotalSizes</th>\n",
       "      <th>AvailSize</th>\n",
       "      <th>Color</th>\n",
       "      <th>Rating</th>\n",
       "    </tr>\n",
       "  </thead>\n",
       "  <tbody>\n",
       "    <tr>\n",
       "      <th>0</th>\n",
       "      <td>1</td>\n",
       "      <td>11</td>\n",
       "      <td>2</td>\n",
       "      <td>10</td>\n",
       "      <td>2</td>\n",
       "      <td>2</td>\n",
       "      <td>1</td>\n",
       "      <td>1</td>\n",
       "      <td>1</td>\n",
       "      <td>3</td>\n",
       "    </tr>\n",
       "    <tr>\n",
       "      <th>1</th>\n",
       "      <td>1</td>\n",
       "      <td>11</td>\n",
       "      <td>2</td>\n",
       "      <td>10</td>\n",
       "      <td>2</td>\n",
       "      <td>2</td>\n",
       "      <td>1</td>\n",
       "      <td>1</td>\n",
       "      <td>1</td>\n",
       "      <td>3</td>\n",
       "    </tr>\n",
       "    <tr>\n",
       "      <th>2</th>\n",
       "      <td>1</td>\n",
       "      <td>11</td>\n",
       "      <td>2</td>\n",
       "      <td>10</td>\n",
       "      <td>2</td>\n",
       "      <td>2</td>\n",
       "      <td>1</td>\n",
       "      <td>1</td>\n",
       "      <td>1</td>\n",
       "      <td>3</td>\n",
       "    </tr>\n",
       "    <tr>\n",
       "      <th>3</th>\n",
       "      <td>1</td>\n",
       "      <td>11</td>\n",
       "      <td>2</td>\n",
       "      <td>10</td>\n",
       "      <td>2</td>\n",
       "      <td>2</td>\n",
       "      <td>1</td>\n",
       "      <td>1</td>\n",
       "      <td>1</td>\n",
       "      <td>3</td>\n",
       "    </tr>\n",
       "    <tr>\n",
       "      <th>4</th>\n",
       "      <td>1</td>\n",
       "      <td>11</td>\n",
       "      <td>2</td>\n",
       "      <td>10</td>\n",
       "      <td>2</td>\n",
       "      <td>2</td>\n",
       "      <td>1</td>\n",
       "      <td>1</td>\n",
       "      <td>1</td>\n",
       "      <td>3</td>\n",
       "    </tr>\n",
       "  </tbody>\n",
       "</table>\n",
       "</div>"
      ],
      "text/plain": [
       "   ProductName  Price  BrandName  ProductCategory  SuperCategory  Retailer  \\\n",
       "0            1     11          2               10              2         2   \n",
       "1            1     11          2               10              2         2   \n",
       "2            1     11          2               10              2         2   \n",
       "3            1     11          2               10              2         2   \n",
       "4            1     11          2               10              2         2   \n",
       "\n",
       "   TotalSizes  AvailSize  Color  Rating  \n",
       "0           1          1      1       3  \n",
       "1           1          1      1       3  \n",
       "2           1          1      1       3  \n",
       "3           1          1      1       3  \n",
       "4           1          1      1       3  "
      ]
     },
     "execution_count": 21,
     "metadata": {},
     "output_type": "execute_result"
    }
   ],
   "source": [
    "lingerieDataTT.head()"
   ]
  },
  {
   "cell_type": "code",
   "execution_count": 22,
   "metadata": {},
   "outputs": [],
   "source": [
    "# Covariance"
   ]
  },
  {
   "cell_type": "code",
   "execution_count": 23,
   "metadata": {},
   "outputs": [
    {
     "name": "stdout",
     "output_type": "stream",
     "text": [
      "                  ProductName        Price  BrandName  ProductCategory  \\\n",
      "ProductName      44676.689187  1231.593420 -90.578808      -164.259317   \n",
      "Price             1231.593420    87.078344  -2.528268        -0.247855   \n",
      "BrandName          -90.578808    -2.528268   0.202618         0.487327   \n",
      "ProductCategory   -164.259317    -0.247855   0.487327        16.650106   \n",
      "SuperCategory      -36.854892     0.857884   0.093505         0.485423   \n",
      "Retailer           -90.578808    -2.528268   0.202618         0.487327   \n",
      "TotalSizes        2501.704864   145.966356  -5.864521       -13.796102   \n",
      "AvailSize         4394.533589   675.879427  -3.282418       247.617429   \n",
      "Color            21957.712855   579.582570 -47.673723      -122.900981   \n",
      "Rating              45.450976     0.461891  -0.099546        -0.222854   \n",
      "\n",
      "                 SuperCategory   Retailer   TotalSizes     AvailSize  \\\n",
      "ProductName         -36.854892 -90.578808  2501.704864   4394.533589   \n",
      "Price                 0.857884  -2.528268   145.966356    675.879427   \n",
      "BrandName             0.093505   0.202618    -5.864521     -3.282418   \n",
      "ProductCategory       0.485423   0.487327   -13.796102    247.617429   \n",
      "SuperCategory         0.241633   0.093505    -1.042678     23.105864   \n",
      "Retailer              0.093505   0.202618    -5.864521     -3.282418   \n",
      "TotalSizes           -1.042678  -5.864521   472.682614   1387.729809   \n",
      "AvailSize            23.105864  -3.282418  1387.729809  24966.426798   \n",
      "Color               -21.684501 -47.673723  1343.649452    649.195800   \n",
      "Rating               -0.119178  -0.099546     2.221262     -4.201214   \n",
      "\n",
      "                        Color     Rating  \n",
      "ProductName      21957.712855  45.450976  \n",
      "Price              579.582570   0.461891  \n",
      "BrandName          -47.673723  -0.099546  \n",
      "ProductCategory   -122.900981  -0.222854  \n",
      "SuperCategory      -21.684501  -0.119178  \n",
      "Retailer           -47.673723  -0.099546  \n",
      "TotalSizes        1343.649452   2.221262  \n",
      "AvailSize          649.195800  -4.201214  \n",
      "Color            15266.402227  24.491736  \n",
      "Rating              24.491736   0.515910  \n"
     ]
    }
   ],
   "source": [
    "covMat = lingerieDataTT.cov()\n",
    "print(covMat)"
   ]
  },
  {
   "cell_type": "code",
   "execution_count": 24,
   "metadata": {},
   "outputs": [],
   "source": [
    "# Correlation"
   ]
  },
  {
   "cell_type": "code",
   "execution_count": 25,
   "metadata": {},
   "outputs": [
    {
     "name": "stdout",
     "output_type": "stream",
     "text": [
      "                 ProductName     Price  BrandName  ProductCategory  \\\n",
      "ProductName         1.000000  0.624413  -0.952023        -0.190450   \n",
      "Price               0.624413  1.000000  -0.601907        -0.006509   \n",
      "BrandName          -0.952023 -0.601907   1.000000         0.265322   \n",
      "ProductCategory    -0.190450 -0.006509   0.265322         1.000000   \n",
      "SuperCategory      -0.354712  0.187023   0.422590         0.242010   \n",
      "Retailer           -0.952023 -0.601907   1.000000         0.265322   \n",
      "TotalSizes          0.544391  0.719470  -0.599251        -0.155512   \n",
      "AvailSize           0.131581  0.458391  -0.046151         0.384056   \n",
      "Color               0.840772  0.502680  -0.857180        -0.243769   \n",
      "Rating              0.299375  0.068912  -0.307893        -0.076037   \n",
      "\n",
      "                 SuperCategory  Retailer  TotalSizes  AvailSize     Color  \\\n",
      "ProductName          -0.354712 -0.952023    0.544391   0.131581  0.840772   \n",
      "Price                 0.187023 -0.601907    0.719470   0.458391  0.502680   \n",
      "BrandName             0.422590  1.000000   -0.599251  -0.046151 -0.857180   \n",
      "ProductCategory       0.242010  0.265322   -0.155512   0.384056 -0.243769   \n",
      "SuperCategory         1.000000  0.422590   -0.097563   0.297485 -0.357028   \n",
      "Retailer              0.422590  1.000000   -0.599251  -0.046151 -0.857180   \n",
      "TotalSizes           -0.097563 -0.599251    1.000000   0.403963  0.500187   \n",
      "AvailSize             0.297485 -0.046151    0.403963   1.000000  0.033253   \n",
      "Color                -0.357028 -0.857180    0.500187   0.033253  1.000000   \n",
      "Rating               -0.337543 -0.307893    0.142242  -0.037018  0.275972   \n",
      "\n",
      "                   Rating  \n",
      "ProductName      0.299375  \n",
      "Price            0.068912  \n",
      "BrandName       -0.307893  \n",
      "ProductCategory -0.076037  \n",
      "SuperCategory   -0.337543  \n",
      "Retailer        -0.307893  \n",
      "TotalSizes       0.142242  \n",
      "AvailSize       -0.037018  \n",
      "Color            0.275972  \n",
      "Rating           1.000000  \n"
     ]
    }
   ],
   "source": [
    "corrMat = lingerieDataTT.corr()\n",
    "print(corrMat)"
   ]
  },
  {
   "cell_type": "code",
   "execution_count": 26,
   "metadata": {},
   "outputs": [],
   "source": [
    "# Feature Selection"
   ]
  },
  {
   "cell_type": "code",
   "execution_count": 27,
   "metadata": {},
   "outputs": [
    {
     "name": "stdout",
     "output_type": "stream",
     "text": [
      "Summary of feature sample\n"
     ]
    },
    {
     "data": {
      "text/html": [
       "<div>\n",
       "<style scoped>\n",
       "    .dataframe tbody tr th:only-of-type {\n",
       "        vertical-align: middle;\n",
       "    }\n",
       "\n",
       "    .dataframe tbody tr th {\n",
       "        vertical-align: top;\n",
       "    }\n",
       "\n",
       "    .dataframe thead th {\n",
       "        text-align: right;\n",
       "    }\n",
       "</style>\n",
       "<table border=\"1\" class=\"dataframe\">\n",
       "  <thead>\n",
       "    <tr style=\"text-align: right;\">\n",
       "      <th></th>\n",
       "      <th>Price</th>\n",
       "      <th>BrandName</th>\n",
       "      <th>ProductCategory</th>\n",
       "      <th>SuperCategory</th>\n",
       "      <th>Retailer</th>\n",
       "      <th>TotalSizes</th>\n",
       "      <th>AvailSize</th>\n",
       "      <th>Color</th>\n",
       "    </tr>\n",
       "  </thead>\n",
       "  <tbody>\n",
       "    <tr>\n",
       "      <th>0</th>\n",
       "      <td>11</td>\n",
       "      <td>2</td>\n",
       "      <td>10</td>\n",
       "      <td>2</td>\n",
       "      <td>2</td>\n",
       "      <td>1</td>\n",
       "      <td>1</td>\n",
       "      <td>1</td>\n",
       "    </tr>\n",
       "    <tr>\n",
       "      <th>1</th>\n",
       "      <td>11</td>\n",
       "      <td>2</td>\n",
       "      <td>10</td>\n",
       "      <td>2</td>\n",
       "      <td>2</td>\n",
       "      <td>1</td>\n",
       "      <td>1</td>\n",
       "      <td>1</td>\n",
       "    </tr>\n",
       "    <tr>\n",
       "      <th>2</th>\n",
       "      <td>11</td>\n",
       "      <td>2</td>\n",
       "      <td>10</td>\n",
       "      <td>2</td>\n",
       "      <td>2</td>\n",
       "      <td>1</td>\n",
       "      <td>1</td>\n",
       "      <td>1</td>\n",
       "    </tr>\n",
       "    <tr>\n",
       "      <th>3</th>\n",
       "      <td>11</td>\n",
       "      <td>2</td>\n",
       "      <td>10</td>\n",
       "      <td>2</td>\n",
       "      <td>2</td>\n",
       "      <td>1</td>\n",
       "      <td>1</td>\n",
       "      <td>1</td>\n",
       "    </tr>\n",
       "    <tr>\n",
       "      <th>4</th>\n",
       "      <td>11</td>\n",
       "      <td>2</td>\n",
       "      <td>10</td>\n",
       "      <td>2</td>\n",
       "      <td>2</td>\n",
       "      <td>1</td>\n",
       "      <td>1</td>\n",
       "      <td>1</td>\n",
       "    </tr>\n",
       "  </tbody>\n",
       "</table>\n",
       "</div>"
      ],
      "text/plain": [
       "   Price  BrandName  ProductCategory  SuperCategory  Retailer  TotalSizes  \\\n",
       "0     11          2               10              2         2           1   \n",
       "1     11          2               10              2         2           1   \n",
       "2     11          2               10              2         2           1   \n",
       "3     11          2               10              2         2           1   \n",
       "4     11          2               10              2         2           1   \n",
       "\n",
       "   AvailSize  Color  \n",
       "0          1      1  \n",
       "1          1      1  \n",
       "2          1      1  \n",
       "3          1      1  \n",
       "4          1      1  "
      ]
     },
     "execution_count": 27,
     "metadata": {},
     "output_type": "execute_result"
    }
   ],
   "source": [
    "features = lingerieDataTT.iloc[:,1:9]\n",
    "print('Summary of feature sample')\n",
    "features.head()"
   ]
  },
  {
   "cell_type": "code",
   "execution_count": 28,
   "metadata": {},
   "outputs": [],
   "source": [
    "# Select dependent variable"
   ]
  },
  {
   "cell_type": "code",
   "execution_count": 29,
   "metadata": {},
   "outputs": [],
   "source": [
    "depVar = lingerieDataTT['Rating']"
   ]
  },
  {
   "cell_type": "code",
   "execution_count": 30,
   "metadata": {},
   "outputs": [],
   "source": [
    "# create Training Set for X variables"
   ]
  },
  {
   "cell_type": "code",
   "execution_count": 31,
   "metadata": {},
   "outputs": [
    {
     "data": {
      "text/html": [
       "<div>\n",
       "<style scoped>\n",
       "    .dataframe tbody tr th:only-of-type {\n",
       "        vertical-align: middle;\n",
       "    }\n",
       "\n",
       "    .dataframe tbody tr th {\n",
       "        vertical-align: top;\n",
       "    }\n",
       "\n",
       "    .dataframe thead th {\n",
       "        text-align: right;\n",
       "    }\n",
       "</style>\n",
       "<table border=\"1\" class=\"dataframe\">\n",
       "  <thead>\n",
       "    <tr style=\"text-align: right;\">\n",
       "      <th></th>\n",
       "      <th>Price</th>\n",
       "      <th>BrandName</th>\n",
       "      <th>ProductCategory</th>\n",
       "      <th>SuperCategory</th>\n",
       "      <th>Retailer</th>\n",
       "      <th>TotalSizes</th>\n",
       "      <th>AvailSize</th>\n",
       "      <th>Color</th>\n",
       "    </tr>\n",
       "  </thead>\n",
       "  <tbody>\n",
       "    <tr>\n",
       "      <th>0</th>\n",
       "      <td>11</td>\n",
       "      <td>2</td>\n",
       "      <td>10</td>\n",
       "      <td>2</td>\n",
       "      <td>2</td>\n",
       "      <td>1</td>\n",
       "      <td>1</td>\n",
       "      <td>1</td>\n",
       "    </tr>\n",
       "    <tr>\n",
       "      <th>1</th>\n",
       "      <td>11</td>\n",
       "      <td>2</td>\n",
       "      <td>10</td>\n",
       "      <td>2</td>\n",
       "      <td>2</td>\n",
       "      <td>1</td>\n",
       "      <td>1</td>\n",
       "      <td>1</td>\n",
       "    </tr>\n",
       "    <tr>\n",
       "      <th>2</th>\n",
       "      <td>11</td>\n",
       "      <td>2</td>\n",
       "      <td>10</td>\n",
       "      <td>2</td>\n",
       "      <td>2</td>\n",
       "      <td>1</td>\n",
       "      <td>1</td>\n",
       "      <td>1</td>\n",
       "    </tr>\n",
       "    <tr>\n",
       "      <th>3</th>\n",
       "      <td>11</td>\n",
       "      <td>2</td>\n",
       "      <td>10</td>\n",
       "      <td>2</td>\n",
       "      <td>2</td>\n",
       "      <td>1</td>\n",
       "      <td>1</td>\n",
       "      <td>1</td>\n",
       "    </tr>\n",
       "    <tr>\n",
       "      <th>4</th>\n",
       "      <td>11</td>\n",
       "      <td>2</td>\n",
       "      <td>10</td>\n",
       "      <td>2</td>\n",
       "      <td>2</td>\n",
       "      <td>1</td>\n",
       "      <td>1</td>\n",
       "      <td>1</td>\n",
       "    </tr>\n",
       "  </tbody>\n",
       "</table>\n",
       "</div>"
      ],
      "text/plain": [
       "   Price  BrandName  ProductCategory  SuperCategory  Retailer  TotalSizes  \\\n",
       "0     11          2               10              2         2           1   \n",
       "1     11          2               10              2         2           1   \n",
       "2     11          2               10              2         2           1   \n",
       "3     11          2               10              2         2           1   \n",
       "4     11          2               10              2         2           1   \n",
       "\n",
       "   AvailSize  Color  \n",
       "0          1      1  \n",
       "1          1      1  \n",
       "2          1      1  \n",
       "3          1      1  \n",
       "4          1      1  "
      ]
     },
     "execution_count": 31,
     "metadata": {},
     "output_type": "execute_result"
    }
   ],
   "source": [
    "X_train = (features[: 18884])\n",
    "X_train.head()"
   ]
  },
  {
   "cell_type": "code",
   "execution_count": 32,
   "metadata": {},
   "outputs": [],
   "source": [
    "# create Training Set for Y variable"
   ]
  },
  {
   "cell_type": "code",
   "execution_count": 33,
   "metadata": {},
   "outputs": [
    {
     "name": "stdout",
     "output_type": "stream",
     "text": [
      "The number of observations in the Y training set are: 18884\n"
     ]
    },
    {
     "data": {
      "text/plain": [
       "0    3\n",
       "1    3\n",
       "2    3\n",
       "3    3\n",
       "4    3\n",
       "Name: Rating, dtype: int64"
      ]
     },
     "execution_count": 33,
     "metadata": {},
     "output_type": "execute_result"
    }
   ],
   "source": [
    "y_train = depVar[: 18884]\n",
    "y_train_count = len(y_train.index)\n",
    "print('The number of observations in the Y training set are:',str(y_train_count))\n",
    "y_train.head()"
   ]
  },
  {
   "cell_type": "code",
   "execution_count": 34,
   "metadata": {},
   "outputs": [],
   "source": [
    "# create Testing Set for X variables"
   ]
  },
  {
   "cell_type": "code",
   "execution_count": 35,
   "metadata": {},
   "outputs": [
    {
     "name": "stdout",
     "output_type": "stream",
     "text": [
      "The number of observations in the feature testing set is: 8093\n",
      "       Price  BrandName  ProductCategory  SuperCategory  Retailer  TotalSizes  \\\n",
      "18885     21          2               12              2         2          13   \n",
      "18886     21          2               12              2         2          13   \n",
      "18887     21          2               12              2         2          13   \n",
      "18888     21          2               12              2         2          13   \n",
      "18889     21          2               12              2         2          13   \n",
      "\n",
      "       AvailSize  Color  \n",
      "18885        232      7  \n",
      "18886        232     16  \n",
      "18887        232      7  \n",
      "18888        232     16  \n",
      "18889        232      7  \n"
     ]
    }
   ],
   "source": [
    "X_test = features[-8093:]\n",
    "X_test_count = len(X_test.index)\n",
    "print('The number of observations in the feature testing set is:',str(X_test_count))\n",
    "print(X_test.head())"
   ]
  },
  {
   "cell_type": "code",
   "execution_count": 36,
   "metadata": {},
   "outputs": [],
   "source": [
    "# create Testing Set for Y variable; establish Ground Truth"
   ]
  },
  {
   "cell_type": "code",
   "execution_count": 37,
   "metadata": {},
   "outputs": [
    {
     "name": "stdout",
     "output_type": "stream",
     "text": [
      "The number of observations in the Y training set are: 18885\n"
     ]
    },
    {
     "data": {
      "text/plain": [
       "0    3\n",
       "1    3\n",
       "2    3\n",
       "3    3\n",
       "4    3\n",
       "Name: Rating, dtype: int64"
      ]
     },
     "execution_count": 37,
     "metadata": {},
     "output_type": "execute_result"
    }
   ],
   "source": [
    "y_test = depVar[:-8093]\n",
    "y_test_count = len(y_test.index)\n",
    "print('The number of observations in the Y training set are:',str(y_test_count))\n",
    "y_test.head()"
   ]
  },
  {
   "cell_type": "code",
   "execution_count": 38,
   "metadata": {},
   "outputs": [],
   "source": [
    "# Cross validation"
   ]
  },
  {
   "cell_type": "code",
   "execution_count": 39,
   "metadata": {},
   "outputs": [
    {
     "data": {
      "text/plain": [
       "((14163, 8), (4721, 8))"
      ]
     },
     "execution_count": 39,
     "metadata": {},
     "output_type": "execute_result"
    }
   ],
   "source": [
    "X_train, X_test, y_train, y_test = train_test_split(X_train, y_train)\n",
    "X_train.shape, X_test.shape"
   ]
  },
  {
   "cell_type": "code",
   "execution_count": 40,
   "metadata": {},
   "outputs": [],
   "source": [
    "# Models we'll be using"
   ]
  },
  {
   "cell_type": "code",
   "execution_count": 41,
   "metadata": {},
   "outputs": [],
   "source": [
    "modelRF = RandomForestRegressor()\n",
    "modelSVR = SVR()\n",
    "modelLR = LinearRegression()"
   ]
  },
  {
   "cell_type": "code",
   "execution_count": 42,
   "metadata": {},
   "outputs": [],
   "source": [
    "# Fit the data to the models"
   ]
  },
  {
   "cell_type": "code",
   "execution_count": 43,
   "metadata": {},
   "outputs": [
    {
     "data": {
      "text/plain": [
       "RandomForestRegressor(bootstrap=True, criterion='mse', max_depth=None,\n",
       "           max_features='auto', max_leaf_nodes=None,\n",
       "           min_impurity_decrease=0.0, min_impurity_split=None,\n",
       "           min_samples_leaf=1, min_samples_split=2,\n",
       "           min_weight_fraction_leaf=0.0, n_estimators=10, n_jobs=1,\n",
       "           oob_score=False, random_state=None, verbose=0, warm_start=False)"
      ]
     },
     "execution_count": 43,
     "metadata": {},
     "output_type": "execute_result"
    }
   ],
   "source": [
    "# Random Forest\n",
    "modelRF.fit(X_train,y_train)"
   ]
  },
  {
   "cell_type": "code",
   "execution_count": 44,
   "metadata": {},
   "outputs": [
    {
     "data": {
      "text/plain": [
       "SVR(C=1.0, cache_size=200, coef0=0.0, degree=3, epsilon=0.1, gamma='auto',\n",
       "  kernel='rbf', max_iter=-1, shrinking=True, tol=0.001, verbose=False)"
      ]
     },
     "execution_count": 44,
     "metadata": {},
     "output_type": "execute_result"
    }
   ],
   "source": [
    "# Support Vector Regression\n",
    "modelSVR.fit(X_train,y_train)"
   ]
  },
  {
   "cell_type": "code",
   "execution_count": 51,
   "metadata": {},
   "outputs": [
    {
     "data": {
      "text/plain": [
       "LinearRegression(copy_X=True, fit_intercept=True, n_jobs=1, normalize=False)"
      ]
     },
     "execution_count": 51,
     "metadata": {},
     "output_type": "execute_result"
    }
   ],
   "source": [
    "# Linear Regression\n",
    "modelLR.fit(X_train,y_train)"
   ]
  },
  {
   "cell_type": "code",
   "execution_count": 45,
   "metadata": {},
   "outputs": [],
   "source": [
    "# Check the training Score for each"
   ]
  },
  {
   "cell_type": "code",
   "execution_count": 52,
   "metadata": {},
   "outputs": [
    {
     "name": "stdout",
     "output_type": "stream",
     "text": [
      "[0.68702945 0.67055348 0.69338254]\n"
     ]
    },
    {
     "data": {
      "text/plain": [
       "0.728392424780882"
      ]
     },
     "execution_count": 52,
     "metadata": {},
     "output_type": "execute_result"
    }
   ],
   "source": [
    "# Random Forest\n",
    "print(cross_val_score(modelRF, X_train, y_train))\n",
    "modelRF.score(X_train,y_train)"
   ]
  },
  {
   "cell_type": "code",
   "execution_count": 53,
   "metadata": {},
   "outputs": [
    {
     "name": "stdout",
     "output_type": "stream",
     "text": [
      "[0.5769017  0.56079944 0.55585811]\n"
     ]
    },
    {
     "data": {
      "text/plain": [
       "0.6175348116259891"
      ]
     },
     "execution_count": 53,
     "metadata": {},
     "output_type": "execute_result"
    }
   ],
   "source": [
    "# Support Vector Regression\n",
    "print(cross_val_score(modelSVR, X_train, y_train))\n",
    "modelSVR.score(X_train,y_train)"
   ]
  },
  {
   "cell_type": "code",
   "execution_count": 54,
   "metadata": {},
   "outputs": [
    {
     "name": "stdout",
     "output_type": "stream",
     "text": [
      "[0.09155679 0.09203611 0.09445026]\n"
     ]
    },
    {
     "data": {
      "text/plain": [
       "0.09389089523489258"
      ]
     },
     "execution_count": 54,
     "metadata": {},
     "output_type": "execute_result"
    }
   ],
   "source": [
    "# Linear Regression\n",
    "print(cross_val_score(modelLR, X_train, y_train))\n",
    "modelLR.score(X_train,y_train)"
   ]
  },
  {
   "cell_type": "code",
   "execution_count": 55,
   "metadata": {},
   "outputs": [],
   "source": [
    "# Make Predictions\n",
    "# Choose model\n",
    "# We'll do Random Forest \n",
    "# Has best #'s"
   ]
  },
  {
   "cell_type": "code",
   "execution_count": 56,
   "metadata": {},
   "outputs": [
    {
     "name": "stdout",
     "output_type": "stream",
     "text": [
      "R Squared: 0.696\n",
      "RMSE: 0.420\n"
     ]
    }
   ],
   "source": [
    "predictions = modelRF.predict(X_test)\n",
    "predRsquared = r2_score(y_test,predictions)\n",
    "rmse = sqrt(mean_squared_error(y_test, predictions))\n",
    "print('R Squared: %.3f' % predRsquared)\n",
    "print('RMSE: %.3f' % rmse)"
   ]
  },
  {
   "cell_type": "code",
   "execution_count": 57,
   "metadata": {},
   "outputs": [],
   "source": [
    "# Plot the results\n",
    "# Using Scatterplot"
   ]
  },
  {
   "cell_type": "code",
   "execution_count": 58,
   "metadata": {},
   "outputs": [
    {
     "data": {
      "image/png": "[encoded data removed]",
      "text/plain": [
       "<matplotlib.figure.Figure at 0x1a0b7850f0>"
      ]
     },
     "metadata": {},
     "output_type": "display_data"
    }
   ],
   "source": [
    "plt.scatter(y_test, predictions, color=['blue','green'], alpha = 0.5)\n",
    "plt.xlabel('Ground Truth')\n",
    "plt.ylabel('Predictions')\n",
    "plt.show();"
   ]
  },
  {
   "cell_type": "code",
   "execution_count": 59,
   "metadata": {},
   "outputs": [],
   "source": [
    "# Now let's make some real predictions"
   ]
  },
  {
   "cell_type": "code",
   "execution_count": 60,
   "metadata": {},
   "outputs": [
    {
     "data": {
      "text/html": [
       "<div>\n",
       "<style scoped>\n",
       "    .dataframe tbody tr th:only-of-type {\n",
       "        vertical-align: middle;\n",
       "    }\n",
       "\n",
       "    .dataframe tbody tr th {\n",
       "        vertical-align: top;\n",
       "    }\n",
       "\n",
       "    .dataframe thead th {\n",
       "        text-align: right;\n",
       "    }\n",
       "</style>\n",
       "<table border=\"1\" class=\"dataframe\">\n",
       "  <thead>\n",
       "    <tr style=\"text-align: right;\">\n",
       "      <th></th>\n",
       "      <th>ProductName</th>\n",
       "      <th>Price</th>\n",
       "      <th>BrandName</th>\n",
       "      <th>ProductCategory</th>\n",
       "      <th>SuperCategory</th>\n",
       "      <th>Retailer</th>\n",
       "      <th>TotalSizes</th>\n",
       "      <th>AvailSize</th>\n",
       "      <th>Color</th>\n",
       "      <th>RatingPrediction</th>\n",
       "    </tr>\n",
       "  </thead>\n",
       "  <tbody>\n",
       "    <tr>\n",
       "      <th>0</th>\n",
       "      <td>1</td>\n",
       "      <td>44</td>\n",
       "      <td>1</td>\n",
       "      <td>1</td>\n",
       "      <td>1</td>\n",
       "      <td>1</td>\n",
       "      <td>1</td>\n",
       "      <td>1</td>\n",
       "      <td>1</td>\n",
       "      <td>0</td>\n",
       "    </tr>\n",
       "    <tr>\n",
       "      <th>1</th>\n",
       "      <td>1</td>\n",
       "      <td>44</td>\n",
       "      <td>1</td>\n",
       "      <td>1</td>\n",
       "      <td>1</td>\n",
       "      <td>1</td>\n",
       "      <td>1</td>\n",
       "      <td>1</td>\n",
       "      <td>1</td>\n",
       "      <td>0</td>\n",
       "    </tr>\n",
       "    <tr>\n",
       "      <th>2</th>\n",
       "      <td>1</td>\n",
       "      <td>44</td>\n",
       "      <td>1</td>\n",
       "      <td>1</td>\n",
       "      <td>1</td>\n",
       "      <td>1</td>\n",
       "      <td>1</td>\n",
       "      <td>1</td>\n",
       "      <td>1</td>\n",
       "      <td>0</td>\n",
       "    </tr>\n",
       "    <tr>\n",
       "      <th>3</th>\n",
       "      <td>1</td>\n",
       "      <td>44</td>\n",
       "      <td>1</td>\n",
       "      <td>1</td>\n",
       "      <td>1</td>\n",
       "      <td>1</td>\n",
       "      <td>1</td>\n",
       "      <td>1</td>\n",
       "      <td>1</td>\n",
       "      <td>0</td>\n",
       "    </tr>\n",
       "    <tr>\n",
       "      <th>4</th>\n",
       "      <td>1</td>\n",
       "      <td>44</td>\n",
       "      <td>1</td>\n",
       "      <td>1</td>\n",
       "      <td>1</td>\n",
       "      <td>1</td>\n",
       "      <td>1</td>\n",
       "      <td>1</td>\n",
       "      <td>1</td>\n",
       "      <td>0</td>\n",
       "    </tr>\n",
       "  </tbody>\n",
       "</table>\n",
       "</div>"
      ],
      "text/plain": [
       "   ProductName  Price  BrandName  ProductCategory  SuperCategory  Retailer  \\\n",
       "0            1     44          1                1              1         1   \n",
       "1            1     44          1                1              1         1   \n",
       "2            1     44          1                1              1         1   \n",
       "3            1     44          1                1              1         1   \n",
       "4            1     44          1                1              1         1   \n",
       "\n",
       "   TotalSizes  AvailSize  Color  RatingPrediction  \n",
       "0           1          1      1                 0  \n",
       "1           1          1      1                 0  \n",
       "2           1          1      1                 0  \n",
       "3           1          1      1                 0  \n",
       "4           1          1      1                 0  "
      ]
     },
     "execution_count": 60,
     "metadata": {},
     "output_type": "execute_result"
    }
   ],
   "source": [
    "lingerieDataPred = pd.read_csv(\"Lingerie_Data_Predictions.csv\")\n",
    "lingerieDataPred.head()"
   ]
  },
  {
   "cell_type": "code",
   "execution_count": 61,
   "metadata": {},
   "outputs": [
    {
     "name": "stdout",
     "output_type": "stream",
     "text": [
      "<class 'pandas.core.frame.DataFrame'>\n",
      "RangeIndex: 11578 entries, 0 to 11577\n",
      "Data columns (total 10 columns):\n",
      "ProductName         11578 non-null int64\n",
      "Price               11578 non-null int64\n",
      "BrandName           11578 non-null int64\n",
      "ProductCategory     11578 non-null int64\n",
      "SuperCategory       11578 non-null int64\n",
      "Retailer            11578 non-null int64\n",
      "TotalSizes          11578 non-null int64\n",
      "AvailSize           11578 non-null int64\n",
      "Color               11578 non-null int64\n",
      "RatingPrediction    11578 non-null int64\n",
      "dtypes: int64(10)\n",
      "memory usage: 904.6 KB\n"
     ]
    }
   ],
   "source": [
    "lingerieDataPred.info()"
   ]
  },
  {
   "cell_type": "code",
   "execution_count": 62,
   "metadata": {},
   "outputs": [],
   "source": [
    "# Feature Selection"
   ]
  },
  {
   "cell_type": "code",
   "execution_count": 63,
   "metadata": {},
   "outputs": [
    {
     "name": "stdout",
     "output_type": "stream",
     "text": [
      "Summary of feature sample\n"
     ]
    },
    {
     "data": {
      "text/html": [
       "<div>\n",
       "<style scoped>\n",
       "    .dataframe tbody tr th:only-of-type {\n",
       "        vertical-align: middle;\n",
       "    }\n",
       "\n",
       "    .dataframe tbody tr th {\n",
       "        vertical-align: top;\n",
       "    }\n",
       "\n",
       "    .dataframe thead th {\n",
       "        text-align: right;\n",
       "    }\n",
       "</style>\n",
       "<table border=\"1\" class=\"dataframe\">\n",
       "  <thead>\n",
       "    <tr style=\"text-align: right;\">\n",
       "      <th></th>\n",
       "      <th>Price</th>\n",
       "      <th>BrandName</th>\n",
       "      <th>ProductCategory</th>\n",
       "      <th>SuperCategory</th>\n",
       "      <th>Retailer</th>\n",
       "      <th>TotalSizes</th>\n",
       "      <th>AvailSize</th>\n",
       "      <th>Color</th>\n",
       "    </tr>\n",
       "  </thead>\n",
       "  <tbody>\n",
       "    <tr>\n",
       "      <th>0</th>\n",
       "      <td>11</td>\n",
       "      <td>2</td>\n",
       "      <td>10</td>\n",
       "      <td>2</td>\n",
       "      <td>2</td>\n",
       "      <td>1</td>\n",
       "      <td>1</td>\n",
       "      <td>1</td>\n",
       "    </tr>\n",
       "    <tr>\n",
       "      <th>1</th>\n",
       "      <td>11</td>\n",
       "      <td>2</td>\n",
       "      <td>10</td>\n",
       "      <td>2</td>\n",
       "      <td>2</td>\n",
       "      <td>1</td>\n",
       "      <td>1</td>\n",
       "      <td>1</td>\n",
       "    </tr>\n",
       "    <tr>\n",
       "      <th>2</th>\n",
       "      <td>11</td>\n",
       "      <td>2</td>\n",
       "      <td>10</td>\n",
       "      <td>2</td>\n",
       "      <td>2</td>\n",
       "      <td>1</td>\n",
       "      <td>1</td>\n",
       "      <td>1</td>\n",
       "    </tr>\n",
       "    <tr>\n",
       "      <th>3</th>\n",
       "      <td>11</td>\n",
       "      <td>2</td>\n",
       "      <td>10</td>\n",
       "      <td>2</td>\n",
       "      <td>2</td>\n",
       "      <td>1</td>\n",
       "      <td>1</td>\n",
       "      <td>1</td>\n",
       "    </tr>\n",
       "    <tr>\n",
       "      <th>4</th>\n",
       "      <td>11</td>\n",
       "      <td>2</td>\n",
       "      <td>10</td>\n",
       "      <td>2</td>\n",
       "      <td>2</td>\n",
       "      <td>1</td>\n",
       "      <td>1</td>\n",
       "      <td>1</td>\n",
       "    </tr>\n",
       "  </tbody>\n",
       "</table>\n",
       "</div>"
      ],
      "text/plain": [
       "   Price  BrandName  ProductCategory  SuperCategory  Retailer  TotalSizes  \\\n",
       "0     11          2               10              2         2           1   \n",
       "1     11          2               10              2         2           1   \n",
       "2     11          2               10              2         2           1   \n",
       "3     11          2               10              2         2           1   \n",
       "4     11          2               10              2         2           1   \n",
       "\n",
       "   AvailSize  Color  \n",
       "0          1      1  \n",
       "1          1      1  \n",
       "2          1      1  \n",
       "3          1      1  \n",
       "4          1      1  "
      ]
     },
     "execution_count": 63,
     "metadata": {},
     "output_type": "execute_result"
    }
   ],
   "source": [
    "featuresPred = lingerieDataPred.iloc[:,1:9]\n",
    "print('Summary of feature sample')\n",
    "features.head()"
   ]
  },
  {
   "cell_type": "code",
   "execution_count": 64,
   "metadata": {},
   "outputs": [],
   "source": [
    "# Select dependent variable"
   ]
  },
  {
   "cell_type": "code",
   "execution_count": 65,
   "metadata": {},
   "outputs": [],
   "source": [
    "depVar = lingerieDataPred['RatingPrediction']"
   ]
  },
  {
   "cell_type": "code",
   "execution_count": 66,
   "metadata": {},
   "outputs": [],
   "source": [
    "# Make Predictions"
   ]
  },
  {
   "cell_type": "code",
   "execution_count": 67,
   "metadata": {},
   "outputs": [],
   "source": [
    "X,y = featuresPred, lingerieDataPred.RatingPrediction"
   ]
  },
  {
   "cell_type": "code",
   "execution_count": 68,
   "metadata": {},
   "outputs": [
    {
     "name": "stdout",
     "output_type": "stream",
     "text": [
      "R Squared: 0.000\n",
      "RMSE: 4.171\n"
     ]
    }
   ],
   "source": [
    "predictions = modelRF.predict(X)\n",
    "predRsquared = r2_score(y,predictions)\n",
    "rmse = sqrt(mean_squared_error(y, predictions))\n",
    "print('R Squared: %.3f' % predRsquared)\n",
    "print('RMSE: %.3f' % rmse)"
   ]
  },
  {
   "cell_type": "code",
   "execution_count": 69,
   "metadata": {
    "scrolled": true
   },
   "outputs": [
    {
     "data": {
      "image/png": "[encoded data removed]",
      "text/plain": [
       "<matplotlib.figure.Figure at 0x1a0c34c208>"
      ]
     },
     "metadata": {},
     "output_type": "display_data"
    }
   ],
   "source": [
    "plt.scatter(y, predictions, color=['blue','green'], alpha = 0.5)\n",
    "plt.xlabel('Ground Truth')\n",
    "plt.ylabel('Predictions')\n",
    "plt.show();"
   ]
  },
  {
   "cell_type": "code",
   "execution_count": 71,
   "metadata": {},
   "outputs": [],
   "source": [
    "# Predicted ratings are pretty evenly scattered, but definitely more concentrated at the top of the scale"
   ]
  }
 ],
 "metadata": {
  "kernelspec": {
   "display_name": "Python 3",
   "language": "python",
   "name": "python3"
  },
  "language_info": {
   "codemirror_mode": {
    "name": "ipython",
    "version": 3
   },
   "file_extension": ".py",
   "mimetype": "text/x-python",
   "name": "python",
   "nbconvert_exporter": "python",
   "pygments_lexer": "ipython3",
   "version": "3.6.4"
  }
 },
 "nbformat": 4,
 "nbformat_minor": 2
}
