{
 "cells": [
  {
   "cell_type": "code",
   "execution_count": 1,
   "metadata": {},
   "outputs": [],
   "source": [
    "# import packages\n",
    "# numpy, pandas, scipy, math, matplotlib"
   ]
  },
  {
   "cell_type": "code",
   "execution_count": 72,
   "metadata": {},
   "outputs": [],
   "source": [
    "import numpy as np\n",
    "import pandas as pd\n",
    "import scipy\n",
    "from math import sqrt\n",
    "import matplotlib.pyplot as plt\n",
    "import seaborn as sns"
   ]
  },
  {
   "cell_type": "code",
   "execution_count": 3,
   "metadata": {},
   "outputs": [],
   "source": [
    "# import classifiers\n",
    "# Random Forest, Decision Tree, KNN"
   ]
  },
  {
   "cell_type": "code",
   "execution_count": 4,
   "metadata": {},
   "outputs": [],
   "source": [
    "from sklearn.ensemble import RandomForestClassifier\n",
    "from sklearn import tree\n",
    "from sklearn.neighbors import KNeighborsClassifier"
   ]
  },
  {
   "cell_type": "code",
   "execution_count": 5,
   "metadata": {},
   "outputs": [],
   "source": [
    "# import model metrics operators \n",
    "# just in case I need them"
   ]
  },
  {
   "cell_type": "code",
   "execution_count": 6,
   "metadata": {},
   "outputs": [],
   "source": [
    "from sklearn.metrics import mean_squared_error\n",
    "from sklearn.metrics import r2_score\n",
    "from sklearn.model_selection import cross_val_score"
   ]
  },
  {
   "cell_type": "code",
   "execution_count": 7,
   "metadata": {},
   "outputs": [],
   "source": [
    "# import cross-validation tools"
   ]
  },
  {
   "cell_type": "code",
   "execution_count": 8,
   "metadata": {},
   "outputs": [
    {
     "name": "stderr",
     "output_type": "stream",
     "text": [
      "/anaconda3/lib/python3.6/site-packages/sklearn/cross_validation.py:41: DeprecationWarning: This module was deprecated in version 0.18 in favor of the model_selection module into which all the refactored classes and functions are moved. Also note that the interface of the new CV iterators are different from that of this module. This module will be removed in 0.20.\n",
      "  \"This module will be removed in 0.20.\", DeprecationWarning)\n"
     ]
    }
   ],
   "source": [
    "from sklearn.cross_validation import train_test_split"
   ]
  },
  {
   "cell_type": "code",
   "execution_count": 9,
   "metadata": {},
   "outputs": [],
   "source": [
    "# import feature selection tools"
   ]
  },
  {
   "cell_type": "code",
   "execution_count": 10,
   "metadata": {},
   "outputs": [],
   "source": [
    "from sklearn.svm import LinearSVC\n",
    "from sklearn.feature_selection import RFE"
   ]
  },
  {
   "cell_type": "code",
   "execution_count": 11,
   "metadata": {},
   "outputs": [],
   "source": [
    "# import data"
   ]
  },
  {
   "cell_type": "code",
   "execution_count": 12,
   "metadata": {},
   "outputs": [
    {
     "data": {
      "text/html": [
       "<div>\n",
       "<style scoped>\n",
       "    .dataframe tbody tr th:only-of-type {\n",
       "        vertical-align: middle;\n",
       "    }\n",
       "\n",
       "    .dataframe tbody tr th {\n",
       "        vertical-align: top;\n",
       "    }\n",
       "\n",
       "    .dataframe thead th {\n",
       "        text-align: right;\n",
       "    }\n",
       "</style>\n",
       "<table border=\"1\" class=\"dataframe\">\n",
       "  <thead>\n",
       "    <tr style=\"text-align: right;\">\n",
       "      <th></th>\n",
       "      <th>ID</th>\n",
       "      <th>LIMIT_BAL</th>\n",
       "      <th>SEX</th>\n",
       "      <th>EDUCATION</th>\n",
       "      <th>MARRIAGE</th>\n",
       "      <th>AGE</th>\n",
       "      <th>PAY_0</th>\n",
       "      <th>PAY_2</th>\n",
       "      <th>PAY_3</th>\n",
       "      <th>PAY_4</th>\n",
       "      <th>...</th>\n",
       "      <th>BILL_AMT4</th>\n",
       "      <th>BILL_AMT5</th>\n",
       "      <th>BILL_AMT6</th>\n",
       "      <th>PAY_AMT1</th>\n",
       "      <th>PAY_AMT2</th>\n",
       "      <th>PAY_AMT3</th>\n",
       "      <th>PAY_AMT4</th>\n",
       "      <th>PAY_AMT5</th>\n",
       "      <th>PAY_AMT6</th>\n",
       "      <th>DEFAULT_PRED</th>\n",
       "    </tr>\n",
       "  </thead>\n",
       "  <tbody>\n",
       "    <tr>\n",
       "      <th>0</th>\n",
       "      <td>1</td>\n",
       "      <td>20000</td>\n",
       "      <td>2</td>\n",
       "      <td>2</td>\n",
       "      <td>1</td>\n",
       "      <td>24</td>\n",
       "      <td>2</td>\n",
       "      <td>2</td>\n",
       "      <td>-1</td>\n",
       "      <td>-1</td>\n",
       "      <td>...</td>\n",
       "      <td>0</td>\n",
       "      <td>0</td>\n",
       "      <td>0</td>\n",
       "      <td>0</td>\n",
       "      <td>689</td>\n",
       "      <td>0</td>\n",
       "      <td>0</td>\n",
       "      <td>0</td>\n",
       "      <td>0</td>\n",
       "      <td>1</td>\n",
       "    </tr>\n",
       "    <tr>\n",
       "      <th>1</th>\n",
       "      <td>2</td>\n",
       "      <td>120000</td>\n",
       "      <td>2</td>\n",
       "      <td>2</td>\n",
       "      <td>2</td>\n",
       "      <td>26</td>\n",
       "      <td>-1</td>\n",
       "      <td>2</td>\n",
       "      <td>0</td>\n",
       "      <td>0</td>\n",
       "      <td>...</td>\n",
       "      <td>3272</td>\n",
       "      <td>3455</td>\n",
       "      <td>3261</td>\n",
       "      <td>0</td>\n",
       "      <td>1000</td>\n",
       "      <td>1000</td>\n",
       "      <td>1000</td>\n",
       "      <td>0</td>\n",
       "      <td>2000</td>\n",
       "      <td>1</td>\n",
       "    </tr>\n",
       "    <tr>\n",
       "      <th>2</th>\n",
       "      <td>3</td>\n",
       "      <td>90000</td>\n",
       "      <td>2</td>\n",
       "      <td>2</td>\n",
       "      <td>2</td>\n",
       "      <td>34</td>\n",
       "      <td>0</td>\n",
       "      <td>0</td>\n",
       "      <td>0</td>\n",
       "      <td>0</td>\n",
       "      <td>...</td>\n",
       "      <td>14331</td>\n",
       "      <td>14948</td>\n",
       "      <td>15549</td>\n",
       "      <td>1518</td>\n",
       "      <td>1500</td>\n",
       "      <td>1000</td>\n",
       "      <td>1000</td>\n",
       "      <td>1000</td>\n",
       "      <td>5000</td>\n",
       "      <td>0</td>\n",
       "    </tr>\n",
       "    <tr>\n",
       "      <th>3</th>\n",
       "      <td>4</td>\n",
       "      <td>50000</td>\n",
       "      <td>2</td>\n",
       "      <td>2</td>\n",
       "      <td>1</td>\n",
       "      <td>37</td>\n",
       "      <td>0</td>\n",
       "      <td>0</td>\n",
       "      <td>0</td>\n",
       "      <td>0</td>\n",
       "      <td>...</td>\n",
       "      <td>28314</td>\n",
       "      <td>28959</td>\n",
       "      <td>29547</td>\n",
       "      <td>2000</td>\n",
       "      <td>2019</td>\n",
       "      <td>1200</td>\n",
       "      <td>1100</td>\n",
       "      <td>1069</td>\n",
       "      <td>1000</td>\n",
       "      <td>0</td>\n",
       "    </tr>\n",
       "    <tr>\n",
       "      <th>4</th>\n",
       "      <td>5</td>\n",
       "      <td>50000</td>\n",
       "      <td>1</td>\n",
       "      <td>2</td>\n",
       "      <td>1</td>\n",
       "      <td>57</td>\n",
       "      <td>-1</td>\n",
       "      <td>0</td>\n",
       "      <td>-1</td>\n",
       "      <td>0</td>\n",
       "      <td>...</td>\n",
       "      <td>20940</td>\n",
       "      <td>19146</td>\n",
       "      <td>19131</td>\n",
       "      <td>2000</td>\n",
       "      <td>36681</td>\n",
       "      <td>10000</td>\n",
       "      <td>9000</td>\n",
       "      <td>689</td>\n",
       "      <td>679</td>\n",
       "      <td>0</td>\n",
       "    </tr>\n",
       "  </tbody>\n",
       "</table>\n",
       "<p>5 rows × 25 columns</p>\n",
       "</div>"
      ],
      "text/plain": [
       "   ID  LIMIT_BAL  SEX  EDUCATION  MARRIAGE  AGE  PAY_0  PAY_2  PAY_3  PAY_4  \\\n",
       "0   1      20000    2          2         1   24      2      2     -1     -1   \n",
       "1   2     120000    2          2         2   26     -1      2      0      0   \n",
       "2   3      90000    2          2         2   34      0      0      0      0   \n",
       "3   4      50000    2          2         1   37      0      0      0      0   \n",
       "4   5      50000    1          2         1   57     -1      0     -1      0   \n",
       "\n",
       "       ...       BILL_AMT4  BILL_AMT5  BILL_AMT6  PAY_AMT1  PAY_AMT2  \\\n",
       "0      ...               0          0          0         0       689   \n",
       "1      ...            3272       3455       3261         0      1000   \n",
       "2      ...           14331      14948      15549      1518      1500   \n",
       "3      ...           28314      28959      29547      2000      2019   \n",
       "4      ...           20940      19146      19131      2000     36681   \n",
       "\n",
       "   PAY_AMT3  PAY_AMT4  PAY_AMT5  PAY_AMT6  DEFAULT_PRED  \n",
       "0         0         0         0         0             1  \n",
       "1      1000      1000         0      2000             1  \n",
       "2      1000      1000      1000      5000             0  \n",
       "3      1200      1100      1069      1000             0  \n",
       "4     10000      9000       689       679             0  \n",
       "\n",
       "[5 rows x 25 columns]"
      ]
     },
     "execution_count": 12,
     "metadata": {},
     "output_type": "execute_result"
    }
   ],
   "source": [
    "creditData = pd.read_csv('credit_default_data.csv', header=1)\n",
    "creditData.head()"
   ]
  },
  {
   "cell_type": "code",
   "execution_count": 13,
   "metadata": {},
   "outputs": [],
   "source": [
    "# Review the data"
   ]
  },
  {
   "cell_type": "code",
   "execution_count": 14,
   "metadata": {},
   "outputs": [
    {
     "name": "stdout",
     "output_type": "stream",
     "text": [
      "<class 'pandas.core.frame.DataFrame'>\n",
      "RangeIndex: 30000 entries, 0 to 29999\n",
      "Data columns (total 25 columns):\n",
      "ID              30000 non-null int64\n",
      "LIMIT_BAL       30000 non-null int64\n",
      "SEX             30000 non-null int64\n",
      "EDUCATION       30000 non-null int64\n",
      "MARRIAGE        30000 non-null int64\n",
      "AGE             30000 non-null int64\n",
      "PAY_0           30000 non-null int64\n",
      "PAY_2           30000 non-null int64\n",
      "PAY_3           30000 non-null int64\n",
      "PAY_4           30000 non-null int64\n",
      "PAY_5           30000 non-null int64\n",
      "PAY_6           30000 non-null int64\n",
      "BILL_AMT1       30000 non-null int64\n",
      "BILL_AMT2       30000 non-null int64\n",
      "BILL_AMT3       30000 non-null int64\n",
      "BILL_AMT4       30000 non-null int64\n",
      "BILL_AMT5       30000 non-null int64\n",
      "BILL_AMT6       30000 non-null int64\n",
      "PAY_AMT1        30000 non-null int64\n",
      "PAY_AMT2        30000 non-null int64\n",
      "PAY_AMT3        30000 non-null int64\n",
      "PAY_AMT4        30000 non-null int64\n",
      "PAY_AMT5        30000 non-null int64\n",
      "PAY_AMT6        30000 non-null int64\n",
      "DEFAULT_PRED    30000 non-null int64\n",
      "dtypes: int64(25)\n",
      "memory usage: 5.7 MB\n"
     ]
    }
   ],
   "source": [
    "creditData.info()"
   ]
  },
  {
   "cell_type": "code",
   "execution_count": 15,
   "metadata": {},
   "outputs": [],
   "source": [
    "# No nulls to be removed\n",
    "# Let's check for covariance"
   ]
  },
  {
   "cell_type": "code",
   "execution_count": 16,
   "metadata": {},
   "outputs": [
    {
     "name": "stdout",
     "output_type": "stream",
     "text": [
      "                        ID     LIMIT_BAL          SEX     EDUCATION  \\\n",
      "ID            7.500250e+07  2.941664e+07    78.356379    268.154338   \n",
      "LIMIT_BAL     2.941664e+07  1.683446e+10  1571.050630 -22474.028945   \n",
      "SEX           7.835638e+01  1.571051e+03     0.239247      0.005502   \n",
      "EDUCATION     2.681543e+02 -2.247403e+04     0.005502      0.624651   \n",
      "MARRIAGE     -1.314525e+02 -7.323670e+03    -0.008014     -0.059184   \n",
      "AGE           1.491057e+03  1.730767e+05    -0.409726      1.275380   \n",
      "PAY_0        -2.975726e+02 -3.954593e+04    -0.031685      0.093584   \n",
      "PAY_2        -1.162770e+02 -4.603765e+04    -0.041442      0.115025   \n",
      "PAY_3        -1.916922e+02 -4.443225e+04    -0.038694      0.107861   \n",
      "PAY_4        -2.769132e+01 -4.057181e+04    -0.034411      0.100528   \n",
      "PAY_5        -2.178600e+02 -3.667056e+04    -0.030521      0.087340   \n",
      "PAY_6        -2.018774e+02 -3.509308e+04    -0.024754      0.074816   \n",
      "BILL_AMT1     1.236447e+07  2.727020e+09 -1211.694332   1372.377644   \n",
      "BILL_AMT2     1.108392e+07  2.570130e+09 -1085.595467   1054.657595   \n",
      "BILL_AMT3     1.462688e+07  2.548533e+09  -833.207432    712.664124   \n",
      "BILL_AMT4     2.248126e+07  2.453926e+09  -688.489572    -22.948827   \n",
      "BILL_AMT5     8.795803e+06  2.331481e+09  -505.694333   -363.577664   \n",
      "BILL_AMT6     8.628506e+06  2.243837e+09  -487.430160   -428.274232   \n",
      "PAY_AMT1      1.397501e+06  4.195711e+08    -1.964266   -490.330155   \n",
      "PAY_AMT2      1.677383e+06  5.333504e+08   -15.675500   -547.005021   \n",
      "PAY_AMT3      5.969803e+06  4.801180e+08   -74.034812   -555.834305   \n",
      "PAY_AMT4      1.057334e+06  4.131202e+08   -17.080110   -473.206951   \n",
      "PAY_AMT5      8.629502e+04  4.305657e+08   -12.458809   -487.335947   \n",
      "PAY_AMT6      4.618460e+05  5.065153e+08   -24.051885   -522.673379   \n",
      "DEFAULT_PRED -5.015171e+01 -8.267552e+03    -0.008113      0.009187   \n",
      "\n",
      "                 MARRIAGE            AGE         PAY_0         PAY_2  \\\n",
      "ID            -131.452515    1491.057019   -297.572636   -116.276959   \n",
      "LIMIT_BAL    -7323.669658  173076.722569 -39545.930009 -46037.648360   \n",
      "SEX             -0.008014      -0.409726     -0.031685     -0.041442   \n",
      "EDUCATION       -0.059184       1.275380      0.093584      0.115025   \n",
      "MARRIAGE         0.272452      -1.992764      0.011683      0.015122   \n",
      "AGE             -1.992764      84.969755     -0.408639     -0.553408   \n",
      "PAY_0            0.011683      -0.408639      1.262930      0.904330   \n",
      "PAY_2            0.015122      -0.553408      0.904330      1.433254   \n",
      "PAY_3            0.020421      -0.585263      0.772384      1.098371   \n",
      "PAY_4            0.020213      -0.535851      0.707972      0.926680   \n",
      "PAY_5            0.021074      -0.562245      0.648743      0.844886   \n",
      "PAY_6            0.020616      -0.517022      0.613292      0.792320   \n",
      "BILL_AMT1     -902.154685   38172.933546  15480.304170  20706.614217   \n",
      "BILL_AMT2     -802.517866   35613.657962  15185.916919  20045.829482   \n",
      "BILL_AMT3     -901.679085   34334.251320  14011.556537  18609.510991   \n",
      "BILL_AMT4     -783.881599   30453.108180  12950.248389  17116.298983   \n",
      "BILL_AMT5     -805.840875   27654.067800  12341.668685  16110.952468   \n",
      "BILL_AMT6     -659.223347   26137.648547  11844.759724  15642.875812   \n",
      "PAY_AMT1       -51.691615    3992.041735  -1475.495089  -1600.240756   \n",
      "PAY_AMT2       -97.327974    4626.861549  -1815.138407  -1627.192336   \n",
      "PAY_AMT3       -32.546082    4746.824393  -1396.168258  -1178.331282   \n",
      "PAY_AMT4      -103.518204    3087.324192  -1126.847945   -878.843879   \n",
      "PAY_AMT5        -9.607709    3218.052172   -999.107730   -678.468530   \n",
      "PAY_AMT6       -61.623271    3191.903901  -1172.193614   -776.835035   \n",
      "DEFAULT_PRED    -0.005273       0.053143      0.151499      0.130960   \n",
      "\n",
      "                     PAY_3         PAY_4      ...          BILL_AMT4  \\\n",
      "ID             -191.692156    -27.691323      ...       2.248126e+07   \n",
      "LIMIT_BAL    -44432.253315 -40571.811859      ...       2.453926e+09   \n",
      "SEX              -0.038694     -0.034411      ...      -6.884896e+02   \n",
      "EDUCATION         0.107861      0.100528      ...      -2.294883e+01   \n",
      "MARRIAGE          0.020421      0.020213      ...      -7.838816e+02   \n",
      "AGE              -0.585263     -0.535851      ...       3.045311e+04   \n",
      "PAY_0             0.772384      0.707972      ...       1.295025e+04   \n",
      "PAY_2             1.098371      0.926680      ...       1.711630e+04   \n",
      "PAY_3             1.432492      1.087761      ...       1.749410e+04   \n",
      "PAY_4             1.087761      1.366885      ...       1.849642e+04   \n",
      "PAY_5             0.931455      1.086161      ...       1.982293e+04   \n",
      "PAY_6             0.870815      0.963263      ...       1.970555e+04   \n",
      "BILL_AMT1     18373.210469  17460.198259      ...       4.075286e+09   \n",
      "BILL_AMT2     20214.071495  18790.627741      ...       4.086508e+09   \n",
      "BILL_AMT3     18882.491544  19862.999426      ...       4.122238e+09   \n",
      "BILL_AMT4     17494.100555  18496.423186      ...       4.138716e+09   \n",
      "BILL_AMT5     16382.947539  17265.551898      ...       3.677105e+09   \n",
      "BILL_AMT6     15847.089648  16651.586314      ...       3.451762e+09   \n",
      "PAY_AMT1         25.668468   -181.295613      ...       2.482888e+08   \n",
      "PAY_AMT2      -1841.952825    -52.358166      ...       3.076686e+08   \n",
      "PAY_AMT3      -1123.428782  -1425.205189      ...       3.398374e+08   \n",
      "PAY_AMT4       -863.762183   -796.035739      ...       1.312133e+08   \n",
      "PAY_AMT5       -655.796002   -599.991629      ...       1.576892e+08   \n",
      "PAY_AMT6       -763.026041   -552.137338      ...       2.031590e+08   \n",
      "DEFAULT_PRED      0.116867      0.105115      ...      -2.711999e+02   \n",
      "\n",
      "                 BILL_AMT5     BILL_AMT6      PAY_AMT1      PAY_AMT2  \\\n",
      "ID            8.795803e+06  8.628506e+06  1.397501e+06  1.677383e+06   \n",
      "LIMIT_BAL     2.331481e+09  2.243837e+09  4.195711e+08  5.333504e+08   \n",
      "SEX          -5.056943e+02 -4.874302e+02 -1.964266e+00 -1.567550e+01   \n",
      "EDUCATION    -3.635777e+02 -4.282742e+02 -4.903302e+02 -5.470050e+02   \n",
      "MARRIAGE     -8.058409e+02 -6.592233e+02 -5.169161e+01 -9.732797e+01   \n",
      "AGE           2.765407e+04  2.613765e+04  3.992042e+03  4.626862e+03   \n",
      "PAY_0         1.234167e+04  1.184476e+04 -1.475495e+03 -1.815138e+03   \n",
      "PAY_2         1.611095e+04  1.564288e+04 -1.600241e+03 -1.627192e+03   \n",
      "PAY_3         1.638295e+04  1.584709e+04  2.566847e+01 -1.841953e+03   \n",
      "PAY_4         1.726555e+04  1.665159e+04 -1.812956e+02 -5.235817e+01   \n",
      "PAY_5         1.858659e+04  1.771569e+04 -1.142817e+02 -8.332449e+01   \n",
      "PAY_6         2.033812e+04  1.952488e+04 -2.850067e+01 -1.383995e+02   \n",
      "BILL_AMT1     3.714795e+09  3.519876e+09  1.710894e+08  1.685692e+08   \n",
      "BILL_AMT2     3.720401e+09  3.524868e+09  3.305146e+08  1.653859e+08   \n",
      "BILL_AMT3     3.726780e+09  3.524247e+09  2.806565e+08  5.064226e+08   \n",
      "BILL_AMT4     3.677105e+09  3.451762e+09  2.482888e+08  3.076686e+08   \n",
      "BILL_AMT5     3.696294e+09  3.425914e+09  2.185501e+08  2.538936e+08   \n",
      "BILL_AMT6     3.425914e+09  3.546692e+09  1.972478e+08  2.369244e+08   \n",
      "PAY_AMT1      2.185501e+08  1.972478e+08  2.743423e+08  1.089849e+08   \n",
      "PAY_AMT2      2.538936e+08  2.369244e+08  1.089849e+08  5.308817e+08   \n",
      "PAY_AMT3      2.700805e+08  2.451233e+08  7.354626e+07  9.929841e+07   \n",
      "PAY_AMT4      2.791830e+08  2.334670e+08  5.178189e+07  6.501168e+07   \n",
      "PAY_AMT5      1.315051e+08  2.799982e+08  3.756893e+07  6.368414e+07   \n",
      "PAY_AMT6      1.774537e+08  1.222761e+08  5.469033e+07  6.456816e+07   \n",
      "DEFAULT_PRED -1.705974e+02 -1.327963e+02 -5.013746e+02 -5.602107e+02   \n",
      "\n",
      "                  PAY_AMT3      PAY_AMT4      PAY_AMT5      PAY_AMT6  \\\n",
      "ID            5.969803e+06  1.057334e+06  8.629502e+04  4.618460e+05   \n",
      "LIMIT_BAL     4.801180e+08  4.131202e+08  4.305657e+08  5.065153e+08   \n",
      "SEX          -7.403481e+01 -1.708011e+01 -1.245881e+01 -2.405188e+01   \n",
      "EDUCATION    -5.558343e+02 -4.732070e+02 -4.873359e+02 -5.226734e+02   \n",
      "MARRIAGE     -3.254608e+01 -1.035182e+02 -9.607709e+00 -6.162327e+01   \n",
      "AGE           4.746824e+03  3.087324e+03  3.218052e+03  3.191904e+03   \n",
      "PAY_0        -1.396168e+03 -1.126848e+03 -9.991077e+02 -1.172194e+03   \n",
      "PAY_2        -1.178331e+03 -8.788439e+02 -6.784685e+02 -7.768350e+02   \n",
      "PAY_3        -1.123429e+03 -8.637622e+02 -6.557960e+02 -7.630260e+02   \n",
      "PAY_4        -1.425205e+03 -7.960357e+02 -5.999916e+02 -5.521373e+02   \n",
      "PAY_5         1.808121e+02 -1.034962e+03 -5.771610e+02 -4.638926e+02   \n",
      "PAY_6         1.181210e+02  3.426237e+02 -8.158327e+02 -5.172163e+02   \n",
      "BILL_AMT1     2.034048e+08  1.826164e+08  1.879091e+08  2.347681e+08   \n",
      "BILL_AMT2     1.888731e+08  1.643518e+08  1.717652e+08  2.204845e+08   \n",
      "BILL_AMT3     1.587478e+08  1.558003e+08  1.904126e+08  2.247817e+08   \n",
      "BILL_AMT4     3.398374e+08  1.312133e+08  1.576892e+08  2.031590e+08   \n",
      "BILL_AMT5     2.700805e+08  2.791830e+08  1.315051e+08  1.774537e+08   \n",
      "BILL_AMT6     2.451233e+08  2.334670e+08  2.799982e+08  1.222761e+08   \n",
      "PAY_AMT1      7.354626e+07  5.178189e+07  3.756893e+07  5.469033e+07   \n",
      "PAY_AMT2      9.929841e+07  6.501168e+07  6.368414e+07  6.456816e+07   \n",
      "PAY_AMT3      3.100051e+08  5.966970e+07  4.282921e+07  5.093879e+07   \n",
      "PAY_AMT4      5.966970e+07  2.454286e+08  3.634098e+07  4.395747e+07   \n",
      "PAY_AMT5      4.282921e+07  3.634098e+07  2.334266e+08  4.207110e+07   \n",
      "PAY_AMT6      5.093879e+07  4.395747e+07  4.207110e+07  3.160383e+08   \n",
      "DEFAULT_PRED -4.110763e+02 -3.695159e+02 -3.495625e+02 -3.924264e+02   \n",
      "\n",
      "              DEFAULT_PRED  \n",
      "ID              -50.151705  \n",
      "LIMIT_BAL     -8267.551759  \n",
      "SEX              -0.008113  \n",
      "EDUCATION         0.009187  \n",
      "MARRIAGE         -0.005273  \n",
      "AGE               0.053143  \n",
      "PAY_0             0.151499  \n",
      "PAY_2             0.130960  \n",
      "PAY_3             0.116867  \n",
      "PAY_4             0.105115  \n",
      "PAY_5             0.096020  \n",
      "PAY_6             0.089194  \n",
      "BILL_AMT1      -600.394108  \n",
      "BILL_AMT2      -419.289137  \n",
      "BILL_AMT3      -405.153680  \n",
      "BILL_AMT4      -271.199885  \n",
      "BILL_AMT5      -170.597447  \n",
      "BILL_AMT6      -132.796294  \n",
      "PAY_AMT1       -501.374552  \n",
      "PAY_AMT2       -560.210740  \n",
      "PAY_AMT3       -411.076284  \n",
      "PAY_AMT4       -369.515887  \n",
      "PAY_AMT5       -349.562530  \n",
      "PAY_AMT6       -392.426415  \n",
      "DEFAULT_PRED      0.172276  \n",
      "\n",
      "[25 rows x 25 columns]\n"
     ]
    }
   ],
   "source": [
    "covMat = creditData.cov()\n",
    "print(covMat)"
   ]
  },
  {
   "cell_type": "code",
   "execution_count": 17,
   "metadata": {},
   "outputs": [],
   "source": [
    "# And check correlation with a basic Correlation Matrix"
   ]
  },
  {
   "cell_type": "code",
   "execution_count": 18,
   "metadata": {},
   "outputs": [
    {
     "name": "stdout",
     "output_type": "stream",
     "text": [
      "                    ID  LIMIT_BAL       SEX  EDUCATION  MARRIAGE       AGE  \\\n",
      "ID            1.000000   0.026179  0.018497   0.039177 -0.029079  0.018678   \n",
      "LIMIT_BAL     0.026179   1.000000  0.024755  -0.219161 -0.108139  0.144713   \n",
      "SEX           0.018497   0.024755  1.000000   0.014232 -0.031389 -0.090874   \n",
      "EDUCATION     0.039177  -0.219161  0.014232   1.000000 -0.143464  0.175061   \n",
      "MARRIAGE     -0.029079  -0.108139 -0.031389  -0.143464  1.000000 -0.414170   \n",
      "AGE           0.018678   0.144713 -0.090874   0.175061 -0.414170  1.000000   \n",
      "PAY_0        -0.030575  -0.271214 -0.057643   0.105364  0.019917 -0.039447   \n",
      "PAY_2        -0.011215  -0.296382 -0.070771   0.121566  0.024199 -0.050148   \n",
      "PAY_3        -0.018494  -0.286123 -0.066096   0.114025  0.032688 -0.053048   \n",
      "PAY_4        -0.002735  -0.267460 -0.060173   0.108793  0.033122 -0.049722   \n",
      "PAY_5        -0.022199  -0.249411 -0.055064   0.097520  0.035629 -0.053826   \n",
      "PAY_6        -0.020270  -0.235195 -0.044008   0.082316  0.034345 -0.048773   \n",
      "BILL_AMT1     0.019389   0.285430 -0.033642   0.023581 -0.023472  0.056239   \n",
      "BILL_AMT2     0.017982   0.278314 -0.031183   0.018749 -0.021602  0.054283   \n",
      "BILL_AMT3     0.024354   0.283236 -0.024563   0.013002 -0.024909  0.053710   \n",
      "BILL_AMT4     0.040351   0.293988 -0.021880  -0.000451 -0.023344  0.051353   \n",
      "BILL_AMT5     0.016705   0.295562 -0.017005  -0.007567 -0.025393  0.049345   \n",
      "BILL_AMT6     0.016730   0.290389 -0.016733  -0.009099 -0.021207  0.047613   \n",
      "PAY_AMT1      0.009742   0.195236 -0.000242  -0.037456 -0.005979  0.026147   \n",
      "PAY_AMT2      0.008406   0.178408 -0.001391  -0.030038 -0.008093  0.021785   \n",
      "PAY_AMT3      0.039151   0.210167 -0.008597  -0.039943 -0.003541  0.029247   \n",
      "PAY_AMT4      0.007793   0.203242 -0.002229  -0.038218 -0.012659  0.021379   \n",
      "PAY_AMT5      0.000652   0.217202 -0.001667  -0.040358 -0.001205  0.022850   \n",
      "PAY_AMT6      0.003000   0.219595 -0.002766  -0.037200 -0.006641  0.019478   \n",
      "DEFAULT_PRED -0.013952  -0.153520 -0.039961   0.028006 -0.024339  0.013890   \n",
      "\n",
      "                 PAY_0     PAY_2     PAY_3     PAY_4      ...       BILL_AMT4  \\\n",
      "ID           -0.030575 -0.011215 -0.018494 -0.002735      ...        0.040351   \n",
      "LIMIT_BAL    -0.271214 -0.296382 -0.286123 -0.267460      ...        0.293988   \n",
      "SEX          -0.057643 -0.070771 -0.066096 -0.060173      ...       -0.021880   \n",
      "EDUCATION     0.105364  0.121566  0.114025  0.108793      ...       -0.000451   \n",
      "MARRIAGE      0.019917  0.024199  0.032688  0.033122      ...       -0.023344   \n",
      "AGE          -0.039447 -0.050148 -0.053048 -0.049722      ...        0.051353   \n",
      "PAY_0         1.000000  0.672164  0.574245  0.538841      ...        0.179125   \n",
      "PAY_2         0.672164  1.000000  0.766552  0.662067      ...        0.222237   \n",
      "PAY_3         0.574245  0.766552  1.000000  0.777359      ...        0.227202   \n",
      "PAY_4         0.538841  0.662067  0.777359  1.000000      ...        0.245917   \n",
      "PAY_5         0.509426  0.622780  0.686775  0.819835      ...        0.271915   \n",
      "PAY_6         0.474553  0.575501  0.632684  0.716449      ...        0.266356   \n",
      "BILL_AMT1     0.187068  0.234887  0.208473  0.202812      ...        0.860272   \n",
      "BILL_AMT2     0.189859  0.235257  0.237295  0.225816      ...        0.892482   \n",
      "BILL_AMT3     0.179785  0.224146  0.227494  0.244983      ...        0.923969   \n",
      "BILL_AMT4     0.179125  0.222237  0.227202  0.245917      ...        1.000000   \n",
      "BILL_AMT5     0.180635  0.221348  0.225145  0.242902      ...        0.940134   \n",
      "BILL_AMT6     0.176980  0.219403  0.222327  0.239154      ...        0.900941   \n",
      "PAY_AMT1     -0.079269 -0.080701  0.001295 -0.009362      ...        0.233012   \n",
      "PAY_AMT2     -0.070101 -0.058990 -0.066793 -0.001944      ...        0.207564   \n",
      "PAY_AMT3     -0.070561 -0.055901 -0.053311 -0.069235      ...        0.300023   \n",
      "PAY_AMT4     -0.064005 -0.046858 -0.046067 -0.043461      ...        0.130191   \n",
      "PAY_AMT5     -0.058190 -0.037093 -0.035863 -0.033590      ...        0.160433   \n",
      "PAY_AMT6     -0.058673 -0.036500 -0.035861 -0.026565      ...        0.177637   \n",
      "DEFAULT_PRED  0.324794  0.263551  0.235253  0.216614      ...       -0.010156   \n",
      "\n",
      "              BILL_AMT5  BILL_AMT6  PAY_AMT1  PAY_AMT2  PAY_AMT3  PAY_AMT4  \\\n",
      "ID             0.016705   0.016730  0.009742  0.008406  0.039151  0.007793   \n",
      "LIMIT_BAL      0.295562   0.290389  0.195236  0.178408  0.210167  0.203242   \n",
      "SEX           -0.017005  -0.016733 -0.000242 -0.001391 -0.008597 -0.002229   \n",
      "EDUCATION     -0.007567  -0.009099 -0.037456 -0.030038 -0.039943 -0.038218   \n",
      "MARRIAGE      -0.025393  -0.021207 -0.005979 -0.008093 -0.003541 -0.012659   \n",
      "AGE            0.049345   0.047613  0.026147  0.021785  0.029247  0.021379   \n",
      "PAY_0          0.180635   0.176980 -0.079269 -0.070101 -0.070561 -0.064005   \n",
      "PAY_2          0.221348   0.219403 -0.080701 -0.058990 -0.055901 -0.046858   \n",
      "PAY_3          0.225145   0.222327  0.001295 -0.066793 -0.053311 -0.046067   \n",
      "PAY_4          0.242902   0.239154 -0.009362 -0.001944 -0.069235 -0.043461   \n",
      "PAY_5          0.269783   0.262509 -0.006089 -0.003191  0.009062 -0.058299   \n",
      "PAY_6          0.290894   0.285091 -0.001496 -0.005223  0.005834  0.019018   \n",
      "BILL_AMT1      0.829779   0.802650  0.140277  0.099355  0.156887  0.158303   \n",
      "BILL_AMT2      0.859778   0.831594  0.280365  0.100851  0.150718  0.147398   \n",
      "BILL_AMT3      0.883910   0.853320  0.244335  0.316936  0.130011  0.143405   \n",
      "BILL_AMT4      0.940134   0.900941  0.233012  0.207564  0.300023  0.130191   \n",
      "BILL_AMT5      1.000000   0.946197  0.217031  0.181246  0.252305  0.293118   \n",
      "BILL_AMT6      0.946197   1.000000  0.199965  0.172663  0.233770  0.250237   \n",
      "PAY_AMT1       0.217031   0.199965  1.000000  0.285576  0.252191  0.199558   \n",
      "PAY_AMT2       0.181246   0.172663  0.285576  1.000000  0.244770  0.180107   \n",
      "PAY_AMT3       0.252305   0.233770  0.252191  0.244770  1.000000  0.216325   \n",
      "PAY_AMT4       0.293118   0.250237  0.199558  0.180107  0.216325  1.000000   \n",
      "PAY_AMT5       0.141574   0.307729  0.148459  0.180908  0.159214  0.151830   \n",
      "PAY_AMT6       0.164184   0.115494  0.185735  0.157634  0.162740  0.157834   \n",
      "DEFAULT_PRED  -0.006760  -0.005372 -0.072929 -0.058579 -0.056250 -0.056827   \n",
      "\n",
      "              PAY_AMT5  PAY_AMT6  DEFAULT_PRED  \n",
      "ID            0.000652  0.003000     -0.013952  \n",
      "LIMIT_BAL     0.217202  0.219595     -0.153520  \n",
      "SEX          -0.001667 -0.002766     -0.039961  \n",
      "EDUCATION    -0.040358 -0.037200      0.028006  \n",
      "MARRIAGE     -0.001205 -0.006641     -0.024339  \n",
      "AGE           0.022850  0.019478      0.013890  \n",
      "PAY_0        -0.058190 -0.058673      0.324794  \n",
      "PAY_2        -0.037093 -0.036500      0.263551  \n",
      "PAY_3        -0.035863 -0.035861      0.235253  \n",
      "PAY_4        -0.033590 -0.026565      0.216614  \n",
      "PAY_5        -0.033337 -0.023027      0.204149  \n",
      "PAY_6        -0.046434 -0.025299      0.186866  \n",
      "BILL_AMT1     0.167026  0.179341     -0.019644  \n",
      "BILL_AMT2     0.157957  0.174256     -0.014193  \n",
      "BILL_AMT3     0.179712  0.182326     -0.014076  \n",
      "BILL_AMT4     0.160433  0.177637     -0.010156  \n",
      "BILL_AMT5     0.141574  0.164184     -0.006760  \n",
      "BILL_AMT6     0.307729  0.115494     -0.005372  \n",
      "PAY_AMT1      0.148459  0.185735     -0.072929  \n",
      "PAY_AMT2      0.180908  0.157634     -0.058579  \n",
      "PAY_AMT3      0.159214  0.162740     -0.056250  \n",
      "PAY_AMT4      0.151830  0.157834     -0.056827  \n",
      "PAY_AMT5      1.000000  0.154896     -0.055124  \n",
      "PAY_AMT6      0.154896  1.000000     -0.053183  \n",
      "DEFAULT_PRED -0.055124 -0.053183      1.000000  \n",
      "\n",
      "[25 rows x 25 columns]\n"
     ]
    }
   ],
   "source": [
    "corrMat = creditData.corr()\n",
    "print(corrMat)"
   ]
  },
  {
   "cell_type": "code",
   "execution_count": 19,
   "metadata": {},
   "outputs": [],
   "source": [
    "# SciKit methods to view Covariance are, frankly, overwhelming\n",
    "# Examples aren't clear to me; can't figure out what all the pieces mean\n",
    "# Moving on"
   ]
  },
  {
   "cell_type": "code",
   "execution_count": 20,
   "metadata": {},
   "outputs": [],
   "source": [
    "# Select features"
   ]
  },
  {
   "cell_type": "code",
   "execution_count": 21,
   "metadata": {},
   "outputs": [
    {
     "name": "stdout",
     "output_type": "stream",
     "text": [
      "Summary of feature sample\n"
     ]
    },
    {
     "data": {
      "text/html": [
       "<div>\n",
       "<style scoped>\n",
       "    .dataframe tbody tr th:only-of-type {\n",
       "        vertical-align: middle;\n",
       "    }\n",
       "\n",
       "    .dataframe tbody tr th {\n",
       "        vertical-align: top;\n",
       "    }\n",
       "\n",
       "    .dataframe thead th {\n",
       "        text-align: right;\n",
       "    }\n",
       "</style>\n",
       "<table border=\"1\" class=\"dataframe\">\n",
       "  <thead>\n",
       "    <tr style=\"text-align: right;\">\n",
       "      <th></th>\n",
       "      <th>BILL_AMT1</th>\n",
       "      <th>BILL_AMT2</th>\n",
       "      <th>BILL_AMT3</th>\n",
       "      <th>BILL_AMT4</th>\n",
       "      <th>BILL_AMT5</th>\n",
       "      <th>BILL_AMT6</th>\n",
       "      <th>PAY_AMT1</th>\n",
       "      <th>PAY_AMT2</th>\n",
       "      <th>PAY_AMT3</th>\n",
       "      <th>PAY_AMT4</th>\n",
       "      <th>PAY_AMT5</th>\n",
       "      <th>PAY_AMT6</th>\n",
       "    </tr>\n",
       "  </thead>\n",
       "  <tbody>\n",
       "    <tr>\n",
       "      <th>0</th>\n",
       "      <td>3913</td>\n",
       "      <td>3102</td>\n",
       "      <td>689</td>\n",
       "      <td>0</td>\n",
       "      <td>0</td>\n",
       "      <td>0</td>\n",
       "      <td>0</td>\n",
       "      <td>689</td>\n",
       "      <td>0</td>\n",
       "      <td>0</td>\n",
       "      <td>0</td>\n",
       "      <td>0</td>\n",
       "    </tr>\n",
       "    <tr>\n",
       "      <th>1</th>\n",
       "      <td>2682</td>\n",
       "      <td>1725</td>\n",
       "      <td>2682</td>\n",
       "      <td>3272</td>\n",
       "      <td>3455</td>\n",
       "      <td>3261</td>\n",
       "      <td>0</td>\n",
       "      <td>1000</td>\n",
       "      <td>1000</td>\n",
       "      <td>1000</td>\n",
       "      <td>0</td>\n",
       "      <td>2000</td>\n",
       "    </tr>\n",
       "    <tr>\n",
       "      <th>2</th>\n",
       "      <td>29239</td>\n",
       "      <td>14027</td>\n",
       "      <td>13559</td>\n",
       "      <td>14331</td>\n",
       "      <td>14948</td>\n",
       "      <td>15549</td>\n",
       "      <td>1518</td>\n",
       "      <td>1500</td>\n",
       "      <td>1000</td>\n",
       "      <td>1000</td>\n",
       "      <td>1000</td>\n",
       "      <td>5000</td>\n",
       "    </tr>\n",
       "    <tr>\n",
       "      <th>3</th>\n",
       "      <td>46990</td>\n",
       "      <td>48233</td>\n",
       "      <td>49291</td>\n",
       "      <td>28314</td>\n",
       "      <td>28959</td>\n",
       "      <td>29547</td>\n",
       "      <td>2000</td>\n",
       "      <td>2019</td>\n",
       "      <td>1200</td>\n",
       "      <td>1100</td>\n",
       "      <td>1069</td>\n",
       "      <td>1000</td>\n",
       "    </tr>\n",
       "    <tr>\n",
       "      <th>4</th>\n",
       "      <td>8617</td>\n",
       "      <td>5670</td>\n",
       "      <td>35835</td>\n",
       "      <td>20940</td>\n",
       "      <td>19146</td>\n",
       "      <td>19131</td>\n",
       "      <td>2000</td>\n",
       "      <td>36681</td>\n",
       "      <td>10000</td>\n",
       "      <td>9000</td>\n",
       "      <td>689</td>\n",
       "      <td>679</td>\n",
       "    </tr>\n",
       "  </tbody>\n",
       "</table>\n",
       "</div>"
      ],
      "text/plain": [
       "   BILL_AMT1  BILL_AMT2  BILL_AMT3  BILL_AMT4  BILL_AMT5  BILL_AMT6  PAY_AMT1  \\\n",
       "0       3913       3102        689          0          0          0         0   \n",
       "1       2682       1725       2682       3272       3455       3261         0   \n",
       "2      29239      14027      13559      14331      14948      15549      1518   \n",
       "3      46990      48233      49291      28314      28959      29547      2000   \n",
       "4       8617       5670      35835      20940      19146      19131      2000   \n",
       "\n",
       "   PAY_AMT2  PAY_AMT3  PAY_AMT4  PAY_AMT5  PAY_AMT6  \n",
       "0       689         0         0         0         0  \n",
       "1      1000      1000      1000         0      2000  \n",
       "2      1500      1000      1000      1000      5000  \n",
       "3      2019      1200      1100      1069      1000  \n",
       "4     36681     10000      9000       689       679  "
      ]
     },
     "execution_count": 21,
     "metadata": {},
     "output_type": "execute_result"
    }
   ],
   "source": [
    "features = creditData.iloc[:,12:24]\n",
    "print('Summary of feature sample')\n",
    "features.head()"
   ]
  },
  {
   "cell_type": "code",
   "execution_count": 22,
   "metadata": {},
   "outputs": [],
   "source": [
    "# Select dependent variable"
   ]
  },
  {
   "cell_type": "code",
   "execution_count": 23,
   "metadata": {},
   "outputs": [],
   "source": [
    "depVar = creditData['DEFAULT_PRED']"
   ]
  },
  {
   "cell_type": "code",
   "execution_count": 24,
   "metadata": {},
   "outputs": [],
   "source": [
    "# create Training Set for X variables"
   ]
  },
  {
   "cell_type": "code",
   "execution_count": 25,
   "metadata": {},
   "outputs": [
    {
     "data": {
      "text/html": [
       "<div>\n",
       "<style scoped>\n",
       "    .dataframe tbody tr th:only-of-type {\n",
       "        vertical-align: middle;\n",
       "    }\n",
       "\n",
       "    .dataframe tbody tr th {\n",
       "        vertical-align: top;\n",
       "    }\n",
       "\n",
       "    .dataframe thead th {\n",
       "        text-align: right;\n",
       "    }\n",
       "</style>\n",
       "<table border=\"1\" class=\"dataframe\">\n",
       "  <thead>\n",
       "    <tr style=\"text-align: right;\">\n",
       "      <th></th>\n",
       "      <th>BILL_AMT1</th>\n",
       "      <th>BILL_AMT2</th>\n",
       "      <th>BILL_AMT3</th>\n",
       "      <th>BILL_AMT4</th>\n",
       "      <th>BILL_AMT5</th>\n",
       "      <th>BILL_AMT6</th>\n",
       "      <th>PAY_AMT1</th>\n",
       "      <th>PAY_AMT2</th>\n",
       "      <th>PAY_AMT3</th>\n",
       "      <th>PAY_AMT4</th>\n",
       "      <th>PAY_AMT5</th>\n",
       "      <th>PAY_AMT6</th>\n",
       "    </tr>\n",
       "  </thead>\n",
       "  <tbody>\n",
       "    <tr>\n",
       "      <th>0</th>\n",
       "      <td>3913</td>\n",
       "      <td>3102</td>\n",
       "      <td>689</td>\n",
       "      <td>0</td>\n",
       "      <td>0</td>\n",
       "      <td>0</td>\n",
       "      <td>0</td>\n",
       "      <td>689</td>\n",
       "      <td>0</td>\n",
       "      <td>0</td>\n",
       "      <td>0</td>\n",
       "      <td>0</td>\n",
       "    </tr>\n",
       "    <tr>\n",
       "      <th>1</th>\n",
       "      <td>2682</td>\n",
       "      <td>1725</td>\n",
       "      <td>2682</td>\n",
       "      <td>3272</td>\n",
       "      <td>3455</td>\n",
       "      <td>3261</td>\n",
       "      <td>0</td>\n",
       "      <td>1000</td>\n",
       "      <td>1000</td>\n",
       "      <td>1000</td>\n",
       "      <td>0</td>\n",
       "      <td>2000</td>\n",
       "    </tr>\n",
       "    <tr>\n",
       "      <th>2</th>\n",
       "      <td>29239</td>\n",
       "      <td>14027</td>\n",
       "      <td>13559</td>\n",
       "      <td>14331</td>\n",
       "      <td>14948</td>\n",
       "      <td>15549</td>\n",
       "      <td>1518</td>\n",
       "      <td>1500</td>\n",
       "      <td>1000</td>\n",
       "      <td>1000</td>\n",
       "      <td>1000</td>\n",
       "      <td>5000</td>\n",
       "    </tr>\n",
       "    <tr>\n",
       "      <th>3</th>\n",
       "      <td>46990</td>\n",
       "      <td>48233</td>\n",
       "      <td>49291</td>\n",
       "      <td>28314</td>\n",
       "      <td>28959</td>\n",
       "      <td>29547</td>\n",
       "      <td>2000</td>\n",
       "      <td>2019</td>\n",
       "      <td>1200</td>\n",
       "      <td>1100</td>\n",
       "      <td>1069</td>\n",
       "      <td>1000</td>\n",
       "    </tr>\n",
       "    <tr>\n",
       "      <th>4</th>\n",
       "      <td>8617</td>\n",
       "      <td>5670</td>\n",
       "      <td>35835</td>\n",
       "      <td>20940</td>\n",
       "      <td>19146</td>\n",
       "      <td>19131</td>\n",
       "      <td>2000</td>\n",
       "      <td>36681</td>\n",
       "      <td>10000</td>\n",
       "      <td>9000</td>\n",
       "      <td>689</td>\n",
       "      <td>679</td>\n",
       "    </tr>\n",
       "  </tbody>\n",
       "</table>\n",
       "</div>"
      ],
      "text/plain": [
       "   BILL_AMT1  BILL_AMT2  BILL_AMT3  BILL_AMT4  BILL_AMT5  BILL_AMT6  PAY_AMT1  \\\n",
       "0       3913       3102        689          0          0          0         0   \n",
       "1       2682       1725       2682       3272       3455       3261         0   \n",
       "2      29239      14027      13559      14331      14948      15549      1518   \n",
       "3      46990      48233      49291      28314      28959      29547      2000   \n",
       "4       8617       5670      35835      20940      19146      19131      2000   \n",
       "\n",
       "   PAY_AMT2  PAY_AMT3  PAY_AMT4  PAY_AMT5  PAY_AMT6  \n",
       "0       689         0         0         0         0  \n",
       "1      1000      1000      1000         0      2000  \n",
       "2      1500      1000      1000      1000      5000  \n",
       "3      2019      1200      1100      1069      1000  \n",
       "4     36681     10000      9000       689       679  "
      ]
     },
     "execution_count": 25,
     "metadata": {},
     "output_type": "execute_result"
    }
   ],
   "source": [
    "X_train = (features[: 21000])\n",
    "X_train.head()"
   ]
  },
  {
   "cell_type": "code",
   "execution_count": 26,
   "metadata": {},
   "outputs": [],
   "source": [
    "# create Training Set for Y variable"
   ]
  },
  {
   "cell_type": "code",
   "execution_count": 27,
   "metadata": {},
   "outputs": [
    {
     "name": "stdout",
     "output_type": "stream",
     "text": [
      "The number of observations in the Y training set are: 21000\n"
     ]
    },
    {
     "data": {
      "text/plain": [
       "0    1\n",
       "1    1\n",
       "2    0\n",
       "3    0\n",
       "4    0\n",
       "Name: DEFAULT_PRED, dtype: int64"
      ]
     },
     "execution_count": 27,
     "metadata": {},
     "output_type": "execute_result"
    }
   ],
   "source": [
    "y_train = depVar[: 21000]\n",
    "y_train_count = len(y_train.index)\n",
    "print('The number of observations in the Y training set are:',str(y_train_count))\n",
    "y_train.head()"
   ]
  },
  {
   "cell_type": "code",
   "execution_count": 28,
   "metadata": {},
   "outputs": [],
   "source": [
    "# create Testing Set for X variables"
   ]
  },
  {
   "cell_type": "code",
   "execution_count": 29,
   "metadata": {},
   "outputs": [
    {
     "name": "stdout",
     "output_type": "stream",
     "text": [
      "The number of observations in the feature testing set is: 9000\n",
      "       BILL_AMT1  BILL_AMT2  BILL_AMT3  BILL_AMT4  BILL_AMT5  BILL_AMT6  \\\n",
      "21000          0        780          0       1170        780          0   \n",
      "21001     178220     184848     188411     191291     189029     192023   \n",
      "21002     128602     118109      21557      23186      14117      15797   \n",
      "21003     160106     162743      81890          0          0          0   \n",
      "21004      79237      65301      67253      67352      74448      72928   \n",
      "\n",
      "       PAY_AMT1  PAY_AMT2  PAY_AMT3  PAY_AMT4  PAY_AMT5  PAY_AMT6  \n",
      "21000       780         0      1170         0         0         0  \n",
      "21001     10000      9000      8000      6738      6974      7600  \n",
      "21002      3203      6015      5055      2011      4078      4522  \n",
      "21003      7600      4000         0         0         0         0  \n",
      "21004      3000      4005      2500     10000         0      5000  \n"
     ]
    }
   ],
   "source": [
    "X_test = features[-9000:]\n",
    "X_test_count = len(X_test.index)\n",
    "print('The number of observations in the feature testing set is:',str(X_test_count))\n",
    "print(X_test.head())"
   ]
  },
  {
   "cell_type": "code",
   "execution_count": 30,
   "metadata": {},
   "outputs": [],
   "source": [
    "# create Testing Set for Y variable; establish Ground Truth"
   ]
  },
  {
   "cell_type": "code",
   "execution_count": 31,
   "metadata": {},
   "outputs": [
    {
     "name": "stdout",
     "output_type": "stream",
     "text": [
      "The number of observations in the Y training set are: 21000\n"
     ]
    },
    {
     "data": {
      "text/plain": [
       "0    1\n",
       "1    1\n",
       "2    0\n",
       "3    0\n",
       "4    0\n",
       "Name: DEFAULT_PRED, dtype: int64"
      ]
     },
     "execution_count": 31,
     "metadata": {},
     "output_type": "execute_result"
    }
   ],
   "source": [
    "y_test = depVar[:-9000]\n",
    "y_test_count = len(y_test.index)\n",
    "print('The number of observations in the Y training set are:',str(y_test_count))\n",
    "y_test.head()"
   ]
  },
  {
   "cell_type": "code",
   "execution_count": 32,
   "metadata": {},
   "outputs": [],
   "source": [
    "# Cross validation"
   ]
  },
  {
   "cell_type": "code",
   "execution_count": 33,
   "metadata": {},
   "outputs": [
    {
     "data": {
      "text/plain": [
       "((15750, 12), (5250, 12))"
      ]
     },
     "execution_count": 33,
     "metadata": {},
     "output_type": "execute_result"
    }
   ],
   "source": [
    "X_train, X_test, y_train, y_test = train_test_split(X_train, y_train)\n",
    "X_train.shape, X_test.shape"
   ]
  },
  {
   "cell_type": "code",
   "execution_count": 34,
   "metadata": {},
   "outputs": [],
   "source": [
    "# Use RFE to find best features to set"
   ]
  },
  {
   "cell_type": "code",
   "execution_count": 50,
   "metadata": {},
   "outputs": [
    {
     "name": "stdout",
     "output_type": "stream",
     "text": [
      "[ True  True  True  True  True  True  True  True  True  True  True  True\n",
      "  True  True  True  True  True  True  True  True  True  True  True False\n",
      "  True]\n",
      "[1 1 1 1 1 1 1 1 1 1 1 1 1 1 1 1 1 1 1 1 1 1 1 2 1]\n"
     ]
    }
   ],
   "source": [
    "svm = LinearSVC()\n",
    "rfe = RFE(svm, 24)\n",
    "rfe = rfe.fit(creditData, creditData.DEFAULT_PRED)\n",
    "print(rfe.support_)\n",
    "print(rfe.ranking_)"
   ]
  },
  {
   "cell_type": "code",
   "execution_count": 45,
   "metadata": {},
   "outputs": [],
   "source": [
    "# Illustrate results"
   ]
  },
  {
   "cell_type": "code",
   "execution_count": 51,
   "metadata": {},
   "outputs": [
    {
     "ename": "ValueError",
     "evalue": "not enough values to unpack (expected 2, got 1)",
     "output_type": "error",
     "traceback": [
      "\u001b[0;31m---------------------------------------------------------------------------\u001b[0m",
      "\u001b[0;31mValueError\u001b[0m                                Traceback (most recent call last)",
      "\u001b[0;32m<ipython-input-51-993afb49e811>\u001b[0m in \u001b[0;36m<module>\u001b[0;34m()\u001b[0m\n\u001b[0;32m----> 1\u001b[0;31m \u001b[0mplt\u001b[0m\u001b[0;34m.\u001b[0m\u001b[0mmatshow\u001b[0m\u001b[0;34m(\u001b[0m\u001b[0mrfe\u001b[0m\u001b[0;34m.\u001b[0m\u001b[0mranking_\u001b[0m\u001b[0;34m,\u001b[0m \u001b[0mcmap\u001b[0m\u001b[0;34m=\u001b[0m\u001b[0mplt\u001b[0m\u001b[0;34m.\u001b[0m\u001b[0mcm\u001b[0m\u001b[0;34m.\u001b[0m\u001b[0mBlues\u001b[0m\u001b[0;34m)\u001b[0m\u001b[0;34m\u001b[0m\u001b[0m\n\u001b[0m\u001b[1;32m      2\u001b[0m \u001b[0mplt\u001b[0m\u001b[0;34m.\u001b[0m\u001b[0mcolorbar\u001b[0m\u001b[0;34m(\u001b[0m\u001b[0;34m)\u001b[0m\u001b[0;34m\u001b[0m\u001b[0m\n\u001b[1;32m      3\u001b[0m \u001b[0mplt\u001b[0m\u001b[0;34m.\u001b[0m\u001b[0mshow\u001b[0m\u001b[0;34m(\u001b[0m\u001b[0;34m)\u001b[0m\u001b[0;34m\u001b[0m\u001b[0m\n",
      "\u001b[0;32m/anaconda3/lib/python3.6/site-packages/matplotlib/pyplot.py\u001b[0m in \u001b[0;36mmatshow\u001b[0;34m(A, fignum, **kw)\u001b[0m\n\u001b[1;32m   2292\u001b[0m     \u001b[0;32melse\u001b[0m\u001b[0;34m:\u001b[0m\u001b[0;34m\u001b[0m\u001b[0m\n\u001b[1;32m   2293\u001b[0m         \u001b[0;31m# Extract actual aspect ratio of array and make appropriately sized figure\u001b[0m\u001b[0;34m\u001b[0m\u001b[0;34m\u001b[0m\u001b[0m\n\u001b[0;32m-> 2294\u001b[0;31m         \u001b[0mfig\u001b[0m \u001b[0;34m=\u001b[0m \u001b[0mfigure\u001b[0m\u001b[0;34m(\u001b[0m\u001b[0mfignum\u001b[0m\u001b[0;34m,\u001b[0m \u001b[0mfigsize\u001b[0m\u001b[0;34m=\u001b[0m\u001b[0mfigaspect\u001b[0m\u001b[0;34m(\u001b[0m\u001b[0mA\u001b[0m\u001b[0;34m)\u001b[0m\u001b[0;34m)\u001b[0m\u001b[0;34m\u001b[0m\u001b[0m\n\u001b[0m\u001b[1;32m   2295\u001b[0m         \u001b[0max\u001b[0m  \u001b[0;34m=\u001b[0m \u001b[0mfig\u001b[0m\u001b[0;34m.\u001b[0m\u001b[0madd_axes\u001b[0m\u001b[0;34m(\u001b[0m\u001b[0;34m[\u001b[0m\u001b[0;36m0.15\u001b[0m\u001b[0;34m,\u001b[0m \u001b[0;36m0.09\u001b[0m\u001b[0;34m,\u001b[0m \u001b[0;36m0.775\u001b[0m\u001b[0;34m,\u001b[0m \u001b[0;36m0.775\u001b[0m\u001b[0;34m]\u001b[0m\u001b[0;34m)\u001b[0m\u001b[0;34m\u001b[0m\u001b[0m\n\u001b[1;32m   2296\u001b[0m \u001b[0;34m\u001b[0m\u001b[0m\n",
      "\u001b[0;32m/anaconda3/lib/python3.6/site-packages/matplotlib/figure.py\u001b[0m in \u001b[0;36mfigaspect\u001b[0;34m(arg)\u001b[0m\n\u001b[1;32m   2069\u001b[0m     \u001b[0;31m# Extract the aspect ratio of the array\u001b[0m\u001b[0;34m\u001b[0m\u001b[0;34m\u001b[0m\u001b[0m\n\u001b[1;32m   2070\u001b[0m     \u001b[0;32mif\u001b[0m \u001b[0misarray\u001b[0m\u001b[0;34m:\u001b[0m\u001b[0;34m\u001b[0m\u001b[0m\n\u001b[0;32m-> 2071\u001b[0;31m         \u001b[0mnr\u001b[0m\u001b[0;34m,\u001b[0m \u001b[0mnc\u001b[0m \u001b[0;34m=\u001b[0m \u001b[0marg\u001b[0m\u001b[0;34m.\u001b[0m\u001b[0mshape\u001b[0m\u001b[0;34m[\u001b[0m\u001b[0;34m:\u001b[0m\u001b[0;36m2\u001b[0m\u001b[0;34m]\u001b[0m\u001b[0;34m\u001b[0m\u001b[0m\n\u001b[0m\u001b[1;32m   2072\u001b[0m         \u001b[0marr_ratio\u001b[0m \u001b[0;34m=\u001b[0m \u001b[0mfloat\u001b[0m\u001b[0;34m(\u001b[0m\u001b[0mnr\u001b[0m\u001b[0;34m)\u001b[0m \u001b[0;34m/\u001b[0m \u001b[0mnc\u001b[0m\u001b[0;34m\u001b[0m\u001b[0m\n\u001b[1;32m   2073\u001b[0m     \u001b[0;32melse\u001b[0m\u001b[0;34m:\u001b[0m\u001b[0;34m\u001b[0m\u001b[0m\n",
      "\u001b[0;31mValueError\u001b[0m: not enough values to unpack (expected 2, got 1)"
     ]
    }
   ],
   "source": [
    "plt.matshow(rfe.ranking_, cmap=plt.cm.Blues)\n",
    "plt.colorbar()\n",
    "plt.show()"
   ]
  },
  {
   "cell_type": "code",
   "execution_count": 80,
   "metadata": {},
   "outputs": [],
   "source": [
    "# error:\n",
    "# ---------------------------------------------------------------------------\n",
    "# ValueError                                Traceback (most recent call last)\n",
    "# <ipython-input-51-993afb49e811> in <module>()\n",
    "# ----> 1 plt.matshow(rfe.ranking_, cmap=plt.cm.Blues)\n",
    "#      2 plt.colorbar()\n",
    "#      3 plt.show()\n",
    "\n",
    "# /anaconda3/lib/python3.6/site-packages/matplotlib/pyplot.py in matshow(A, fignum, **kw)\n",
    "#   2292     else:\n",
    "#   2293         # Extract actual aspect ratio of array and make appropriately sized figure\n",
    "# -> 2294         fig = figure(fignum, figsize=figaspect(A))\n",
    "#   2295         ax  = fig.add_axes([0.15, 0.09, 0.775, 0.775])\n",
    "#   2296 \n",
    "\n",
    "# /anaconda3/lib/python3.6/site-packages/matplotlib/figure.py in figaspect(arg)\n",
    "#   2069     # Extract the aspect ratio of the array\n",
    "#   2070     if isarray:\n",
    "# -> 2071         nr, nc = arg.shape[:2]\n",
    "#   2072         arr_ratio = float(nr) / nc\n",
    "#   2073     else:\n",
    "\n",
    "# ValueError: not enough values to unpack (expected 2, got 1)\n",
    "\n",
    "# This is actually 8th attempt\n",
    "# At least I finally got some kind of result\n",
    "# Even if it's still not right\n",
    "# It's getting late...\n",
    "# Moving on"
   ]
  },
  {
   "cell_type": "code",
   "execution_count": 53,
   "metadata": {},
   "outputs": [],
   "source": [
    "# Models we'll use"
   ]
  },
  {
   "cell_type": "code",
   "execution_count": 54,
   "metadata": {},
   "outputs": [],
   "source": [
    "modelRF = RandomForestClassifier()\n",
    "modelDT = tree.DecisionTreeClassifier()\n",
    "modelKNN = KNeighborsClassifier()"
   ]
  },
  {
   "cell_type": "code",
   "execution_count": 55,
   "metadata": {},
   "outputs": [],
   "source": [
    "# Review of features we'll be using"
   ]
  },
  {
   "cell_type": "code",
   "execution_count": 56,
   "metadata": {},
   "outputs": [
    {
     "name": "stdout",
     "output_type": "stream",
     "text": [
      "Summary of feature sample\n"
     ]
    },
    {
     "data": {
      "text/html": [
       "<div>\n",
       "<style scoped>\n",
       "    .dataframe tbody tr th:only-of-type {\n",
       "        vertical-align: middle;\n",
       "    }\n",
       "\n",
       "    .dataframe tbody tr th {\n",
       "        vertical-align: top;\n",
       "    }\n",
       "\n",
       "    .dataframe thead th {\n",
       "        text-align: right;\n",
       "    }\n",
       "</style>\n",
       "<table border=\"1\" class=\"dataframe\">\n",
       "  <thead>\n",
       "    <tr style=\"text-align: right;\">\n",
       "      <th></th>\n",
       "      <th>BILL_AMT1</th>\n",
       "      <th>BILL_AMT2</th>\n",
       "      <th>BILL_AMT3</th>\n",
       "      <th>BILL_AMT4</th>\n",
       "      <th>BILL_AMT5</th>\n",
       "      <th>BILL_AMT6</th>\n",
       "      <th>PAY_AMT1</th>\n",
       "      <th>PAY_AMT2</th>\n",
       "      <th>PAY_AMT3</th>\n",
       "      <th>PAY_AMT4</th>\n",
       "      <th>PAY_AMT5</th>\n",
       "      <th>PAY_AMT6</th>\n",
       "    </tr>\n",
       "  </thead>\n",
       "  <tbody>\n",
       "    <tr>\n",
       "      <th>0</th>\n",
       "      <td>3913</td>\n",
       "      <td>3102</td>\n",
       "      <td>689</td>\n",
       "      <td>0</td>\n",
       "      <td>0</td>\n",
       "      <td>0</td>\n",
       "      <td>0</td>\n",
       "      <td>689</td>\n",
       "      <td>0</td>\n",
       "      <td>0</td>\n",
       "      <td>0</td>\n",
       "      <td>0</td>\n",
       "    </tr>\n",
       "    <tr>\n",
       "      <th>1</th>\n",
       "      <td>2682</td>\n",
       "      <td>1725</td>\n",
       "      <td>2682</td>\n",
       "      <td>3272</td>\n",
       "      <td>3455</td>\n",
       "      <td>3261</td>\n",
       "      <td>0</td>\n",
       "      <td>1000</td>\n",
       "      <td>1000</td>\n",
       "      <td>1000</td>\n",
       "      <td>0</td>\n",
       "      <td>2000</td>\n",
       "    </tr>\n",
       "    <tr>\n",
       "      <th>2</th>\n",
       "      <td>29239</td>\n",
       "      <td>14027</td>\n",
       "      <td>13559</td>\n",
       "      <td>14331</td>\n",
       "      <td>14948</td>\n",
       "      <td>15549</td>\n",
       "      <td>1518</td>\n",
       "      <td>1500</td>\n",
       "      <td>1000</td>\n",
       "      <td>1000</td>\n",
       "      <td>1000</td>\n",
       "      <td>5000</td>\n",
       "    </tr>\n",
       "    <tr>\n",
       "      <th>3</th>\n",
       "      <td>46990</td>\n",
       "      <td>48233</td>\n",
       "      <td>49291</td>\n",
       "      <td>28314</td>\n",
       "      <td>28959</td>\n",
       "      <td>29547</td>\n",
       "      <td>2000</td>\n",
       "      <td>2019</td>\n",
       "      <td>1200</td>\n",
       "      <td>1100</td>\n",
       "      <td>1069</td>\n",
       "      <td>1000</td>\n",
       "    </tr>\n",
       "    <tr>\n",
       "      <th>4</th>\n",
       "      <td>8617</td>\n",
       "      <td>5670</td>\n",
       "      <td>35835</td>\n",
       "      <td>20940</td>\n",
       "      <td>19146</td>\n",
       "      <td>19131</td>\n",
       "      <td>2000</td>\n",
       "      <td>36681</td>\n",
       "      <td>10000</td>\n",
       "      <td>9000</td>\n",
       "      <td>689</td>\n",
       "      <td>679</td>\n",
       "    </tr>\n",
       "  </tbody>\n",
       "</table>\n",
       "</div>"
      ],
      "text/plain": [
       "   BILL_AMT1  BILL_AMT2  BILL_AMT3  BILL_AMT4  BILL_AMT5  BILL_AMT6  PAY_AMT1  \\\n",
       "0       3913       3102        689          0          0          0         0   \n",
       "1       2682       1725       2682       3272       3455       3261         0   \n",
       "2      29239      14027      13559      14331      14948      15549      1518   \n",
       "3      46990      48233      49291      28314      28959      29547      2000   \n",
       "4       8617       5670      35835      20940      19146      19131      2000   \n",
       "\n",
       "   PAY_AMT2  PAY_AMT3  PAY_AMT4  PAY_AMT5  PAY_AMT6  \n",
       "0       689         0         0         0         0  \n",
       "1      1000      1000      1000         0      2000  \n",
       "2      1500      1000      1000      1000      5000  \n",
       "3      2019      1200      1100      1069      1000  \n",
       "4     36681     10000      9000       689       679  "
      ]
     },
     "execution_count": 56,
     "metadata": {},
     "output_type": "execute_result"
    }
   ],
   "source": [
    "features = creditData.iloc[:,12:24]\n",
    "print('Summary of feature sample')\n",
    "features.head()"
   ]
  },
  {
   "cell_type": "code",
   "execution_count": 57,
   "metadata": {},
   "outputs": [],
   "source": [
    "# Check dependent variable"
   ]
  },
  {
   "cell_type": "code",
   "execution_count": 58,
   "metadata": {},
   "outputs": [
    {
     "name": "stdout",
     "output_type": "stream",
     "text": [
      "0        1\n",
      "1        1\n",
      "2        0\n",
      "3        0\n",
      "4        0\n",
      "5        0\n",
      "6        0\n",
      "7        0\n",
      "8        0\n",
      "9        0\n",
      "10       0\n",
      "11       0\n",
      "12       0\n",
      "13       1\n",
      "14       0\n",
      "15       0\n",
      "16       1\n",
      "17       0\n",
      "18       0\n",
      "19       0\n",
      "20       0\n",
      "21       1\n",
      "22       1\n",
      "23       1\n",
      "24       0\n",
      "25       0\n",
      "26       1\n",
      "27       0\n",
      "28       0\n",
      "29       0\n",
      "        ..\n",
      "29970    0\n",
      "29971    0\n",
      "29972    0\n",
      "29973    1\n",
      "29974    1\n",
      "29975    0\n",
      "29976    1\n",
      "29977    0\n",
      "29978    0\n",
      "29979    0\n",
      "29980    0\n",
      "29981    0\n",
      "29982    1\n",
      "29983    0\n",
      "29984    0\n",
      "29985    0\n",
      "29986    0\n",
      "29987    0\n",
      "29988    0\n",
      "29989    0\n",
      "29990    0\n",
      "29991    1\n",
      "29992    0\n",
      "29993    0\n",
      "29994    1\n",
      "29995    0\n",
      "29996    0\n",
      "29997    1\n",
      "29998    1\n",
      "29999    1\n",
      "Name: DEFAULT_PRED, Length: 30000, dtype: int64\n"
     ]
    }
   ],
   "source": [
    "print(depVar)"
   ]
  },
  {
   "cell_type": "code",
   "execution_count": 59,
   "metadata": {},
   "outputs": [],
   "source": [
    "# Fit the data to the models"
   ]
  },
  {
   "cell_type": "code",
   "execution_count": 60,
   "metadata": {},
   "outputs": [
    {
     "data": {
      "text/plain": [
       "RandomForestClassifier(bootstrap=True, class_weight=None, criterion='gini',\n",
       "            max_depth=None, max_features='auto', max_leaf_nodes=None,\n",
       "            min_impurity_decrease=0.0, min_impurity_split=None,\n",
       "            min_samples_leaf=1, min_samples_split=2,\n",
       "            min_weight_fraction_leaf=0.0, n_estimators=10, n_jobs=1,\n",
       "            oob_score=False, random_state=None, verbose=0,\n",
       "            warm_start=False)"
      ]
     },
     "execution_count": 60,
     "metadata": {},
     "output_type": "execute_result"
    }
   ],
   "source": [
    "# Random Forest\n",
    "modelRF.fit(X_train,y_train)"
   ]
  },
  {
   "cell_type": "code",
   "execution_count": 61,
   "metadata": {},
   "outputs": [
    {
     "data": {
      "text/plain": [
       "DecisionTreeClassifier(class_weight=None, criterion='gini', max_depth=None,\n",
       "            max_features=None, max_leaf_nodes=None,\n",
       "            min_impurity_decrease=0.0, min_impurity_split=None,\n",
       "            min_samples_leaf=1, min_samples_split=2,\n",
       "            min_weight_fraction_leaf=0.0, presort=False, random_state=None,\n",
       "            splitter='best')"
      ]
     },
     "execution_count": 61,
     "metadata": {},
     "output_type": "execute_result"
    }
   ],
   "source": [
    "# Decision Tree\n",
    "modelDT.fit(X_train,y_train)"
   ]
  },
  {
   "cell_type": "code",
   "execution_count": 62,
   "metadata": {},
   "outputs": [
    {
     "data": {
      "text/plain": [
       "KNeighborsClassifier(algorithm='auto', leaf_size=30, metric='minkowski',\n",
       "           metric_params=None, n_jobs=1, n_neighbors=5, p=2,\n",
       "           weights='uniform')"
      ]
     },
     "execution_count": 62,
     "metadata": {},
     "output_type": "execute_result"
    }
   ],
   "source": [
    "# KNN\n",
    "modelKNN.fit(X_train,y_train)"
   ]
  },
  {
   "cell_type": "code",
   "execution_count": 63,
   "metadata": {},
   "outputs": [],
   "source": [
    "# Check the training Score for each"
   ]
  },
  {
   "cell_type": "code",
   "execution_count": 64,
   "metadata": {},
   "outputs": [
    {
     "name": "stdout",
     "output_type": "stream",
     "text": [
      "[0.76628571 0.77009524 0.76095238]\n"
     ]
    },
    {
     "data": {
      "text/plain": [
       "0.9645079365079365"
      ]
     },
     "execution_count": 64,
     "metadata": {},
     "output_type": "execute_result"
    }
   ],
   "source": [
    "# Random Forest\n",
    "print(cross_val_score(modelRF, X_train, y_train))\n",
    "modelRF.score(X_train,y_train)"
   ]
  },
  {
   "cell_type": "code",
   "execution_count": 65,
   "metadata": {},
   "outputs": [
    {
     "name": "stdout",
     "output_type": "stream",
     "text": [
      "[0.67504762 0.68990476 0.68647619]\n"
     ]
    },
    {
     "data": {
      "text/plain": [
       "0.9878095238095238"
      ]
     },
     "execution_count": 65,
     "metadata": {},
     "output_type": "execute_result"
    }
   ],
   "source": [
    "# Decision Tree\n",
    "print(cross_val_score(modelDT, X_train, y_train))\n",
    "modelDT.score(X_train,y_train)"
   ]
  },
  {
   "cell_type": "code",
   "execution_count": 66,
   "metadata": {},
   "outputs": [
    {
     "name": "stdout",
     "output_type": "stream",
     "text": [
      "[0.74895238 0.7472381  0.74742857]\n"
     ]
    },
    {
     "data": {
      "text/plain": [
       "0.8066666666666666"
      ]
     },
     "execution_count": 66,
     "metadata": {},
     "output_type": "execute_result"
    }
   ],
   "source": [
    "# KNN\n",
    "print(cross_val_score(modelKNN, X_train, y_train))\n",
    "modelKNN.score(X_train,y_train)"
   ]
  },
  {
   "cell_type": "code",
   "execution_count": 67,
   "metadata": {},
   "outputs": [],
   "source": [
    "# Make Predictions\n",
    "# Choose model\n",
    "# Decision Tree "
   ]
  },
  {
   "cell_type": "code",
   "execution_count": 68,
   "metadata": {},
   "outputs": [
    {
     "name": "stdout",
     "output_type": "stream",
     "text": [
      "R Squared: -0.727\n",
      "RMSE: 0.549\n"
     ]
    }
   ],
   "source": [
    "predictions = modelDT.predict(X_test)\n",
    "predRsquared = r2_score(y_test,predictions)\n",
    "rmse = sqrt(mean_squared_error(y_test, predictions))\n",
    "print('R Squared: %.3f' % predRsquared)\n",
    "print('RMSE: %.3f' % rmse)"
   ]
  },
  {
   "cell_type": "code",
   "execution_count": 69,
   "metadata": {},
   "outputs": [],
   "source": [
    "# Plot the results\n",
    "# Using Scatterplot"
   ]
  },
  {
   "cell_type": "code",
   "execution_count": 70,
   "metadata": {},
   "outputs": [
    {
     "data": {
      "image/png": "[encoded data removed]",
      "text/plain": [
       "<matplotlib.figure.Figure at 0x1a09c78eb8>"
      ]
     },
     "metadata": {},
     "output_type": "display_data"
    }
   ],
   "source": [
    "plt.scatter(y_test, predictions, color=['blue','green'], alpha = 0.5)\n",
    "plt.xlabel('Ground Truth')\n",
    "plt.ylabel('Predictions')\n",
    "plt.show();"
   ]
  },
  {
   "cell_type": "code",
   "execution_count": null,
   "metadata": {},
   "outputs": [],
   "source": [
    "# Using Count Plot"
   ]
  },
  {
   "cell_type": "code",
   "execution_count": 79,
   "metadata": {},
   "outputs": [
    {
     "data": {
      "text/plain": [
       "<matplotlib.axes._subplots.AxesSubplot at 0x1a14219710>"
      ]
     },
     "execution_count": 79,
     "metadata": {},
     "output_type": "execute_result"
    },
    {
     "data": {
      "image/png": "[encoded data removed]",
      "text/plain": [
       "<matplotlib.figure.Figure at 0x1019d61d0>"
      ]
     },
     "metadata": {},
     "output_type": "display_data"
    }
   ],
   "source": [
    "sns.countplot(x=\"DEFAULT_PRED\",\n",
    " palette=\"Greens_d\", \n",
    " data=creditData)"
   ]
  },
  {
   "cell_type": "code",
   "execution_count": 81,
   "metadata": {},
   "outputs": [],
   "source": [
    "# Try a Factor Plot"
   ]
  },
  {
   "cell_type": "code",
   "execution_count": 82,
   "metadata": {},
   "outputs": [
    {
     "data": {
      "text/plain": [
       "<seaborn.axisgrid.FacetGrid at 0x1a142111d0>"
      ]
     },
     "execution_count": 82,
     "metadata": {},
     "output_type": "execute_result"
    },
    {
     "data": {
      "image/png": "[encoded data removed]",
      "text/plain": [
       "<matplotlib.figure.Figure at 0x1a0a2394a8>"
      ]
     },
     "metadata": {},
     "output_type": "display_data"
    }
   ],
   "source": [
    "sns.factorplot(x=\"AGE\", \n",
    " y=\"SEX\", \n",
    " hue=\"DEFAULT_PRED\",\n",
    " data=creditData) "
   ]
  },
  {
   "cell_type": "code",
   "execution_count": 83,
   "metadata": {},
   "outputs": [],
   "source": [
    "# Let's add age buckets and make it clearer\n",
    "# Not too late, is it? Guess we'll find out!"
   ]
  },
  {
   "cell_type": "code",
   "execution_count": 87,
   "metadata": {},
   "outputs": [
    {
     "data": {
      "text/plain": [
       "[20, 29, 39, 49, 59, 69, 80]"
      ]
     },
     "execution_count": 87,
     "metadata": {},
     "output_type": "execute_result"
    }
   ],
   "source": [
    "custom_bucket_array = ([20, 29, 39, 49, 59, 69, 80 ])\n",
    "custom_bucket_array"
   ]
  },
  {
   "cell_type": "code",
   "execution_count": 88,
   "metadata": {},
   "outputs": [
    {
     "data": {
      "text/html": [
       "<div>\n",
       "<style scoped>\n",
       "    .dataframe tbody tr th:only-of-type {\n",
       "        vertical-align: middle;\n",
       "    }\n",
       "\n",
       "    .dataframe tbody tr th {\n",
       "        vertical-align: top;\n",
       "    }\n",
       "\n",
       "    .dataframe thead th {\n",
       "        text-align: right;\n",
       "    }\n",
       "</style>\n",
       "<table border=\"1\" class=\"dataframe\">\n",
       "  <thead>\n",
       "    <tr style=\"text-align: right;\">\n",
       "      <th></th>\n",
       "      <th>ID</th>\n",
       "      <th>LIMIT_BAL</th>\n",
       "      <th>SEX</th>\n",
       "      <th>EDUCATION</th>\n",
       "      <th>MARRIAGE</th>\n",
       "      <th>AGE</th>\n",
       "      <th>PAY_0</th>\n",
       "      <th>PAY_2</th>\n",
       "      <th>PAY_3</th>\n",
       "      <th>PAY_4</th>\n",
       "      <th>...</th>\n",
       "      <th>BILL_AMT5</th>\n",
       "      <th>BILL_AMT6</th>\n",
       "      <th>PAY_AMT1</th>\n",
       "      <th>PAY_AMT2</th>\n",
       "      <th>PAY_AMT3</th>\n",
       "      <th>PAY_AMT4</th>\n",
       "      <th>PAY_AMT5</th>\n",
       "      <th>PAY_AMT6</th>\n",
       "      <th>DEFAULT_PRED</th>\n",
       "      <th>AGE_LABEL</th>\n",
       "    </tr>\n",
       "  </thead>\n",
       "  <tbody>\n",
       "    <tr>\n",
       "      <th>0</th>\n",
       "      <td>1</td>\n",
       "      <td>20000</td>\n",
       "      <td>2</td>\n",
       "      <td>2</td>\n",
       "      <td>1</td>\n",
       "      <td>24</td>\n",
       "      <td>2</td>\n",
       "      <td>2</td>\n",
       "      <td>-1</td>\n",
       "      <td>-1</td>\n",
       "      <td>...</td>\n",
       "      <td>0</td>\n",
       "      <td>0</td>\n",
       "      <td>0</td>\n",
       "      <td>689</td>\n",
       "      <td>0</td>\n",
       "      <td>0</td>\n",
       "      <td>0</td>\n",
       "      <td>0</td>\n",
       "      <td>1</td>\n",
       "      <td>20</td>\n",
       "    </tr>\n",
       "    <tr>\n",
       "      <th>1</th>\n",
       "      <td>2</td>\n",
       "      <td>120000</td>\n",
       "      <td>2</td>\n",
       "      <td>2</td>\n",
       "      <td>2</td>\n",
       "      <td>26</td>\n",
       "      <td>-1</td>\n",
       "      <td>2</td>\n",
       "      <td>0</td>\n",
       "      <td>0</td>\n",
       "      <td>...</td>\n",
       "      <td>3455</td>\n",
       "      <td>3261</td>\n",
       "      <td>0</td>\n",
       "      <td>1000</td>\n",
       "      <td>1000</td>\n",
       "      <td>1000</td>\n",
       "      <td>0</td>\n",
       "      <td>2000</td>\n",
       "      <td>1</td>\n",
       "      <td>20</td>\n",
       "    </tr>\n",
       "    <tr>\n",
       "      <th>2</th>\n",
       "      <td>3</td>\n",
       "      <td>90000</td>\n",
       "      <td>2</td>\n",
       "      <td>2</td>\n",
       "      <td>2</td>\n",
       "      <td>34</td>\n",
       "      <td>0</td>\n",
       "      <td>0</td>\n",
       "      <td>0</td>\n",
       "      <td>0</td>\n",
       "      <td>...</td>\n",
       "      <td>14948</td>\n",
       "      <td>15549</td>\n",
       "      <td>1518</td>\n",
       "      <td>1500</td>\n",
       "      <td>1000</td>\n",
       "      <td>1000</td>\n",
       "      <td>1000</td>\n",
       "      <td>5000</td>\n",
       "      <td>0</td>\n",
       "      <td>30</td>\n",
       "    </tr>\n",
       "    <tr>\n",
       "      <th>3</th>\n",
       "      <td>4</td>\n",
       "      <td>50000</td>\n",
       "      <td>2</td>\n",
       "      <td>2</td>\n",
       "      <td>1</td>\n",
       "      <td>37</td>\n",
       "      <td>0</td>\n",
       "      <td>0</td>\n",
       "      <td>0</td>\n",
       "      <td>0</td>\n",
       "      <td>...</td>\n",
       "      <td>28959</td>\n",
       "      <td>29547</td>\n",
       "      <td>2000</td>\n",
       "      <td>2019</td>\n",
       "      <td>1200</td>\n",
       "      <td>1100</td>\n",
       "      <td>1069</td>\n",
       "      <td>1000</td>\n",
       "      <td>0</td>\n",
       "      <td>30</td>\n",
       "    </tr>\n",
       "    <tr>\n",
       "      <th>4</th>\n",
       "      <td>5</td>\n",
       "      <td>50000</td>\n",
       "      <td>1</td>\n",
       "      <td>2</td>\n",
       "      <td>1</td>\n",
       "      <td>57</td>\n",
       "      <td>-1</td>\n",
       "      <td>0</td>\n",
       "      <td>-1</td>\n",
       "      <td>0</td>\n",
       "      <td>...</td>\n",
       "      <td>19146</td>\n",
       "      <td>19131</td>\n",
       "      <td>2000</td>\n",
       "      <td>36681</td>\n",
       "      <td>10000</td>\n",
       "      <td>9000</td>\n",
       "      <td>689</td>\n",
       "      <td>679</td>\n",
       "      <td>0</td>\n",
       "      <td>50</td>\n",
       "    </tr>\n",
       "  </tbody>\n",
       "</table>\n",
       "<p>5 rows × 26 columns</p>\n",
       "</div>"
      ],
      "text/plain": [
       "   ID  LIMIT_BAL  SEX  EDUCATION  MARRIAGE  AGE  PAY_0  PAY_2  PAY_3  PAY_4  \\\n",
       "0   1      20000    2          2         1   24      2      2     -1     -1   \n",
       "1   2     120000    2          2         2   26     -1      2      0      0   \n",
       "2   3      90000    2          2         2   34      0      0      0      0   \n",
       "3   4      50000    2          2         1   37      0      0      0      0   \n",
       "4   5      50000    1          2         1   57     -1      0     -1      0   \n",
       "\n",
       "     ...      BILL_AMT5  BILL_AMT6  PAY_AMT1  PAY_AMT2  PAY_AMT3  PAY_AMT4  \\\n",
       "0    ...              0          0         0       689         0         0   \n",
       "1    ...           3455       3261         0      1000      1000      1000   \n",
       "2    ...          14948      15549      1518      1500      1000      1000   \n",
       "3    ...          28959      29547      2000      2019      1200      1100   \n",
       "4    ...          19146      19131      2000     36681     10000      9000   \n",
       "\n",
       "   PAY_AMT5  PAY_AMT6  DEFAULT_PRED  AGE_LABEL  \n",
       "0         0         0             1         20  \n",
       "1         0      2000             1         20  \n",
       "2      1000      5000             0         30  \n",
       "3      1069      1000             0         30  \n",
       "4       689       679             0         50  \n",
       "\n",
       "[5 rows x 26 columns]"
      ]
     },
     "execution_count": 88,
     "metadata": {},
     "output_type": "execute_result"
    }
   ],
   "source": [
    "creditData['AGE_LABEL'] = pd.cut(creditData['AGE'], custom_bucket_array, labels=[\"20\", \"30\", \"40\", \"50\", \"60\", \"70\"])\n",
    "creditData.head()"
   ]
  },
  {
   "cell_type": "code",
   "execution_count": 89,
   "metadata": {},
   "outputs": [],
   "source": [
    "# Try that Factor Plot again"
   ]
  },
  {
   "cell_type": "code",
   "execution_count": 96,
   "metadata": {},
   "outputs": [
    {
     "data": {
      "text/plain": [
       "<seaborn.axisgrid.FacetGrid at 0x1a15504240>"
      ]
     },
     "execution_count": 96,
     "metadata": {},
     "output_type": "execute_result"
    },
    {
     "data": {
      "image/png": "[encoded data removed]",
      "text/plain": [
       "<matplotlib.figure.Figure at 0x1a140d42e8>"
      ]
     },
     "metadata": {},
     "output_type": "display_data"
    }
   ],
   "source": [
    "sns.factorplot(x=\"AGE_LABEL\", \n",
    " y=\"SEX\", \n",
    " hue=\"DEFAULT_PRED\",\n",
    " data=creditData) "
   ]
  },
  {
   "cell_type": "code",
   "execution_count": 97,
   "metadata": {},
   "outputs": [],
   "source": [
    "# These two plots don't really make sense because SEX should be only 1 or 2/ Male or Female\n",
    "# I suppose I could go back to the data set, change that in the spreadsheet\n",
    "# But I don't have the time\n",
    "# Will remember in future\n",
    "# I feel like I'm going backwards. I should be plotting the test results."
   ]
  },
  {
   "cell_type": "code",
   "execution_count": 103,
   "metadata": {},
   "outputs": [],
   "source": [
    "# Wound up using Decision Tree for classification\n",
    "# Let's see if I can do a basic Decision Tree plot\n",
    "# following code from here: https://medium.com/@rnbrown/creating-and-visualizing-decision-trees-with-python-f8e8fa394176"
   ]
  },
  {
   "cell_type": "code",
   "execution_count": 105,
   "metadata": {},
   "outputs": [
    {
     "data": {
      "text/plain": [
       "DecisionTreeClassifier(class_weight=None, criterion='gini', max_depth=None,\n",
       "            max_features=None, max_leaf_nodes=None,\n",
       "            min_impurity_decrease=0.0, min_impurity_split=None,\n",
       "            min_samples_leaf=1, min_samples_split=2,\n",
       "            min_weight_fraction_leaf=0.0, presort=False, random_state=None,\n",
       "            splitter='best')"
      ]
     },
     "execution_count": 105,
     "metadata": {},
     "output_type": "execute_result"
    }
   ],
   "source": [
    "from sklearn.tree import DecisionTreeClassifier\n",
    "dtree=DecisionTreeClassifier()\n",
    "dtree.fit(creditData,creditData.DEFAULT_PRED)"
   ]
  },
  {
   "cell_type": "code",
   "execution_count": 139,
   "metadata": {
    "scrolled": true
   },
   "outputs": [
    {
     "ename": "ModuleNotFoundError",
     "evalue": "No module named 'pydotplus'",
     "output_type": "error",
     "traceback": [
      "\u001b[0;31m---------------------------------------------------------------------------\u001b[0m",
      "\u001b[0;31mModuleNotFoundError\u001b[0m                       Traceback (most recent call last)",
      "\u001b[0;32m<ipython-input-139-2560093d3401>\u001b[0m in \u001b[0;36m<module>\u001b[0;34m()\u001b[0m\n\u001b[1;32m      2\u001b[0m \u001b[0;32mfrom\u001b[0m \u001b[0mIPython\u001b[0m\u001b[0;34m.\u001b[0m\u001b[0mdisplay\u001b[0m \u001b[0;32mimport\u001b[0m \u001b[0mImage\u001b[0m\u001b[0;34m\u001b[0m\u001b[0m\n\u001b[1;32m      3\u001b[0m \u001b[0;32mfrom\u001b[0m \u001b[0msklearn\u001b[0m\u001b[0;34m.\u001b[0m\u001b[0mtree\u001b[0m \u001b[0;32mimport\u001b[0m \u001b[0mexport_graphviz\u001b[0m\u001b[0;34m\u001b[0m\u001b[0m\n\u001b[0;32m----> 4\u001b[0;31m \u001b[0;32mimport\u001b[0m \u001b[0mpydotplus\u001b[0m\u001b[0;34m\u001b[0m\u001b[0m\n\u001b[0m",
      "\u001b[0;31mModuleNotFoundError\u001b[0m: No module named 'pydotplus'"
     ]
    }
   ],
   "source": [
    "from sklearn.externals.six import StringIO  \n",
    "from IPython.display import Image  \n",
    "from sklearn.tree import export_graphviz\n",
    "import pydotplus"
   ]
  },
  {
   "cell_type": "code",
   "execution_count": null,
   "metadata": {},
   "outputs": [],
   "source": [
    "# Error\n",
    "# Who stole pydot plus?\n",
    "# Carmen Sandiego? \n",
    "# ---------------------------------------------------------------------------\n",
    "# ModuleNotFoundError                       Traceback (most recent call last)\n",
    "# <ipython-input-139-2560093d3401> in <module>()\n",
    "#      2 from IPython.display import Image\n",
    "#      3 from sklearn.tree import export_graphviz\n",
    "# ----> 4 import pydotplus\n",
    "\n",
    "# ModuleNotFoundError: No module named 'pydotplus'"
   ]
  },
  {
   "cell_type": "code",
   "execution_count": 140,
   "metadata": {},
   "outputs": [],
   "source": [
    "# Try Code anyway"
   ]
  },
  {
   "cell_type": "code",
   "execution_count": 142,
   "metadata": {},
   "outputs": [
    {
     "ename": "NameError",
     "evalue": "name 'pydotplus' is not defined",
     "output_type": "error",
     "traceback": [
      "\u001b[0;31m---------------------------------------------------------------------------\u001b[0m",
      "\u001b[0;31mNameError\u001b[0m                                 Traceback (most recent call last)",
      "\u001b[0;32m<ipython-input-142-d27b25a37acc>\u001b[0m in \u001b[0;36m<module>\u001b[0;34m()\u001b[0m\n\u001b[1;32m      3\u001b[0m                 \u001b[0mfilled\u001b[0m\u001b[0;34m=\u001b[0m\u001b[0;32mTrue\u001b[0m\u001b[0;34m,\u001b[0m \u001b[0mrounded\u001b[0m\u001b[0;34m=\u001b[0m\u001b[0;32mTrue\u001b[0m\u001b[0;34m,\u001b[0m\u001b[0;34m\u001b[0m\u001b[0m\n\u001b[1;32m      4\u001b[0m                 special_characters=True)\n\u001b[0;32m----> 5\u001b[0;31m \u001b[0mgraph\u001b[0m \u001b[0;34m=\u001b[0m \u001b[0mpydotplus\u001b[0m\u001b[0;34m.\u001b[0m\u001b[0mgraph_from_dot_data\u001b[0m\u001b[0;34m(\u001b[0m\u001b[0mdot_data\u001b[0m\u001b[0;34m.\u001b[0m\u001b[0mgetvalue\u001b[0m\u001b[0;34m(\u001b[0m\u001b[0;34m)\u001b[0m\u001b[0;34m)\u001b[0m\u001b[0;34m\u001b[0m\u001b[0m\n\u001b[0m\u001b[1;32m      6\u001b[0m \u001b[0mImage\u001b[0m\u001b[0;34m(\u001b[0m\u001b[0mgraph\u001b[0m\u001b[0;34m.\u001b[0m\u001b[0mcreate_png\u001b[0m\u001b[0;34m(\u001b[0m\u001b[0;34m)\u001b[0m\u001b[0;34m)\u001b[0m\u001b[0;34m\u001b[0m\u001b[0m\n",
      "\u001b[0;31mNameError\u001b[0m: name 'pydotplus' is not defined"
     ]
    }
   ],
   "source": [
    "dot_data = StringIO()\n",
    "export_graphviz(dtree, out_file=dot_data,  \n",
    "                filled=True, rounded=True,\n",
    "                special_characters=True)\n",
    "graph = pydotplus.graph_from_dot_data(dot_data.getvalue())  \n",
    "Image(graph.create_png())"
   ]
  },
  {
   "cell_type": "code",
   "execution_count": null,
   "metadata": {},
   "outputs": [],
   "source": [
    "# pydotplus apparently doesn't exist \n",
    "# Error don't lie\n",
    "# Although all resources say pydotplus is real\n",
    "# Brigadoon of code?\n",
    "# Will try an alternate version of code from another source\n",
    "# https://chrisalbon.com/machine_learning/trees_and_forests/visualize_a_decision_tree/"
   ]
  },
  {
   "cell_type": "code",
   "execution_count": 138,
   "metadata": {},
   "outputs": [
    {
     "ename": "TypeError",
     "evalue": "'method' object is not subscriptable",
     "output_type": "error",
     "traceback": [
      "\u001b[0;31m---------------------------------------------------------------------------\u001b[0m",
      "\u001b[0;31mTypeError\u001b[0m                                 Traceback (most recent call last)",
      "\u001b[0;32m<ipython-input-138-aad0d0803378>\u001b[0m in \u001b[0;36m<module>\u001b[0;34m()\u001b[0m\n\u001b[1;32m      1\u001b[0m \u001b[0;31m# Create DOT data\u001b[0m\u001b[0;34m\u001b[0m\u001b[0;34m\u001b[0m\u001b[0m\n\u001b[1;32m      2\u001b[0m dot_data = tree.export_graphviz(dtree, out_file=None, \n\u001b[0;32m----> 3\u001b[0;31m                                 \u001b[0mfeature_names\u001b[0m\u001b[0;34m=\u001b[0m\u001b[0mcreditData\u001b[0m\u001b[0;34m.\u001b[0m\u001b[0mhead\u001b[0m\u001b[0;34m[\u001b[0m\u001b[0;36m1\u001b[0m\u001b[0;34m:\u001b[0m\u001b[0;36m27\u001b[0m\u001b[0;34m]\u001b[0m\u001b[0;34m,\u001b[0m\u001b[0;34m\u001b[0m\u001b[0m\n\u001b[0m\u001b[1;32m      4\u001b[0m                                 class_names=creditData.DEFAULT_PRED)\n\u001b[1;32m      5\u001b[0m \u001b[0;34m\u001b[0m\u001b[0m\n",
      "\u001b[0;31mTypeError\u001b[0m: 'method' object is not subscriptable"
     ]
    }
   ],
   "source": [
    "# Create DOT data\n",
    "dot_data = tree.export_graphviz(dtree, out_file=None, \n",
    "                                feature_names=creditData.head[1:27],  \n",
    "                                class_names=creditData.DEFAULT_PRED)\n",
    "\n",
    "# Draw graph\n",
    "graph = pydotplus.graph_from_dot_data(dot_data)  \n",
    "\n",
    "# Show graph\n",
    "Image(graph.create_png())"
   ]
  },
  {
   "cell_type": "code",
   "execution_count": 130,
   "metadata": {},
   "outputs": [],
   "source": [
    "# Error\n",
    "# Has to be the 10th Error. I feel like I'm getting closer but it STILL doesn't want to give me a Decision Tree Plot\n",
    "# Which is annoying because I'd really like to do one\n",
    "\n",
    "\n",
    "# ---------------------------------------------------------------------------\n",
    "# TypeError                                 Traceback (most recent call last)\n",
    "# <ipython-input-125-880f1e0bc87e> in <module>()\n",
    "#      2 dot_data = tree.export_graphviz(dtree, out_file=None, \n",
    "#      3                                 feature_names=creditData.columns,\n",
    "# ----> 4                                 class_names=creditData.DEFAULT_PRED)\n",
    "#      5 \n",
    "#      6 # Draw graph\n",
    "\n",
    "# /anaconda3/lib/python3.6/site-packages/sklearn/tree/export.py in export_graphviz(decision_tree, out_file, max_depth, feature_names, class_names, label, filled, leaves_parallel, impurity, node_ids, proportion, rotate, rounded, special_characters, precision)\n",
    "#    462             recurse(decision_tree, 0, criterion=\"impurity\")\n",
    "#    463         else:\n",
    "# --> 464             recurse(decision_tree.tree_, 0, criterion=decision_tree.criterion)\n",
    "#    465 \n",
    "#    466         # If required, draw leaf nodes at same depth as each other\n",
    "\n",
    "# /anaconda3/lib/python3.6/site-packages/sklearn/tree/export.py in recurse(tree, node_id, criterion, parent, depth)\n",
    "#    330             out_file.write('%d [label=%s'\n",
    "#    331                            % (node_id,\n",
    "# --> 332                               node_to_str(tree, node_id, criterion)))\n",
    "#    333 \n",
    "#    334             if filled:\n",
    "\n",
    "# /anaconda3/lib/python3.6/site-packages/sklearn/tree/export.py in node_to_str(tree, node_id, criterion)\n",
    "#    300                                           np.argmax(value),\n",
    "#    301                                           characters[2])\n",
    "# --> 302             node_string += class_name\n",
    "#    303 \n",
    "#    304         # Clean up any trailing newlines\n",
    "\n",
    "# TypeError: must be str, not numpy.int64"
   ]
  },
  {
   "cell_type": "code",
   "execution_count": 136,
   "metadata": {},
   "outputs": [],
   "source": [
    "# And Error #11\n",
    "# For Good Measure\n",
    "\n",
    "# ---------------------------------------------------------------------------\n",
    "# ValueError                                Traceback (most recent call last)\n",
    "# <ipython-input-128-b010bcb69874> in <module>()\n",
    "#      2 dot_data = tree.export_graphviz(dtree, out_file=None, \n",
    "#      3                                 feature_names=creditData.head(),\n",
    "# ----> 4                                 class_names=creditData.DEFAULT_PRED)\n",
    "#      5 \n",
    "#      6 # Draw graph\n",
    "\n",
    "# /anaconda3/lib/python3.6/site-packages/sklearn/tree/export.py in export_graphviz(decision_tree, out_file, max_depth, feature_names, class_names, label, filled, leaves_parallel, impurity, node_ids, proportion, rotate, rounded, special_characters, precision)\n",
    "#    427                                  \"does not match number of features, %d\"\n",
    "#    428                                  % (len(feature_names),\n",
    "# --> 429                                     decision_tree.n_features_))\n",
    "#    430 \n",
    "#    431         # The depth of each node for plotting with 'leaf' option\n",
    "\n",
    "# ValueError: Length of feature_names, 5 does not match number of features, 26"
   ]
  },
  {
   "cell_type": "code",
   "execution_count": null,
   "metadata": {},
   "outputs": [],
   "source": [
    "# And Error #12\n",
    "# I give up\n",
    "# It is what it is\n",
    "\n",
    "# ---------------------------------------------------------------------------\n",
    "# TypeError                                 Traceback (most recent call last)\n",
    "# <ipython-input-135-aad0d0803378> in <module>()\n",
    "#      1 # Create DOT data\n",
    "#      2 dot_data = tree.export_graphviz(dtree, out_file=None, \n",
    "# ----> 3                                 feature_names=creditData.head[1:27],\n",
    "#       4                                 class_names=creditData.DEFAULT_PRED)\n",
    "#      5 \n",
    "\n",
    "# TypeError: 'method' object is not subscriptable"
   ]
  }
 ],
 "metadata": {
  "kernelspec": {
   "display_name": "Python 3",
   "language": "python",
   "name": "python3"
  },
  "language_info": {
   "codemirror_mode": {
    "name": "ipython",
    "version": 3
   },
   "file_extension": ".py",
   "mimetype": "text/x-python",
   "name": "python",
   "nbconvert_exporter": "python",
   "pygments_lexer": "ipython3",
   "version": "3.6.4"
  }
 },
 "nbformat": 4,
 "nbformat_minor": 2
}
